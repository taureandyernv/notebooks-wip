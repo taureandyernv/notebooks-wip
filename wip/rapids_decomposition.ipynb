{
 "cells": [
  {
   "cell_type": "code",
   "execution_count": 1,
   "metadata": {},
   "outputs": [
    {
     "name": "stdout",
     "output_type": "stream",
     "text": [
      "Requirement already satisfied: seaborn in /conda/envs/rapids/lib/python3.7/site-packages (0.9.0)\n",
      "Requirement already satisfied: matplotlib>=1.4.3 in /conda/envs/rapids/lib/python3.7/site-packages (from seaborn) (3.0.3)\n",
      "Requirement already satisfied: scipy>=0.14.0 in /conda/envs/rapids/lib/python3.7/site-packages (from seaborn) (1.2.1)\n",
      "Requirement already satisfied: numpy>=1.9.3 in /conda/envs/rapids/lib/python3.7/site-packages (from seaborn) (1.15.4)\n",
      "Requirement already satisfied: pandas>=0.15.2 in /conda/envs/rapids/lib/python3.7/site-packages (from seaborn) (0.23.4)\n",
      "Requirement already satisfied: pyparsing!=2.0.4,!=2.1.2,!=2.1.6,>=2.0.1 in /conda/envs/rapids/lib/python3.7/site-packages (from matplotlib>=1.4.3->seaborn) (2.4.0)\n",
      "Requirement already satisfied: python-dateutil>=2.1 in /conda/envs/rapids/lib/python3.7/site-packages (from matplotlib>=1.4.3->seaborn) (2.8.0)\n",
      "Requirement already satisfied: kiwisolver>=1.0.1 in /conda/envs/rapids/lib/python3.7/site-packages (from matplotlib>=1.4.3->seaborn) (1.0.1)\n",
      "Requirement already satisfied: cycler>=0.10 in /conda/envs/rapids/lib/python3.7/site-packages (from matplotlib>=1.4.3->seaborn) (0.10.0)\n",
      "Requirement already satisfied: pytz>=2011k in /conda/envs/rapids/lib/python3.7/site-packages (from pandas>=0.15.2->seaborn) (2018.9)\n",
      "Requirement already satisfied: six>=1.5 in /conda/envs/rapids/lib/python3.7/site-packages (from python-dateutil>=2.1->matplotlib>=1.4.3->seaborn) (1.12.0)\n",
      "Requirement already satisfied: setuptools in /conda/envs/rapids/lib/python3.7/site-packages (from kiwisolver>=1.0.1->matplotlib>=1.4.3->seaborn) (40.8.0)\n"
     ]
    }
   ],
   "source": [
    "!pip install seaborn\n",
    "import numpy as np\n",
    "import matplotlib.pyplot as plt\n",
    "import seaborn as sns\n",
    "import time\n",
    "import dask_cudf\n",
    "import cudf\n",
    "import cuml\n",
    "\n",
    "from sklearn import datasets, decomposition, manifold, preprocessing\n",
    "from colorsys import hsv_to_rgb\n",
    "import pdb\n",
    "\n",
    "#import umap"
   ]
  },
  {
   "cell_type": "code",
   "execution_count": 2,
   "metadata": {},
   "outputs": [],
   "source": [
    "sns.set(context=\"paper\", style=\"white\")\n",
    "\n",
    "blobs, blob_labels = datasets.make_blobs(\n",
    "    n_samples=500, n_features=10, centers=5, random_state=42\n",
    ")\n",
    "iris = datasets.load_iris()\n",
    "digits = datasets.load_digits(n_class=10)\n",
    "wine = datasets.load_wine()\n",
    "swissroll, swissroll_labels = datasets.make_swiss_roll(\n",
    "    n_samples=1000, noise=0.1, random_state=42\n",
    ")\n",
    "sphere = np.random.normal(size=(600, 3))\n",
    "sphere = preprocessing.normalize(sphere)\n",
    "sphere_hsv = np.array(\n",
    "    [\n",
    "        (\n",
    "            (np.arctan2(c[1], c[0]) + np.pi) / (2 * np.pi),\n",
    "            np.abs(c[2]),\n",
    "            min((c[2] + 1.1), 1.0),\n",
    "        )\n",
    "        for c in sphere\n",
    "    ]\n",
    ")\n",
    "sphere_colors = np.array([hsv_to_rgb(*c) for c in sphere_hsv])\n"
   ]
  },
  {
   "cell_type": "code",
   "execution_count": 3,
   "metadata": {},
   "outputs": [
    {
     "data": {
      "text/plain": [
       "<Figure size 720x576 with 0 Axes>"
      ]
     },
     "metadata": {},
     "output_type": "display_data"
    }
   ],
   "source": [
    "reducers = [\n",
    "    (manifold.TSNE, {\"perplexity\": 50}),\n",
    "    # (manifold.LocallyLinearEmbedding, {'n_neighbors':10, 'method':'hessian'}),\n",
    "    (manifold.Isomap, {\"n_neighbors\": 30}),\n",
    "    (manifold.MDS, {}),\n",
    "    (decomposition.PCA, {}),\n",
    "    #(umap.UMAP, {\"n_neighbors\": 30, \"min_dist\": 0.3}),\n",
    "]\n",
    "\n",
    "test_data = [\n",
    "    (blobs, blob_labels),\n",
    "    (iris.data, iris.target),\n",
    "    (digits.data, digits.target),\n",
    "    (wine.data, wine.target),\n",
    "    (swissroll, swissroll_labels),\n",
    "    (sphere, sphere_colors),\n",
    "]\n",
    "dataset_names = [\"Blobs\", \"Iris\", \"Digits\", \"Wine\", \"Swiss Roll\", \"Sphere\"]\n",
    "\n",
    "n_rows = len(test_data)\n",
    "n_cols = len(reducers)\n",
    "ax_index = 1\n",
    "ax_list = []\n",
    "\n",
    "# plt.figure(figsize=(9 * 2 + 3, 12.5))\n",
    "plt.figure(figsize=(10, 8))\n",
    "plt.subplots_adjust(\n",
    "    left=.02, right=.98, bottom=.001, top=.96, wspace=.05, hspace=.01\n",
    ")"
   ]
  },
  {
   "cell_type": "code",
   "execution_count": 4,
   "metadata": {},
   "outputs": [
    {
     "data": {
      "image/png": "[encoded data removed]",
      "text/plain": [
       "<Figure size 432x288 with 24 Axes>"
      ]
     },
     "metadata": {},
     "output_type": "display_data"
    }
   ],
   "source": [
    "for data, labels in test_data:\n",
    "    for reducer, args in reducers:\n",
    "        start_time = time.time()\n",
    "        embedding = reducer(n_components=2, **args).fit_transform(data)\n",
    "        elapsed_time = time.time() - start_time\n",
    "        ax = plt.subplot(n_rows, n_cols, ax_index)\n",
    "        #pdb.set_trace()\n",
    "        if isinstance(labels[0], tuple):\n",
    "            ax.scatter(*embedding.T, s=10, c=labels, alpha=0.5)\n",
    "        else:\n",
    "            ax.scatter(\n",
    "                *embedding.T, s=10, c=labels, cmap=\"Spectral\", alpha=0.5\n",
    "            )\n",
    "        ax.text(\n",
    "            0.99,\n",
    "            0.01,\n",
    "            \"{:.2f} s\".format(elapsed_time),\n",
    "            transform=ax.transAxes,\n",
    "            size=14,\n",
    "            horizontalalignment=\"right\",\n",
    "        )\n",
    "        ax_list.append(ax)\n",
    "        ax_index += 1\n",
    "plt.setp(ax_list, xticks=[], yticks=[])\n",
    "for i in np.arange(n_rows) * n_cols:\n",
    "    ax_list[i].set_ylabel(dataset_names[i // n_cols], size=16)\n",
    "for i in range(n_cols):\n",
    "    ax_list[i].set_xlabel(repr(reducers[i][0]()).split(\"(\")[0], size=16)\n",
    "    ax_list[i].xaxis.set_label_position(\"top\")\n",
    "\n",
    "plt.tight_layout()\n",
    "plt.show()"
   ]
  },
  {
   "cell_type": "code",
   "execution_count": 5,
   "metadata": {},
   "outputs": [
    {
     "data": {
      "text/plain": [
       "<Figure size 432x288 with 0 Axes>"
      ]
     },
     "metadata": {},
     "output_type": "display_data"
    }
   ],
   "source": [
    "for i in np.arange(n_rows) * n_cols:\n",
    "    ax_list[i].set_ylabel(dataset_names[i // n_cols], size=16)\n",
    "for i in range(n_cols):\n",
    "    ax_list[i].set_xlabel(repr(reducers[i][0]()).split(\"(\")[0], size=16)\n",
    "    ax_list[i].xaxis.set_label_position(\"top\")\n",
    "\n",
    "plt.tight_layout()\n",
    "plt.show()"
   ]
  },
  {
   "cell_type": "code",
   "execution_count": null,
   "metadata": {},
   "outputs": [],
   "source": []
  }
 ],
 "metadata": {
  "kernelspec": {
   "display_name": "Python 3",
   "language": "python",
   "name": "python3"
  },
  "language_info": {
   "codemirror_mode": {
    "name": "ipython",
    "version": 3
   },
   "file_extension": ".py",
   "mimetype": "text/x-python",
   "name": "python",
   "nbconvert_exporter": "python",
   "pygments_lexer": "ipython3",
   "version": "3.7.3"
  }
 },
 "nbformat": 4,
 "nbformat_minor": 2
}
