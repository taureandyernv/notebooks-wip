{
 "cells": [
  {
   "cell_type": "code",
   "execution_count": null,
   "metadata": {},
   "outputs": [],
   "source": []
  },
  {
   "cell_type": "code",
   "execution_count": 8,
   "metadata": {},
   "outputs": [],
   "source": [
    "import pandas as pd \n",
    "import numpy as np \n",
    "import matplotlib.pyplot as plt\n",
    "import seaborn as sns\n",
    "import pprint\n",
    "import time\n",
    "import dask_cudf\n",
    "import cudf\n",
    "import cuml\n",
    "\n",
    "#from sklearn.cross_validation import train_test_split\n",
    "from sklearn.pipeline import Pipeline\n",
    "from sklearn.pipeline import make_pipeline\n",
    "from sklearn.preprocessing import StandardScaler\n",
    "from sklearn.svm import SVC\n",
    "#from sklearn.grid_search import GridSearchCV\n",
    "\n"
   ]
  },
  {
   "cell_type": "code",
   "execution_count": 4,
   "metadata": {},
   "outputs": [
    {
     "name": "stdout",
     "output_type": "stream",
     "text": [
      "mkdir: cannot create directory ‘/rapids/notebooks/wip/notebooks-extended/data/nyctaxi2’: File exists\n",
      "/rapids/notebooks/wip/notebooks-extended/data/nyctaxi2\n",
      "--2019-04-24 02:49:50--  https://raw.githubusercontent.com/suvoooo/Machine_Learning/master/winequality-red.csv\n",
      "Resolving raw.githubusercontent.com (raw.githubusercontent.com)... 151.101.0.133, 151.101.64.133, 151.101.128.133, ...\n",
      "Connecting to raw.githubusercontent.com (raw.githubusercontent.com)|151.101.0.133|:443... connected.\n",
      "HTTP request sent, awaiting response... 200 OK\n",
      "Length: 84199 (82K) [text/plain]\n",
      "Saving to: ‘winequality-red.csv’\n",
      "\n",
      "winequality-red.csv 100%[===================>]  82.23K  --.-KB/s    in 0.01s   \n",
      "\n",
      "2019-04-24 02:49:50 (7.12 MB/s) - ‘winequality-red.csv’ saved [84199/84199]\n",
      "\n"
     ]
    }
   ],
   "source": [
    "%mkdir /rapids/notebooks/wip/notebooks-extended/data/nyctaxi2\n",
    "%cd /rapids/notebooks/wip/notebooks-extended/data/nyctaxi2\n",
    "!wget https://raw.githubusercontent.com/suvoooo/Machine_Learning/master/winequality-red.csv"
   ]
  },
  {
   "cell_type": "code",
   "execution_count": 11,
   "metadata": {},
   "outputs": [
    {
     "name": "stdout",
     "output_type": "stream",
     "text": [
      "   fixed acidity    volatile acidity  citric acid      residual sugar            chlorides  free sulfur dioxide  total sulfur dioxide ...  quality\n",
      "0            7.4  0.7000000000000001          0.0  1.9000000000000001  0.07600000000000001                 11.0                  34.0 ...        5\n",
      "1            7.8                0.88          0.0                 2.6                0.098                 25.0                  67.0 ...        5\n",
      "2            7.8  0.7600000000000001         0.04                 2.3                0.092                 15.0                  54.0 ...        5\n",
      "[4 more columns]\n"
     ]
    }
   ],
   "source": [
    "startT = time.time()\n",
    "\n",
    "\n",
    "winedf = cudf.read_csv('/rapids/notebooks/wip/notebooks-extended/data/nyctaxi2/winequality-red.csv',sep=';')\n",
    "\n",
    "#print winedf.isnull().sum() check for missing data\n",
    "\n",
    "print(winedf.head(3))"
   ]
  },
  {
   "cell_type": "code",
   "execution_count": 14,
   "metadata": {},
   "outputs": [
    {
     "name": "stdout",
     "output_type": "stream",
     "text": [
      "<class 'cudf.dataframe.dataframe.DataFrame'> <class 'cudf.dataframe.series.Series'>\n",
      "   fixed acidity    volatile acidity  citric acid      residual sugar            chlorides  free sulfur dioxide  total sulfur dioxide ...  alcohol\n",
      "0            7.4  0.7000000000000001          0.0  1.9000000000000001  0.07600000000000001                 11.0                  34.0 ...      9.4\n",
      "1            7.8                0.88          0.0                 2.6                0.098                 25.0                  67.0 ...      9.8\n",
      "2            7.8  0.7600000000000001         0.04                 2.3                0.092                 15.0                  54.0 ...      9.8\n",
      "[3 more columns]\n"
     ]
    }
   ],
   "source": [
    "#+++++++++++++++++++++++++++++++++++++++++++++++++++++++\n",
    "#+ check whether the labels are unblanced or not\n",
    "#+++++++++++++++++++++++++++++++++++++++++++++++++++++++\n",
    "\n",
    "#print winedf.shape\n",
    "#ylab = winedf[['quality']]\n",
    "#print ylab.shape\n",
    "#print winedf['quality'].value_counts() # indeed it is\n",
    "\n",
    "#++++++++++++++++++++++++++++++++++++++++++++++++++++++++\n",
    "\n",
    "# check the correlation plot\n",
    "\n",
    "#winecorr = winedf.corr()\n",
    "#s=sns.heatmap(winecorr)\n",
    "#s.set_yticklabels(s.get_yticklabels(),rotation=30,fontsize=7)\n",
    "#s.set_xticklabels(s.get_xticklabels(),rotation=30,fontsize=7)\n",
    "\n",
    "#plt.show() # as expected high correlation between acidity and pH\n",
    "\n",
    "# individual correlation plot\n",
    "#plt.subplot(1,2,1)\n",
    "#plt.scatter(winedf['fixed acidity'], winedf['pH'], s=winedf['quality']*5, color='magenta', alpha=0.3)\n",
    "#plt.xlabel('Fixed Acidity')\n",
    "#plt.ylabel('pH')\n",
    "#plt.subplot(1,2,2)\n",
    "#plt.scatter(winedf['fixed acidity'], winedf['residual sugar'], s=winedf['quality']*5, color='purple', alpha=0.3)\n",
    "#plt.xlabel('Fixed Acidity')\n",
    "#plt.ylabel('Residual Sugar')\n",
    "#plt.tight_layout()\n",
    "#plt.show()\n",
    "\n",
    "X=winedf.drop(['quality'])\n",
    "Y=winedf['quality']\n",
    "\n",
    "print(type(X), type(Y))\n",
    "print(X.head(3))\n"
   ]
  },
  {
   "cell_type": "code",
   "execution_count": null,
   "metadata": {},
   "outputs": [],
   "source": [
    "#++++++++++++++++++++++++++++++++\n",
    "# create the pipeline object\n",
    "#++++++++++++++++++++++++++++++++\n",
    "steps = [('scaler', StandardScaler()), ('SVM', SVC())]\n",
    "pipeline = Pipeline(steps)"
   ]
  },
  {
   "cell_type": "code",
   "execution_count": null,
   "metadata": {},
   "outputs": [],
   "source": [
    "#++++++++++++++++++++++++++++++++++++++\n",
    "#+ create the hyperparameter space\n",
    "#++++++++++++++++++++++++++++++++++++++\n",
    "\n",
    "parameteres = {'SVM__C':[0.001,0.1,10,100,10e5], 'SVM__gamma':[0.1,0.01]}"
   ]
  },
  {
   "cell_type": "code",
   "execution_count": null,
   "metadata": {},
   "outputs": [],
   "source": [
    "#++++++++++++++++++++++++++++++++++++\n",
    "#+ create train and test sets\n",
    "#++++++++++++++++++++++++++++++++++++\n",
    "\n",
    "X_train, X_test, y_train, y_test = train_test_split(X,Y,test_size=0.2, random_state=30, stratify=Y)\n",
    "#print X_test.shape"
   ]
  },
  {
   "cell_type": "code",
   "execution_count": null,
   "metadata": {},
   "outputs": [],
   "source": [
    "#++++++++++++++++++++++++++++++\n",
    "#+ Grid Search Cross Validation\n",
    "#++++++++++++++++++++++++++++++\n",
    "grid = GridSearchCV(pipeline, param_grid=parameteres, cv=5)\n",
    "\n",
    "grid.fit(X_train, y_train)\n",
    "\n",
    "print \"score = %3.2f\" %(grid.score(X_test,y_test))\n",
    "\n",
    "#pparam=pprint.PrettyPrinter(indent=2)\n",
    "\n",
    "print grid.best_params_\n",
    "endT = time.time()\n",
    "\n",
    "print \"total time elapsed = %3.3f\"%(endT-startT)"
   ]
  }
 ],
 "metadata": {
  "kernelspec": {
   "display_name": "Python 3",
   "language": "python",
   "name": "python3"
  },
  "language_info": {
   "codemirror_mode": {
    "name": "ipython",
    "version": 3
   },
   "file_extension": ".py",
   "mimetype": "text/x-python",
   "name": "python",
   "nbconvert_exporter": "python",
   "pygments_lexer": "ipython3",
   "version": "3.7.3"
  }
 },
 "nbformat": 4,
 "nbformat_minor": 2
}
