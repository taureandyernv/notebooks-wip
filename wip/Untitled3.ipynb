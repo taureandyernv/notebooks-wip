{
 "cells": [
  {
   "cell_type": "code",
   "execution_count": 1,
   "metadata": {},
   "outputs": [
    {
     "name": "stdout",
     "output_type": "stream",
     "text": [
      "05_Supervised_Learning_with_cuML.ipynb\tlinear_regression_dask_cudf_demo.ipynb\n",
      "Untitled.ipynb\t\t\t\tnyc_taxi_demo.ipynb\n",
      "Untitled1.ipynb\t\t\t\tnyc_taxi_demo_dask.ipynb\n",
      "Untitled2.ipynb\t\t\t\tpca_demo_transform.ipynb\n",
      "Untitled3.ipynb\t\t\t\tpipline.ipynb\n",
      "dbscan_demo.ipynb\t\t\trapids_decomposition-Copy1.ipynb\n",
      "har_demo.ipynb\t\t\t\tsgd_demo.ipynb\n",
      "higgs_boson_demo.ipynb\t\t\ttaxi_forecasting.ipynb\n",
      "kalman_filter-Copy1.ipynb\t\ttsvd_demo.ipynb\n",
      "kalman_filter.ipynb\t\t\tumap_demo_full.ipynb\n"
     ]
    }
   ],
   "source": [
    "!ls"
   ]
  },
  {
   "cell_type": "code",
   "execution_count": 2,
   "metadata": {},
   "outputs": [
    {
     "name": "stdout",
     "output_type": "stream",
     "text": [
      "--2019-04-24 19:17:03--  https://raw.githubusercontent.com/gpuopenanalytics/demo-docker/master/notebook-demo-docker/demo/notebooks/mapd_to_pygdf_to_h2oaiglm.ipynb\n",
      "Resolving raw.githubusercontent.com (raw.githubusercontent.com)... 151.101.0.133, 151.101.64.133, 151.101.128.133, ...\n",
      "Connecting to raw.githubusercontent.com (raw.githubusercontent.com)|151.101.0.133|:443... connected.\n",
      "HTTP request sent, awaiting response... 200 OK\n",
      "Length: 285745 (279K) [text/plain]\n",
      "Saving to: ‘mapd_to_pygdf_to_h2oaiglm.ipynb’\n",
      "\n",
      "mapd_to_pygdf_to_h2 100%[===================>] 279.05K  --.-KB/s    in 0.02s   \n",
      "\n",
      "2019-04-24 19:17:03 (14.1 MB/s) - ‘mapd_to_pygdf_to_h2oaiglm.ipynb’ saved [285745/285745]\n",
      "\n"
     ]
    }
   ],
   "source": [
    "!wget https://raw.githubusercontent.com/gpuopenanalytics/demo-docker/master/notebook-demo-docker/demo/notebooks/mapd_to_pygdf_to_h2oaiglm.ipynb"
   ]
  },
  {
   "cell_type": "code",
   "execution_count": null,
   "metadata": {},
   "outputs": [],
   "source": []
  }
 ],
 "metadata": {
  "kernelspec": {
   "display_name": "Python 3",
   "language": "python",
   "name": "python3"
  },
  "language_info": {
   "codemirror_mode": {
    "name": "ipython",
    "version": 3
   },
   "file_extension": ".py",
   "mimetype": "text/x-python",
   "name": "python",
   "nbconvert_exporter": "python",
   "pygments_lexer": "ipython3",
   "version": "3.7.3"
  }
 },
 "nbformat": 4,
 "nbformat_minor": 2
}
