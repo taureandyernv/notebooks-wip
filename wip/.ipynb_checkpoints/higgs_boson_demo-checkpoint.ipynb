{
 "cells": [
  {
   "cell_type": "code",
   "execution_count": 1,
   "metadata": {
    "colab": {},
    "colab_type": "code",
    "id": "UASop1ti2z-u"
   },
   "outputs": [],
   "source": [
    "import numpy as np\n",
    "import xgboost as xgb\n",
    "import numpy as np\n",
    "import pandas as pd\n",
    "import cudf\n",
    "import time\n",
    "import os"
   ]
  },
  {
   "cell_type": "markdown",
   "metadata": {},
   "source": [
    "## Download the Higgs Challenge data from CERN"
   ]
  },
  {
   "cell_type": "code",
   "execution_count": null,
   "metadata": {},
   "outputs": [],
   "source": []
  },
  {
   "cell_type": "markdown",
   "metadata": {},
   "source": [
    "## Helper functions"
   ]
  },
  {
   "cell_type": "code",
   "execution_count": 2,
   "metadata": {},
   "outputs": [],
   "source": [
    "import gzip\n",
    "def load_data(cached = '/rapids/notebooks/data/atlas-higgs-challenge-2014-v2.csv.gz'):\n",
    "    if os.path.exists(cached):\n",
    "        print(\"decompressing CERN's Higgs data\")\n",
    "        with gzip.open(cached) as f:\n",
    "            #X = pd.read_csv(cached)\n",
    "            X = cudf.read_csv(cached)\n",
    "    else:\n",
    "        try:\n",
    "            %cd /rapids/notebooks/cuml/data\n",
    "            !wget http://opendata.cern.ch/record/328/files/atlas-higgs-challenge-2014-v2.csv.gz\n",
    "            print(\"decompressing CERN's Higgs data\")\n",
    "            with gzip.open(cached) as f:\n",
    "                X = pd.read_csv(cached)\n",
    "        except:\n",
    "            print(\"Please first download the data from http://opendata.cern.ch/record/328/files/atlas-higgs-challenge-2014-v2.csv.gz using the above cell and rerun this cell.  If you can't connect to the datasource, please raise an issue in RAPIDS notebooks-extended repo\")\n",
    "    return X"
   ]
  },
  {
   "cell_type": "markdown",
   "metadata": {},
   "source": [
    "## Load in training data using Pandas"
   ]
  },
  {
   "cell_type": "code",
   "execution_count": 3,
   "metadata": {
    "colab": {},
    "colab_type": "code",
    "id": "6U7naF4m2z-y",
    "outputId": "808d3ae3-fab4-4cb0-96f2-33176b6a6577"
   },
   "outputs": [
    {
     "name": "stdout",
     "output_type": "stream",
     "text": [
      "decompressing CERN's Higgs data\n",
      "Finished loading from csv \n"
     ]
    }
   ],
   "source": [
    "df = load_data()\n",
    "print ('Finished loading from csv ')"
   ]
  },
  {
   "cell_type": "code",
   "execution_count": 4,
   "metadata": {},
   "outputs": [
    {
     "data": {
      "text/plain": [
       "EventId                          int64\n",
       "DER_mass_MMC                   float64\n",
       "DER_mass_transverse_met_lep    float64\n",
       "DER_mass_vis                   float64\n",
       "DER_pt_h                       float64\n",
       "DER_deltaeta_jet_jet           float64\n",
       "DER_mass_jet_jet               float64\n",
       "DER_prodeta_jet_jet            float64\n",
       "DER_deltar_tau_lep             float64\n",
       "DER_pt_tot                     float64\n",
       "DER_sum_pt                     float64\n",
       "DER_pt_ratio_lep_tau           float64\n",
       "DER_met_phi_centrality         float64\n",
       "DER_lep_eta_centrality         float64\n",
       "PRI_tau_pt                     float64\n",
       "PRI_tau_eta                    float64\n",
       "PRI_tau_phi                    float64\n",
       "PRI_lep_pt                     float64\n",
       "PRI_lep_eta                    float64\n",
       "PRI_lep_phi                    float64\n",
       "PRI_met                        float64\n",
       "PRI_met_phi                    float64\n",
       "PRI_met_sumet                  float64\n",
       "PRI_jet_num                      int64\n",
       "PRI_jet_leading_pt             float64\n",
       "PRI_jet_leading_eta            float64\n",
       "PRI_jet_leading_phi            float64\n",
       "PRI_jet_subleading_pt          float64\n",
       "PRI_jet_subleading_eta         float64\n",
       "PRI_jet_subleading_phi         float64\n",
       "PRI_jet_all_pt                 float64\n",
       "Weight                         float64\n",
       "Label                           object\n",
       "KaggleSet                       object\n",
       "KaggleWeight                   float64\n",
       "dtype: object"
      ]
     },
     "execution_count": 4,
     "metadata": {},
     "output_type": "execute_result"
    }
   ],
   "source": [
    "df.dtypes"
   ]
  },
  {
   "cell_type": "markdown",
   "metadata": {},
   "source": [
    "## Let's look at our two \"object\" type data columns"
   ]
  },
  {
   "cell_type": "code",
   "execution_count": 5,
   "metadata": {},
   "outputs": [
    {
     "data": {
      "text/plain": [
       "array(['s', 'b'], dtype=object)"
      ]
     },
     "execution_count": 5,
     "metadata": {},
     "output_type": "execute_result"
    }
   ],
   "source": [
    "Label_pdf =df['Label'].to_pandas()\n",
    "Label_pdf.unique()"
   ]
  },
  {
   "cell_type": "code",
   "execution_count": 6,
   "metadata": {},
   "outputs": [
    {
     "data": {
      "text/plain": [
       "array(['t', 'b', 'v', 'u'], dtype=object)"
      ]
     },
     "execution_count": 6,
     "metadata": {},
     "output_type": "execute_result"
    }
   ],
   "source": [
    "KaggleSet_pdf =df['KaggleSet'].to_pandas()\n",
    "KaggleSet_pdf.unique()"
   ]
  },
  {
   "cell_type": "code",
   "execution_count": 7,
   "metadata": {
    "colab": {},
    "colab_type": "code",
    "id": "HxaHYUEF2z-3"
   },
   "outputs": [],
   "source": [
    "# Let's convert these values to a numeric format before going further\n",
    "df['Label'] = df.Label.str.replace('b', '0')\n",
    "df['Label'] = df.Label.str.replace('s', '1')\n",
    "df['Label'] = df['Label'].str.stoi()\n",
    "df['KaggleSet'] = df.KaggleSet.str.replace('b', '0')\n",
    "df['KaggleSet'] = df.KaggleSet.str.replace('t', '1')\n",
    "df['KaggleSet'] = df.KaggleSet.str.replace('v', '2')\n",
    "df['KaggleSet'] = df.KaggleSet.str.replace('u', '3')\n",
    "df['KaggleSet'] = df['KaggleSet'].str.stoi()"
   ]
  },
  {
   "cell_type": "markdown",
   "metadata": {},
   "source": [
    "## Let's look at the data again"
   ]
  },
  {
   "cell_type": "code",
   "execution_count": 8,
   "metadata": {},
   "outputs": [
    {
     "data": {
      "text/plain": [
       "array([1, 0])"
      ]
     },
     "execution_count": 8,
     "metadata": {},
     "output_type": "execute_result"
    }
   ],
   "source": [
    "Label_pdf =df['Label'].to_pandas()\n",
    "Label_pdf.unique()"
   ]
  },
  {
   "cell_type": "code",
   "execution_count": 9,
   "metadata": {},
   "outputs": [
    {
     "data": {
      "text/plain": [
       "array([1, 0, 2, 3])"
      ]
     },
     "execution_count": 9,
     "metadata": {},
     "output_type": "execute_result"
    }
   ],
   "source": [
    "KaggleSet_pdf =df['KaggleSet'].to_pandas()\n",
    "KaggleSet_pdf.unique()"
   ]
  },
  {
   "cell_type": "code",
   "execution_count": 10,
   "metadata": {
    "colab": {},
    "colab_type": "code",
    "id": "c84_TSFT2z-5",
    "outputId": "6eded84d-8042-4be5-93d8-1e4d602bc8b4"
   },
   "outputs": [
    {
     "name": "stdout",
     "output_type": "stream",
     "text": [
      "0          0.00081448039868\n",
      "1        0.6810419068060001\n",
      "2        0.7157420063490002\n",
      "3             1.66065435355\n",
      "4        1.9042634411800001\n",
      "5           0.0254337596084\n",
      "6          0.00081448039868\n",
      "7          0.00572068250088\n",
      "8        1.6148034660000001\n",
      "9    0.00046102535673400003\n",
      "[249990 more rows]\n",
      "Name: Weight, dtype: float64\n",
      "0         0.0020362009967\n",
      "1      1.7026047670150002\n",
      "2      1.7893550158725005\n",
      "3      4.1516358838750005\n",
      "4           4.76065860295\n",
      "5     0.06358439902100001\n",
      "6         0.0020362009967\n",
      "7    0.014301706252200001\n",
      "8             4.037008665\n",
      "9       0.001152563391835\n",
      "[249990 more rows]\n",
      "dtype: float64\n",
      "818238\n",
      "100000\n",
      "250000\n",
      "weight statistics: wpos=531.045, wneg=313295, ratio=589.959\n"
     ]
    }
   ],
   "source": [
    "# Since the dataset is unbalanced, we can provide XGBoost with the ratio of negative class to positive class to weight the observations \n",
    "df_train = df[df['KaggleSet']==1]\n",
    "df_test = df[df['KaggleSet']==0]\n",
    "sample_size = len(df)\n",
    "test_size = len(df_train)\n",
    "train_size = len(df_test)\n",
    "\n",
    "# rescale weight to make it same as test set\n",
    "weight = df_train['Weight']\n",
    "print(weight)\n",
    "weight = weight * (float(test_size) / float(train_size))\n",
    "print(weight)\n",
    "print(sample_size)\n",
    "print(train_size)\n",
    "print(test_size)\n",
    "sum_wpos = sum(weight[df_train.Label == 1])\n",
    "sum_wneg = sum(weight[df_train.Label == 0])\n",
    "\n",
    "# print weight statistics\n",
    "print ('weight statistics: wpos=%g, wneg=%g, ratio=%g' % ( sum_wpos, sum_wneg, sum_wneg/sum_wpos ))"
   ]
  },
  {
   "cell_type": "code",
   "execution_count": null,
   "metadata": {
    "colab": {},
    "colab_type": "code",
    "id": "qXKWValq2z-9"
   },
   "outputs": [],
   "source": [
    "# convert the panda dataframe into a gpu dataframe\n",
    "## We drop the first column and the last column.\n",
    "gdf_train = df_train.drop([\"DER_mass_MMC\",\"Label\"])\n",
    "gdf_test = df_test.drop([\"DER_mass_MMC\",\"Label\"])"
   ]
  },
  {
   "cell_type": "code",
   "execution_count": 11,
   "metadata": {
    "colab": {},
    "colab_type": "code",
    "id": "LGktT84j2z_A",
    "outputId": "43f038f0-4f5d-424f-abb1-a5ed57a1124a"
   },
   "outputs": [
    {
     "ename": "NameError",
     "evalue": "name 'gdf_train' is not defined",
     "output_type": "error",
     "traceback": [
      "\u001b[0;31m---------------------------------------------------------------------------\u001b[0m",
      "\u001b[0;31mNameError\u001b[0m                                 Traceback (most recent call last)",
      "\u001b[0;32m<ipython-input-11-92dde22e6726>\u001b[0m in \u001b[0;36m<module>\u001b[0;34m\u001b[0m\n\u001b[1;32m      1\u001b[0m \u001b[0;31m# You can visualize GDF just like you do with DF\u001b[0m\u001b[0;34m\u001b[0m\u001b[0;34m\u001b[0m\u001b[0;34m\u001b[0m\u001b[0m\n\u001b[0;32m----> 2\u001b[0;31m \u001b[0mprint\u001b[0m\u001b[0;34m(\u001b[0m\u001b[0mgdf_train\u001b[0m\u001b[0;34m.\u001b[0m\u001b[0mdtypes\u001b[0m\u001b[0;34m)\u001b[0m\u001b[0;34m\u001b[0m\u001b[0;34m\u001b[0m\u001b[0m\n\u001b[0m",
      "\u001b[0;31mNameError\u001b[0m: name 'gdf_train' is not defined"
     ]
    }
   ],
   "source": [
    "# You can visualize GDF just like you do with DF\n",
    "print(gdf_train.dtypes)"
   ]
  },
  {
   "cell_type": "code",
   "execution_count": 12,
   "metadata": {
    "colab": {},
    "colab_type": "code",
    "id": "NXh6pVmz2z_D"
   },
   "outputs": [],
   "source": [
    "#Here is an example of type conversion\n",
    "#it's also important to note that the XGBoost DMatrix constructor expects all data to be of the same type\n",
    "df_train['PRI_jet_num'] = df_train['PRI_jet_num'].astype(np.float64)\n",
    "df_test['PRI_jet_num'] = df_test['PRI_jet_num'].astype(np.float64)"
   ]
  },
  {
   "cell_type": "code",
   "execution_count": 13,
   "metadata": {
    "colab": {},
    "colab_type": "code",
    "id": "gnCvq0_12z_G",
    "outputId": "fa179296-9dd1-4d07-b622-d46bcdeada58"
   },
   "outputs": [
    {
     "name": "stdout",
     "output_type": "stream",
     "text": [
      "   EventId  DER_mass_MMC  DER_mass_transverse_met_lep       DER_mass_vis             DER_pt_h  DER_deltaeta_jet_jet    DER_mass_jet_jet ...           KaggleWeight\n",
      "0   100000        138.47                       51.655             97.827   27.979999999999997                  0.91  124.71100000000001 ...  0.0026533113373299996\n",
      "1   100001       160.937                       68.768            103.235               48.146                -999.0              -999.0 ...     2.2335844871700004\n",
      "2   100002        -999.0                      162.172            125.953   35.635000000000005                -999.0              -999.0 ...          2.34738894364\n",
      "3   100003       143.905            81.41700000000002  80.94300000000001  0.41400000000000003                -999.0              -999.0 ...      5.446378211920001\n",
      "4   100004       175.864                       16.915            134.805   16.404999999999998                -999.0              -999.0 ...          6.24533268686\n",
      "[27 more columns]\n"
     ]
    }
   ],
   "source": [
    "print(df_train.head())"
   ]
  },
  {
   "cell_type": "code",
   "execution_count": 15,
   "metadata": {
    "colab": {},
    "colab_type": "code",
    "id": "qdYB5bzu2z_K",
    "outputId": "ad5e33ff-7450-4ece-ca76-a1b9c8e91522"
   },
   "outputs": [
    {
     "data": {
      "text/plain": [
       "dtype('float64')"
      ]
     },
     "execution_count": 15,
     "metadata": {},
     "output_type": "execute_result"
    }
   ],
   "source": [
    "# Check that the conversion happened\n",
    "df_train.dtypes.PRI_jet_num"
   ]
  },
  {
   "cell_type": "code",
   "execution_count": 16,
   "metadata": {
    "colab": {},
    "colab_type": "code",
    "id": "oQLisWBD2z_N"
   },
   "outputs": [],
   "source": [
    "y_train = df_train[['Label']] #Note that y is pygdf dataframe, not a pygdf series\n",
    "df_train.drop_column('Label')\n",
    "df_train.drop_column('Weight')\n",
    "X_train = df_train\n",
    "\n",
    "xgmat_train = xgb.DMatrix(data=X_train,label=y_train, missing = -999.0, weight=weight)"
   ]
  },
  {
   "cell_type": "code",
   "execution_count": 17,
   "metadata": {
    "colab": {},
    "colab_type": "code",
    "id": "X8CZPs7V2z_Q"
   },
   "outputs": [],
   "source": [
    "nTrees = 1000\n",
    "\n",
    "# setup parameters for xgboost\n",
    "param = {}\n",
    "\n",
    "# scale weight of positive examples\n",
    "param['scale_pos_weight'] = sum_wneg/sum_wpos\n",
    "\n",
    "param['eta']              = 0.01\n",
    "param['max_depth']        = 10\n",
    "param['min_child_weight'] = 100\n",
    "param['colsampleby_tree'] = 0.5\n",
    "param['gamma']            = 0.1\n",
    "param['sub_sample']       = 0.9\n",
    "param['silent']           = 1\n",
    "param['nthread']          = 8\n",
    "param['verbose']          = 0\n",
    "param['eval_metric']      = 'ams@0.15'\n",
    "param['tree_method'] = 'gpu_hist'\n",
    "param['objective'] = 'gpu:binary:logitraw'\n",
    "watchlist = [(xgmat_train,'train')]"
   ]
  },
  {
   "cell_type": "code",
   "execution_count": 18,
   "metadata": {
    "colab": {},
    "colab_type": "code",
    "id": "epdU4YzI2z_U",
    "outputId": "4b0574cb-6b9d-4b7c-d0e7-1fe3bc572f70"
   },
   "outputs": [
    {
     "name": "stdout",
     "output_type": "stream",
     "text": [
      "[0]\ttrain-ams@0.15:17.7275\n",
      "[10]\ttrain-ams@0.15:17.7275\n",
      "[20]\ttrain-ams@0.15:17.7275\n",
      "[30]\ttrain-ams@0.15:17.7275\n",
      "[40]\ttrain-ams@0.15:25.24\n",
      "[50]\ttrain-ams@0.15:25.2921\n",
      "[60]\ttrain-ams@0.15:25.3215\n",
      "[70]\ttrain-ams@0.15:25.3215\n",
      "[80]\ttrain-ams@0.15:25.3215\n",
      "[90]\ttrain-ams@0.15:25.3215\n",
      "[100]\ttrain-ams@0.15:25.3215\n",
      "[110]\ttrain-ams@0.15:25.3215\n",
      "[120]\ttrain-ams@0.15:25.3215\n",
      "[130]\ttrain-ams@0.15:25.3215\n",
      "[140]\ttrain-ams@0.15:25.3215\n",
      "[150]\ttrain-ams@0.15:25.3215\n",
      "[160]\ttrain-ams@0.15:25.3215\n",
      "[170]\ttrain-ams@0.15:25.3215\n",
      "[180]\ttrain-ams@0.15:25.3215\n",
      "[190]\ttrain-ams@0.15:25.3215\n",
      "[200]\ttrain-ams@0.15:25.3215\n",
      "[210]\ttrain-ams@0.15:25.3215\n",
      "[220]\ttrain-ams@0.15:29.5981\n",
      "[230]\ttrain-ams@0.15:29.598\n",
      "[240]\ttrain-ams@0.15:29.6086\n",
      "[250]\ttrain-ams@0.15:29.606\n",
      "[260]\ttrain-ams@0.15:29.606\n",
      "[270]\ttrain-ams@0.15:29.606\n",
      "[280]\ttrain-ams@0.15:29.606\n",
      "[290]\ttrain-ams@0.15:29.6001\n",
      "[300]\ttrain-ams@0.15:29.6001\n",
      "[310]\ttrain-ams@0.15:29.6144\n",
      "[320]\ttrain-ams@0.15:29.6031\n",
      "[330]\ttrain-ams@0.15:29.6239\n",
      "[340]\ttrain-ams@0.15:31.1043\n",
      "[350]\ttrain-ams@0.15:31.1184\n",
      "[360]\ttrain-ams@0.15:31.1737\n",
      "[370]\ttrain-ams@0.15:31.1953\n",
      "[380]\ttrain-ams@0.15:31.2406\n",
      "[390]\ttrain-ams@0.15:31.2406\n",
      "[400]\ttrain-ams@0.15:35.9634\n",
      "[410]\ttrain-ams@0.15:36.6711\n",
      "[420]\ttrain-ams@0.15:36.7121\n",
      "[430]\ttrain-ams@0.15:36.9719\n",
      "[440]\ttrain-ams@0.15:37.2056\n",
      "[450]\ttrain-ams@0.15:37.3655\n",
      "[460]\ttrain-ams@0.15:37.4437\n",
      "[470]\ttrain-ams@0.15:37.393\n",
      "[480]\ttrain-ams@0.15:37.5603\n",
      "[490]\ttrain-ams@0.15:38.087\n",
      "[500]\ttrain-ams@0.15:38.3736\n",
      "[510]\ttrain-ams@0.15:38.3272\n",
      "[520]\ttrain-ams@0.15:37.8812\n",
      "[530]\ttrain-ams@0.15:37.862\n",
      "[540]\ttrain-ams@0.15:37.7984\n",
      "[550]\ttrain-ams@0.15:37.7213\n",
      "[560]\ttrain-ams@0.15:37.7647\n",
      "[570]\ttrain-ams@0.15:37.7818\n",
      "[580]\ttrain-ams@0.15:37.771\n",
      "[590]\ttrain-ams@0.15:37.8129\n",
      "[600]\ttrain-ams@0.15:37.7289\n",
      "[610]\ttrain-ams@0.15:37.6454\n",
      "[620]\ttrain-ams@0.15:37.6715\n",
      "[630]\ttrain-ams@0.15:37.6858\n",
      "[640]\ttrain-ams@0.15:37.9282\n",
      "[650]\ttrain-ams@0.15:37.9414\n",
      "[660]\ttrain-ams@0.15:38.041\n",
      "[670]\ttrain-ams@0.15:37.9176\n",
      "[680]\ttrain-ams@0.15:38.0517\n",
      "[690]\ttrain-ams@0.15:38.0215\n",
      "[700]\ttrain-ams@0.15:37.9742\n",
      "[710]\ttrain-ams@0.15:37.9503\n",
      "[720]\ttrain-ams@0.15:37.8812\n",
      "[730]\ttrain-ams@0.15:37.9893\n",
      "[740]\ttrain-ams@0.15:38.0703\n",
      "[750]\ttrain-ams@0.15:38.121\n",
      "[760]\ttrain-ams@0.15:38.2755\n",
      "[770]\ttrain-ams@0.15:38.5372\n",
      "[780]\ttrain-ams@0.15:38.5995\n",
      "[790]\ttrain-ams@0.15:38.6607\n",
      "[800]\ttrain-ams@0.15:38.7195\n",
      "[810]\ttrain-ams@0.15:38.8171\n",
      "[820]\ttrain-ams@0.15:38.9569\n",
      "[830]\ttrain-ams@0.15:39.1012\n",
      "[840]\ttrain-ams@0.15:39.1315\n",
      "[850]\ttrain-ams@0.15:39.3407\n",
      "[860]\ttrain-ams@0.15:39.3842\n",
      "[870]\ttrain-ams@0.15:39.4132\n",
      "[880]\ttrain-ams@0.15:39.4049\n",
      "[890]\ttrain-ams@0.15:39.5078\n",
      "[900]\ttrain-ams@0.15:39.4899\n",
      "[910]\ttrain-ams@0.15:39.4461\n",
      "[920]\ttrain-ams@0.15:39.5015\n",
      "[930]\ttrain-ams@0.15:39.4559\n",
      "[940]\ttrain-ams@0.15:39.4384\n",
      "[950]\ttrain-ams@0.15:39.4544\n",
      "[960]\ttrain-ams@0.15:39.3097\n",
      "[970]\ttrain-ams@0.15:39.3027\n",
      "[980]\ttrain-ams@0.15:39.2362\n",
      "[990]\ttrain-ams@0.15:39.1942\n",
      "[999]\ttrain-ams@0.15:39.1659\n",
      "XGBoost training: 63.05163359642029 seconds\n"
     ]
    }
   ],
   "source": [
    "tmp = time.time()\n",
    "bst = xgb.train(param, xgmat_train, nTrees, watchlist, verbose_eval=10);\n",
    "print (\"XGBoost training: %s seconds\" % (str(time.time() - tmp)))"
   ]
  },
  {
   "cell_type": "code",
   "execution_count": 20,
   "metadata": {
    "colab": {},
    "colab_type": "code",
    "id": "4q84s8MK2z_Y",
    "outputId": "2e44ed10-7600-41a6-9ad5-ef84d3b5c58f"
   },
   "outputs": [
    {
     "name": "stdout",
     "output_type": "stream",
     "text": [
      "[-8.579436 -8.738063 -8.769301 ... -7.978996 -8.570828  8.126481]\n"
     ]
    }
   ],
   "source": [
    "#Note that y is pygdf dataframe, not a pygdf series\n",
    "y_t = df_test[['Label']] \n",
    "df_test.drop_column('Label')\n",
    "df_test.drop_column('Weight')\n",
    "\n",
    "X_t = df_test\n",
    "\n",
    "xgmat_t = xgb.DMatrix(data=X_t,label=y_t, missing = -999.0, weight=weight)\n",
    "y_pred = bst.predict(xgmat_t)\n",
    "print(y_pred)"
   ]
  },
  {
   "cell_type": "code",
   "execution_count": null,
   "metadata": {},
   "outputs": [],
   "source": []
  }
 ],
 "metadata": {
  "colab": {
   "name": "rapids_higgs_boson_GPU.ipynb",
   "provenance": [],
   "version": "0.3.2"
  },
  "kernelspec": {
   "display_name": "Python 3",
   "language": "python",
   "name": "python3"
  },
  "language_info": {
   "codemirror_mode": {
    "name": "ipython",
    "version": 3
   },
   "file_extension": ".py",
   "mimetype": "text/x-python",
   "name": "python",
   "nbconvert_exporter": "python",
   "pygments_lexer": "ipython3",
   "version": "3.7.2"
  }
 },
 "nbformat": 4,
 "nbformat_minor": 2
}
