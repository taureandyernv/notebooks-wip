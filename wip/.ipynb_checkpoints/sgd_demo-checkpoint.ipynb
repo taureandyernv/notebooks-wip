{
 "cells": [
  {
   "cell_type": "markdown",
   "metadata": {},
   "source": [
    "# SGD "
   ]
  },
  {
   "cell_type": "code",
   "execution_count": 1,
   "metadata": {},
   "outputs": [],
   "source": [
    "import numpy as np\n",
    "import pandas as pd\n",
    "import cudf\n",
    "import os\n",
    "from cuml.solvers import SGD as cumlSGD\n",
    "from sklearn.linear_model import SGDRegressor\n",
    "\n",
    "# Select a particular GPU to run the notebook  \n",
    "os.environ[\"CUDA_VISIBLE_DEVICES\"]=\"1\""
   ]
  },
  {
   "cell_type": "markdown",
   "metadata": {},
   "source": [
    "# Helper Functions"
   ]
  },
  {
   "cell_type": "code",
   "execution_count": 2,
   "metadata": {},
   "outputs": [],
   "source": [
    "\n",
    "from timeit import default_timer\n",
    "\n",
    "class Timer(object):\n",
    "    def __init__(self):\n",
    "        self._timer = default_timer\n",
    "    \n",
    "    def __enter__(self):\n",
    "        self.start()\n",
    "        return self\n",
    "\n",
    "    def __exit__(self, *args):\n",
    "        self.stop()\n",
    "\n",
    "    def start(self):\n",
    "        \"\"\"Start the timer.\"\"\"\n",
    "        self.start = self._timer()\n",
    "\n",
    "    def stop(self):\n",
    "        \"\"\"Stop the timer. Calculate the interval in seconds.\"\"\"\n",
    "        self.end = self._timer()\n",
    "        self.interval = self.end - self.start\n"
   ]
  },
  {
   "cell_type": "code",
   "execution_count": 58,
   "metadata": {},
   "outputs": [],
   "source": [
    "import gzip\n",
    "def load_data(nrows, ncols, cached = '/rapids/notebooks/wip/notebooks/cuml/data/mortgage.npy.gz'):\n",
    "    if os.path.exists(cached):\n",
    "        print('use mortgage data')\n",
    "\n",
    "        with gzip.open(cached) as f:\n",
    "            X = np.load(f)\n",
    "        # the 4th column is 'adj_remaining_months_to_maturity'\n",
    "        # used as the label\n",
    "        X = X[:,[i for i in range(X.shape[1]) if i!=4]]\n",
    "        y = X[:,4:5]\n",
    "        rindices = np.random.randint(0,X.shape[0]-1,nrows)\n",
    "        X = X[rindices,:ncols]\n",
    "        y = y[rindices]\n",
    "\n",
    "    else:\n",
    "        print('use random data')\n",
    "        X = np.random.rand(nrows,ncols)\n",
    "        y = np.random.randint(10,size=(nrows,1))\n",
    "    train_rows = int(nrows*0.8)\n",
    "    df_X_train = pd.DataFrame({'fea%d'%i:X[0:train_rows,i] for i in range(X.shape[1])})\n",
    "    df_X_test = pd.DataFrame({'fea%d'%i:X[train_rows:,i] for i in range(X.shape[1])})\n",
    "    df_y_train = pd.DataFrame({'fea%d'%i:y[0:train_rows,i] for i in range(y.shape[1])})\n",
    "    df_y_test = pd.DataFrame({'fea%d'%i:y[train_rows:,i] for i in range(y.shape[1])})\n",
    "    return df_X_train, df_X_test, df_y_train, df_y_test\n"
   ]
  },
  {
   "cell_type": "code",
   "execution_count": 59,
   "metadata": {},
   "outputs": [],
   "source": [
    "\n",
    "from sklearn.metrics import mean_squared_error\n",
    "def array_equal(a,b,threshold=2e-3,with_sign=True):\n",
    "    a = to_nparray(a).ravel()\n",
    "    b = to_nparray(b).ravel()\n",
    "    if with_sign == False:\n",
    "        a,b = np.abs(a),np.abs(b)\n",
    "    error = mean_squared_error(a,b)\n",
    "    res = error<threshold\n",
    "    return res\n",
    "\n",
    "def to_nparray(x):\n",
    "    if isinstance(x,np.ndarray) or isinstance(x,pd.DataFrame):\n",
    "        return np.array(x)\n",
    "    elif isinstance(x,np.float64):\n",
    "        return np.array([x])\n",
    "    elif isinstance(x,cudf.DataFrame) or isinstance(x,cudf.Series):\n",
    "        return x.to_pandas().values\n",
    "    return x\n"
   ]
  },
  {
   "cell_type": "markdown",
   "metadata": {},
   "source": [
    "# Run tests"
   ]
  },
  {
   "cell_type": "code",
   "execution_count": 60,
   "metadata": {},
   "outputs": [
    {
     "name": "stdout",
     "output_type": "stream",
     "text": [
      "use mortgage data\n",
      "training data (838860, 399)\n",
      "training label (838860, 1)\n",
      "testing data (209716, 399)\n",
      "testing label (209716, 1)\n",
      "CPU times: user 13.9 s, sys: 1.99 s, total: 15.9 s\n",
      "Wall time: 15.9 s\n"
     ]
    }
   ],
   "source": [
    "%%time\n",
    "nrows = 2**20\n",
    "ncols = 399\n",
    "\n",
    "X_train, X_test, y_train, y_test = load_data(nrows,ncols)\n",
    "y_train_ser = y_train['fea0']\n",
    "print('training data',X_train.shape)\n",
    "print('training label',y_train.shape)\n",
    "print('testing data',X_test.shape)\n",
    "print('testing label',y_test.shape)"
   ]
  },
  {
   "cell_type": "code",
   "execution_count": 61,
   "metadata": {},
   "outputs": [],
   "source": [
    "#set parameters \n",
    "learning_rate = 'adaptive'\n",
    "datatype = np.float32\n",
    "penalty = 'elasticnet'\n",
    "loss = 'squared_loss'"
   ]
  },
  {
   "cell_type": "markdown",
   "metadata": {},
   "source": [
    "Note :setting n_iter to the number of times sgd should iterate through the entire dataset, \n",
    "      setting max_iter will not ensure that sgd will iterate through the entire data that many times and \n",
    "      therefore a DeprecationWarning will occur\n"
   ]
  },
  {
   "cell_type": "code",
   "execution_count": 62,
   "metadata": {},
   "outputs": [
    {
     "name": "stderr",
     "output_type": "stream",
     "text": [
      "/conda/envs/rapids/lib/python3.7/site-packages/sklearn/linear_model/stochastic_gradient.py:152: DeprecationWarning: n_iter parameter is deprecated in 0.19 and will be removed in 0.21. Use max_iter and tol instead.\n",
      "  DeprecationWarning)\n"
     ]
    },
    {
     "name": "stdout",
     "output_type": "stream",
     "text": [
      "CPU times: user 14.8 s, sys: 697 ms, total: 15.5 s\n",
      "Wall time: 15.5 s\n"
     ]
    }
   ],
   "source": [
    "%%time\n",
    "\n",
    "sk_sgd = SGDRegressor(learning_rate=learning_rate, eta0=0.07,\n",
    "                       n_iter=5, tol=0.0, fit_intercept=True,\n",
    "                       penalty=penalty, loss=loss)\n",
    "sk_sgd.fit(X_train, y_train_ser)\n"
   ]
  },
  {
   "cell_type": "code",
   "execution_count": 63,
   "metadata": {},
   "outputs": [
    {
     "name": "stdout",
     "output_type": "stream",
     "text": [
      "CPU times: user 315 ms, sys: 180 ms, total: 496 ms\n",
      "Wall time: 299 ms\n"
     ]
    }
   ],
   "source": [
    "%%time\n",
    "y_sk = sk_sgd.predict(X_test)\n",
    "error_sk = mean_squared_error(y_test,y_sk)\n"
   ]
  },
  {
   "cell_type": "code",
   "execution_count": 64,
   "metadata": {},
   "outputs": [
    {
     "name": "stdout",
     "output_type": "stream",
     "text": [
      "CPU times: user 1.69 s, sys: 406 ms, total: 2.1 s\n",
      "Wall time: 2.11 s\n"
     ]
    }
   ],
   "source": [
    "%%time\n",
    "X_cudf = cudf.DataFrame.from_pandas(X_train)\n",
    "X_cudf_test = cudf.DataFrame.from_pandas(X_test)\n",
    "y_cudf = cudf.Series(y_train_ser)"
   ]
  },
  {
   "cell_type": "code",
   "execution_count": 65,
   "metadata": {},
   "outputs": [
    {
     "name": "stdout",
     "output_type": "stream",
     "text": [
      "CPU times: user 1min 36s, sys: 2min 44s, total: 4min 20s\n",
      "Wall time: 4min 23s\n"
     ]
    }
   ],
   "source": [
    "%%time\n",
    "cu_sgd = cumlSGD(learning_rate=learning_rate, eta0=0.07, epochs=500,\n",
    "                 batch_size=512,\n",
    "                 tol=0.0, penalty=penalty, loss=loss)\n",
    "cu_sgd.fit(X_cudf, y_cudf)\n"
   ]
  },
  {
   "cell_type": "code",
   "execution_count": 66,
   "metadata": {},
   "outputs": [
    {
     "name": "stdout",
     "output_type": "stream",
     "text": [
      "CPU times: user 379 ms, sys: 25.8 ms, total: 404 ms\n",
      "Wall time: 405 ms\n"
     ]
    }
   ],
   "source": [
    "%%time\n",
    "y_pred = cu_sgd.predict(X_cudf_test)\n",
    "y_pred = to_nparray(y_pred).ravel()\n",
    "error_cu = mean_squared_error(y_test,y_pred)"
   ]
  },
  {
   "cell_type": "code",
   "execution_count": 67,
   "metadata": {},
   "outputs": [
    {
     "name": "stdout",
     "output_type": "stream",
     "text": [
      "SKL MSE(y):\n",
      "1.5865602700295393e-07\n",
      "CUML MSE(y):\n",
      "1.04534735e-07\n"
     ]
    }
   ],
   "source": [
    "print(\"SKL MSE(y):\")\n",
    "print(error_sk)\n",
    "print(\"CUML MSE(y):\")\n",
    "print(error_cu)"
   ]
  },
  {
   "cell_type": "code",
   "execution_count": 68,
   "metadata": {},
   "outputs": [],
   "source": [
    "\n",
    "y_cuml_class = cu_sgd.predictClass(X_cudf_test)\n",
    "y_cuml_class = to_nparray(y_cuml_class).ravel()\n",
    "error_cu_pc = mean_squared_error(y_test,y_cuml_class)"
   ]
  },
  {
   "cell_type": "code",
   "execution_count": 69,
   "metadata": {},
   "outputs": [
    {
     "data": {
      "text/plain": [
       "array([0., 1.], dtype=float32)"
      ]
     },
     "execution_count": 69,
     "metadata": {},
     "output_type": "execute_result"
    }
   ],
   "source": [
    "np.unique(y_cuml_class)"
   ]
  },
  {
   "cell_type": "code",
   "execution_count": 71,
   "metadata": {},
   "outputs": [
    {
     "data": {
      "text/plain": [
       "array([5.9840787e-04, 5.3116089e-01, 2.1306269e-01, ..., 7.6330650e-01,\n",
       "       8.4202766e-01, 2.4278395e-01], dtype=float32)"
      ]
     },
     "execution_count": 71,
     "metadata": {},
     "output_type": "execute_result"
    }
   ],
   "source": [
    "y_pred"
   ]
  },
  {
   "cell_type": "code",
   "execution_count": 72,
   "metadata": {},
   "outputs": [
    {
     "data": {
      "text/plain": [
       "array([8.14354375e-04, 5.31264145e-01, 2.13235212e-01, ...,\n",
       "       7.63361033e-01, 8.42065215e-01, 2.42950042e-01])"
      ]
     },
     "execution_count": 72,
     "metadata": {},
     "output_type": "execute_result"
    }
   ],
   "source": [
    "y_sk "
   ]
  },
  {
   "cell_type": "code",
   "execution_count": 73,
   "metadata": {},
   "outputs": [
    {
     "data": {
      "text/plain": [
       "0.08312841"
      ]
     },
     "execution_count": 73,
     "metadata": {},
     "output_type": "execute_result"
    }
   ],
   "source": [
    "error_cu_pc"
   ]
  },
  {
   "cell_type": "code",
   "execution_count": 70,
   "metadata": {},
   "outputs": [
    {
     "data": {
      "text/plain": [
       "array([0.        , 0.20466426, 0.20868516, 0.20948935, 0.2110977 ,\n",
       "       0.21190189, 0.21270607, 0.2159228 , 0.21672697, 0.21913953,\n",
       "       0.22155207, 0.22316043, 0.2247688 , 0.22637716, 0.22718135,\n",
       "       0.22798553, 0.23039807, 0.23120224, 0.23200643, 0.23401688,\n",
       "       0.23522316, 0.24165662, 0.2424608 , 0.24326497, 0.24567752,\n",
       "       0.2464817 , 0.24969843, 0.252111  , 0.25291514, 0.25371933,\n",
       "       0.2553277 , 0.2601528 , 0.26095697, 0.26176116, 0.26417372,\n",
       "       0.26578206, 0.2689988 , 0.27060714, 0.27623641, 0.2770406 ,\n",
       "       0.2778448 , 0.27945316, 0.28106153, 0.28166467, 0.28186572,\n",
       "       0.28266987, 0.28347406, 0.2866908 , 0.2907117 , 0.2915159 ,\n",
       "       0.29232007, 0.29634097, 0.29875353, 0.305187  , 0.30679533,\n",
       "       0.3092079 , 0.3116204 , 0.3124246 , 0.32046643, 0.3212706 ,\n",
       "       0.3220748 , 0.32287896, 0.3252915 , 0.3260957 , 0.32770407,\n",
       "       0.33252916, 0.33333334, 0.33413753, 0.33574587, 0.33655006,\n",
       "       0.33815843, 0.3389626 , 0.34057096, 0.34137514, 0.34217933,\n",
       "       0.3445919 , 0.3478086 , 0.35022116, 0.35102534, 0.35504624,\n",
       "       0.3574588 , 0.35826296, 0.35906714, 0.35987133, 0.3614797 ,\n",
       "       0.3622839 , 0.3646964 , 0.37354243, 0.37595496, 0.3795738 ,\n",
       "       0.3831926 , 0.38399678, 0.38480097, 0.38560516, 0.3872135 ,\n",
       "       0.38801768, 0.38882187, 0.38962606, 0.39123443, 0.3920386 ,\n",
       "       0.39525533, 0.3968637 , 0.39766788, 0.39847204, 0.40249297,\n",
       "       0.4041013 , 0.40651387, 0.40731806, 0.41214314, 0.41616404,\n",
       "       0.41696823, 0.42098916, 0.42340168, 0.42501006, 0.42903095,\n",
       "       0.4322477 , 0.4354644 , 0.43787697, 0.43868116, 0.44270205,\n",
       "       0.44511458, 0.44591877, 0.44672295, 0.4499397 , 0.45074385,\n",
       "       0.45235223, 0.45275432, 0.4531564 , 0.45556897, 0.46039405,\n",
       "       0.46361077, 0.4708484 , 0.4716526 , 0.47326097, 0.47406512,\n",
       "       0.48049858, 0.48291114, 0.4853237 , 0.48693204, 0.48773623,\n",
       "       0.4885404 , 0.4893446 , 0.49095297, 0.4925613 , 0.4933655 ,\n",
       "       0.49416968, 0.49577805, 0.49819058, 0.49979895, 0.5030157 ,\n",
       "       0.5038199 , 0.5062324 , 0.50703657, 0.50784075, 0.5110575 ,\n",
       "       0.51266587, 0.51347005, 0.5150784 , 0.5199035 , 0.52151185,\n",
       "       0.52231604, 0.5247286 , 0.5255328 , 0.52633697, 0.5287495 ,\n",
       "       0.53035784, 0.531162  , 0.53437877, 0.53518295, 0.5392039 ,\n",
       "       0.5408122 , 0.54242057, 0.54402894, 0.5448331 , 0.5456373 ,\n",
       "       0.5464415 , 0.54804987, 0.54965824, 0.5528749 , 0.5552875 ,\n",
       "       0.55770004, 0.5585042 , 0.5601126 , 0.5609168 , 0.56252515,\n",
       "       0.56332934, 0.56493765, 0.56574184, 0.57137114, 0.5761962 ,\n",
       "       0.5770004 , 0.57780457, 0.5818255 , 0.58343387, 0.58504224,\n",
       "       0.5858464 , 0.5866506 , 0.5870527 , 0.5898673 , 0.59147567,\n",
       "       0.59227985, 0.5938882 , 0.5954966 , 0.59710497, 0.59790915,\n",
       "       0.59951746, 0.60193   , 0.6035384 , 0.60595095, 0.6091677 ,\n",
       "       0.6099719 , 0.6123844 , 0.6156011 , 0.6172095 , 0.61881787,\n",
       "       0.62042624, 0.62283874, 0.6236429 , 0.6248492 , 0.6252513 ,\n",
       "       0.6260555 , 0.62685966, 0.6300764 , 0.6316848 , 0.63248897,\n",
       "       0.6340973 , 0.637314  , 0.6381182 , 0.64053077, 0.64133495,\n",
       "       0.6517893 , 0.65500605, 0.6590269 , 0.6598311 , 0.6614395 ,\n",
       "       0.6654604 , 0.6662646 , 0.66787297, 0.6686771 , 0.67028546,\n",
       "       0.672698  , 0.6743064 , 0.67671895, 0.67752314, 0.6783273 ,\n",
       "       0.6791315 , 0.6807398 , 0.68476075, 0.68556494, 0.6952151 ,\n",
       "       0.6960193 , 0.69843185, 0.7000402 , 0.7016486 , 0.7024528 ,\n",
       "       0.70325696, 0.70566946, 0.7096904 , 0.71129876, 0.7161238 ,\n",
       "       0.716928  , 0.72054684, 0.7233615 , 0.72577405, 0.72657824,\n",
       "       0.72818655, 0.72899073, 0.7322075 , 0.73381585, 0.73462003,\n",
       "       0.7386409 , 0.7394451 , 0.743466  , 0.7458786 , 0.75070363,\n",
       "       0.7515078 , 0.7531162 , 0.75633293, 0.7579413 , 0.76115805,\n",
       "       0.7619622 , 0.76357055, 0.7651789 , 0.76839566, 0.77000403,\n",
       "       0.7708082 , 0.7748291 , 0.77724165, 0.7812626 , 0.78206676,\n",
       "       0.78287095, 0.78608763, 0.7868918 , 0.79010856, 0.79091275,\n",
       "       0.79171693, 0.7933253 , 0.7949337 , 0.79573786, 0.7973462 ,\n",
       "       0.79895455, 0.8005629 , 0.8021713 , 0.80538803, 0.8069964 ,\n",
       "       0.8086047 , 0.8110173 , 0.81182146, 0.81262565, 0.8158424 ,\n",
       "       0.81745076, 0.8222758 , 0.8238842 , 0.82549256, 0.82629675,\n",
       "       0.82710093, 0.8279051 , 0.8327302 , 0.83433855, 0.83514273,\n",
       "       0.8367511 , 0.8375553 , 0.8383595 , 0.83916366, 0.83996785,\n",
       "       0.8415762 , 0.8423804 , 0.84318453, 0.8439887 , 0.8447929 ,\n",
       "       0.8455971 , 0.8464013 , 0.84720546, 0.84841174, 0.84881383,\n",
       "       0.8512264 , 0.85524726, 0.8576598 , 0.8580619 , 0.858464  ,\n",
       "       0.8665058 , 0.87052673, 0.8713309 , 0.8729393 , 0.87615603,\n",
       "       0.8769602 , 0.8801769 , 0.88258946, 0.8858062 , 0.8866104 ,\n",
       "       0.8874146 , 0.88821876, 0.88902295, 0.89063126, 0.8930438 ,\n",
       "       0.89666265, 0.8986731 , 0.9034982 , 0.90591073, 0.9091275 ,\n",
       "       0.91073585, 0.9139525 , 0.9147567 , 0.9155609 , 0.920386  ,\n",
       "       0.9211902 , 0.92360276, 0.92601526, 0.9276236 , 0.929232  ,\n",
       "       0.93164456, 0.9352634 , 0.9356655 , 0.938078  , 0.9388822 ,\n",
       "       0.94531566, 0.9493365 , 0.9501407 , 0.9509449 , 0.9525533 ,\n",
       "       0.9565742 , 0.9630076 , 0.9638118 , 0.96783274, 0.9702453 ,\n",
       "       0.9710494 , 0.97587454, 0.9774829 , 0.9782871 , 0.9790913 ,\n",
       "       0.98311216, 0.9855247 , 0.98874146, 0.9919582 , 0.9935666 ,\n",
       "       0.99758744, 0.9983916 , 0.9991958 , 1.        ], dtype=float32)"
      ]
     },
     "execution_count": 70,
     "metadata": {},
     "output_type": "execute_result"
    }
   ],
   "source": [
    "np.unique(y_train)"
   ]
  },
  {
   "cell_type": "code",
   "execution_count": null,
   "metadata": {},
   "outputs": [],
   "source": []
  }
 ],
 "metadata": {
  "kernelspec": {
   "display_name": "Python 3",
   "language": "python",
   "name": "python3"
  },
  "language_info": {
   "codemirror_mode": {
    "name": "ipython",
    "version": 3
   },
   "file_extension": ".py",
   "mimetype": "text/x-python",
   "name": "python",
   "nbconvert_exporter": "python",
   "pygments_lexer": "ipython3",
   "version": "3.7.3"
  }
 },
 "nbformat": 4,
 "nbformat_minor": 2
}
