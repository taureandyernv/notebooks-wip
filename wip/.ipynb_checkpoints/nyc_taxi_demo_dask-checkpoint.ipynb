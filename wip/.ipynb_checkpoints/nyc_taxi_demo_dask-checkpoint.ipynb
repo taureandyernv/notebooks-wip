{
 "cells": [
  {
   "cell_type": "markdown",
   "metadata": {},
   "source": [
    "# PyMapD and PyGDF Demo on NY Taxi Data Subset"
   ]
  },
  {
   "cell_type": "markdown",
   "metadata": {},
   "source": [
    "In this example, we will use PyMapD to create and populate a table of NY Taxi data from a CSV file.  Then, we query the MapD database to get a PyGDF GPU dataframe and manipulate the data using groupby, join and other dataframe operations."
   ]
  },
  {
   "cell_type": "code",
   "execution_count": 1,
   "metadata": {
    "collapsed": true
   },
   "outputs": [
    {
     "name": "stderr",
     "output_type": "stream",
     "text": [
      "/conda/envs/rapids/lib/python3.7/site-packages/dask/config.py:168: YAMLLoadWarning: calling yaml.load() without Loader=... is deprecated, as the default Loader is unsafe. Please read https://msg.pyyaml.org/load for full details.\n",
      "  data = yaml.load(f.read()) or {}\n"
     ]
    }
   ],
   "source": [
    "import sys\n",
    "sys.path.append('/rapids/dask-cuml/')\n",
    "import dask.delayed\n",
    "import dask_cuml as cuml\n",
    "import dask.dataframe as dd\n",
    "import cudf\n",
    "import numpy as np\n",
    "import pandas as pd\n",
    "import dask_cudf as dcudf\n",
    "import os\n",
    "import gzip"
   ]
  },
  {
   "cell_type": "markdown",
   "metadata": {},
   "source": []
  },
  {
   "cell_type": "markdown",
   "metadata": {},
   "source": [
    "## Helper Functions"
   ]
  },
  {
   "cell_type": "markdown",
   "metadata": {},
   "source": [
    "### Load data from CSV"
   ]
  },
  {
   "cell_type": "code",
   "execution_count": 3,
   "metadata": {
    "collapsed": true
   },
   "outputs": [],
   "source": [
    "def load_data(nrows, ncols, cached = '/rapids/notebooks/cuml/data/nytaxi_pre_mapd_200k.csv.gz'):\n",
    "    if os.path.exists(cached):\n",
    "        print('use nytaxi data')\n",
    "        with gzip.open(cached) as f:\n",
    "            X = cudf.read_csv(cached)\n",
    "            #X = cudf.DataFrame.from_pandas(cached)\n",
    "    #else:\n",
    "    #    print('use random data')\n",
    "    #    X = np.random.rand(nrows,ncols)\n",
    "    #df = pd.DataFrame({'fea%d'%i:X[:,i] for i in range(X.shape[1])})\n",
    "    return X"
   ]
  },
  {
   "cell_type": "code",
   "execution_count": 2,
   "metadata": {},
   "outputs": [],
   "source": [
    "def load_dask_data(nrows, ncols, cached = '/rapids/notebooks/cuml/data/nytaxi_pre_mapd_200k.csv.gz'):\n",
    "    if os.path.exists(cached):\n",
    "        print('use nytaxi data')\n",
    "        with gzip.open(cached) as f:\n",
    "            X = dcudf.read_csv(cached)\n",
    "            #X = cudf.DataFrame.from_pandas(cached)\n",
    "    #else:\n",
    "    #    print('use random data')\n",
    "    #    X = np.random.rand(nrows,ncols)\n",
    "    #df = pd.DataFrame({'fea%d'%i:X[:,i] for i in range(X.shape[1])})\n",
    "    return X"
   ]
  },
  {
   "cell_type": "markdown",
   "metadata": {},
   "source": [
    "## Get Data and put it into a cudf Dataframe"
   ]
  },
  {
   "cell_type": "code",
   "execution_count": 5,
   "metadata": {},
   "outputs": [
    {
     "name": "stdout",
     "output_type": "stream",
     "text": [
      "use nytaxi data\n",
      "data (200000, 25)\n"
     ]
    }
   ],
   "source": [
    "nrows = 2**25\n",
    "ncols = 40\n",
    "\n",
    "df = load_data(nrows,ncols)\n",
    "print('data',df.shape)"
   ]
  },
  {
   "cell_type": "code",
   "execution_count": 6,
   "metadata": {},
   "outputs": [
    {
     "name": "stdout",
     "output_type": "stream",
     "text": [
      "use nytaxi data\n",
      "data (Delayed('int-021fb552-455e-4f50-bfcd-b96e8aec60bb'), 25)\n"
     ]
    }
   ],
   "source": [
    "ddf = load_dask_data(nrows,ncols)\n",
    "print('data',ddf.shape)"
   ]
  },
  {
   "cell_type": "code",
   "execution_count": 7,
   "metadata": {},
   "outputs": [
    {
     "data": {
      "text/plain": [
       "vendor_id                         object\n",
       "rate_code                          int64\n",
       "store_and_fwd_flag                object\n",
       "passenger_count                    int64\n",
       "trip_time_in_secs                  int64\n",
       "trip_distance                    float64\n",
       "pickup_longitude                 float64\n",
       "pickup_latitude                  float64\n",
       "dropoff_longitude         datetime64[ms]\n",
       "dropoff_latitude          datetime64[ms]\n",
       "tolls_amount                     float64\n",
       "tip_amount                       float64\n",
       "total_amount                     float64\n",
       "mta_tax                          float64\n",
       "fare_amount                      float64\n",
       "payment_type                      object\n",
       "surcharge                        float64\n",
       "pickup_datetime_year               int64\n",
       "pickup_datetime_month              int64\n",
       "pickup_datetime_day                int64\n",
       "pickup_datetime_hours              int64\n",
       "dropoff_datetime_year              int64\n",
       "dropoff_datetime_month             int64\n",
       "dropoff_datetime_day               int64\n",
       "dropoff_datetime_hours             int64\n",
       "dtype: object"
      ]
     },
     "execution_count": 7,
     "metadata": {},
     "output_type": "execute_result"
    }
   ],
   "source": [
    "df.dtypes"
   ]
  },
  {
   "cell_type": "markdown",
   "metadata": {},
   "source": [
    "### Make table"
   ]
  },
  {
   "cell_type": "code",
   "execution_count": 8,
   "metadata": {},
   "outputs": [
    {
     "data": {
      "text/plain": [
       "vendor_id                         object\n",
       "rate_code                          int64\n",
       "store_and_fwd_flag                object\n",
       "passenger_count                    int64\n",
       "trip_time_in_secs                  int64\n",
       "trip_distance                    float64\n",
       "pickup_longitude                 float64\n",
       "pickup_latitude                  float64\n",
       "dropoff_longitude         datetime64[ms]\n",
       "dropoff_latitude          datetime64[ms]\n",
       "tolls_amount                     float64\n",
       "tip_amount                       float64\n",
       "total_amount                     float64\n",
       "mta_tax                          float64\n",
       "fare_amount                      float64\n",
       "payment_type                      object\n",
       "surcharge                        float64\n",
       "pickup_datetime_year               int64\n",
       "pickup_datetime_month              int64\n",
       "pickup_datetime_day                int64\n",
       "pickup_datetime_hours              int64\n",
       "dropoff_datetime_year              int64\n",
       "dropoff_datetime_month             int64\n",
       "dropoff_datetime_day               int64\n",
       "dropoff_datetime_hours             int64\n",
       "dtype: object"
      ]
     },
     "execution_count": 8,
     "metadata": {},
     "output_type": "execute_result"
    }
   ],
   "source": [
    "ddf.dtypes"
   ]
  },
  {
   "cell_type": "code",
   "execution_count": 11,
   "metadata": {},
   "outputs": [
    {
     "name": "stdout",
     "output_type": "stream",
     "text": [
      "   vendor_id  rate_code  store_and_fwd_flag  passenger_count  trip_time_in_secs       trip_distance    pickup_longitude ...  dropoff_datetime_hours\n",
      "0        CMT          1                   N                4                382                 1.0          -73.978165 ...                      15\n",
      "1        CMT          1                   N                1                259                 1.5  -74.00668300000001 ...                       0\n",
      "2        CMT          1                   N                1                282                 1.1          -74.004707 ...                      18\n",
      "3        CMT          1                   N                2                244  0.7000000000000001          -73.974602 ...                      23\n",
      "4        CMT          1                   N                1                560                 2.1  -73.97625000000001 ...                      23\n",
      "[17 more columns]\n"
     ]
    }
   ],
   "source": [
    "print(df.head(5))"
   ]
  },
  {
   "cell_type": "code",
   "execution_count": null,
   "metadata": {},
   "outputs": [],
   "source": [
    "print(dask.delayed(df.head(5))"
   ]
  },
  {
   "cell_type": "markdown",
   "metadata": {},
   "source": [
    "As you can see, unfortunately, Dask_cudf currently is a work in progress, with many limiations, and this is why we are still using cudf for the data pre-processing"
   ]
  },
  {
   "cell_type": "code",
   "execution_count": 14,
   "metadata": {},
   "outputs": [],
   "source": [
    "ddf = dcudf.from_cudf(df, npartitions=2)"
   ]
  },
  {
   "cell_type": "markdown",
   "metadata": {},
   "source": [
    "Decompress CSV archive"
   ]
  },
  {
   "cell_type": "code",
   "execution_count": 16,
   "metadata": {},
   "outputs": [
    {
     "data": {
      "text/plain": [
       "cudf.dataframe.dataframe.DataFrame"
      ]
     },
     "execution_count": 16,
     "metadata": {},
     "output_type": "execute_result"
    }
   ],
   "source": [
    "type(df)"
   ]
  },
  {
   "cell_type": "code",
   "execution_count": 17,
   "metadata": {},
   "outputs": [
    {
     "name": "stdout",
     "output_type": "stream",
     "text": [
      "nrows 200000\n"
     ]
    }
   ],
   "source": [
    "print('nrows', len(df))"
   ]
  },
  {
   "cell_type": "markdown",
   "metadata": {},
   "source": [
    "Inspect column types"
   ]
  },
  {
   "cell_type": "code",
   "execution_count": 18,
   "metadata": {},
   "outputs": [
    {
     "data": {
      "text/plain": [
       "vendor_id                         object\n",
       "rate_code                          int64\n",
       "store_and_fwd_flag                object\n",
       "passenger_count                    int64\n",
       "trip_time_in_secs                  int64\n",
       "trip_distance                    float64\n",
       "pickup_longitude                 float64\n",
       "pickup_latitude                  float64\n",
       "dropoff_longitude         datetime64[ms]\n",
       "dropoff_latitude          datetime64[ms]\n",
       "tolls_amount                     float64\n",
       "tip_amount                       float64\n",
       "total_amount                     float64\n",
       "mta_tax                          float64\n",
       "fare_amount                      float64\n",
       "payment_type                      object\n",
       "surcharge                        float64\n",
       "pickup_datetime_year               int64\n",
       "pickup_datetime_month              int64\n",
       "pickup_datetime_day                int64\n",
       "pickup_datetime_hours              int64\n",
       "dropoff_datetime_year              int64\n",
       "dropoff_datetime_month             int64\n",
       "dropoff_datetime_day               int64\n",
       "dropoff_datetime_hours             int64\n",
       "dtype: object"
      ]
     },
     "execution_count": 18,
     "metadata": {},
     "output_type": "execute_result"
    }
   ],
   "source": [
    "df.dtypes"
   ]
  },
  {
   "cell_type": "code",
   "execution_count": 20,
   "metadata": {},
   "outputs": [
    {
     "data": {
      "text/html": [
       "<div>\n",
       "<style scoped>\n",
       "    .dataframe tbody tr th:only-of-type {\n",
       "        vertical-align: middle;\n",
       "    }\n",
       "\n",
       "    .dataframe tbody tr th {\n",
       "        vertical-align: top;\n",
       "    }\n",
       "\n",
       "    .dataframe thead th {\n",
       "        text-align: right;\n",
       "    }\n",
       "</style>\n",
       "<table border=\"1\" class=\"dataframe\">\n",
       "  <thead>\n",
       "    <tr style=\"text-align: right;\">\n",
       "      <th></th>\n",
       "      <th>vendor_id</th>\n",
       "      <th>rate_code</th>\n",
       "      <th>store_and_fwd_flag</th>\n",
       "      <th>passenger_count</th>\n",
       "      <th>trip_time_in_secs</th>\n",
       "      <th>trip_distance</th>\n",
       "      <th>pickup_longitude</th>\n",
       "      <th>pickup_latitude</th>\n",
       "      <th>dropoff_longitude</th>\n",
       "      <th>dropoff_latitude</th>\n",
       "      <th>...</th>\n",
       "      <th>payment_type</th>\n",
       "      <th>surcharge</th>\n",
       "      <th>pickup_datetime_year</th>\n",
       "      <th>pickup_datetime_month</th>\n",
       "      <th>pickup_datetime_day</th>\n",
       "      <th>pickup_datetime_hours</th>\n",
       "      <th>dropoff_datetime_year</th>\n",
       "      <th>dropoff_datetime_month</th>\n",
       "      <th>dropoff_datetime_day</th>\n",
       "      <th>dropoff_datetime_hours</th>\n",
       "    </tr>\n",
       "  </thead>\n",
       "  <tbody>\n",
       "    <tr>\n",
       "      <th>0</th>\n",
       "      <td>CMT</td>\n",
       "      <td>1</td>\n",
       "      <td>N</td>\n",
       "      <td>4</td>\n",
       "      <td>382</td>\n",
       "      <td>1.0</td>\n",
       "      <td>-73.978165</td>\n",
       "      <td>40.757977</td>\n",
       "      <td>2016-09-26 22:34:40</td>\n",
       "      <td>1969-12-31 23:59:59.999</td>\n",
       "      <td>...</td>\n",
       "      <td>CSH</td>\n",
       "      <td>0.0</td>\n",
       "      <td>2013</td>\n",
       "      <td>1</td>\n",
       "      <td>1</td>\n",
       "      <td>15</td>\n",
       "      <td>2013</td>\n",
       "      <td>1</td>\n",
       "      <td>1</td>\n",
       "      <td>15</td>\n",
       "    </tr>\n",
       "    <tr>\n",
       "      <th>1</th>\n",
       "      <td>CMT</td>\n",
       "      <td>1</td>\n",
       "      <td>N</td>\n",
       "      <td>1</td>\n",
       "      <td>259</td>\n",
       "      <td>1.5</td>\n",
       "      <td>-74.006683</td>\n",
       "      <td>40.731781</td>\n",
       "      <td>1914-03-03 12:05:20</td>\n",
       "      <td>1969-12-31 23:59:59.999</td>\n",
       "      <td>...</td>\n",
       "      <td>CSH</td>\n",
       "      <td>0.5</td>\n",
       "      <td>2013</td>\n",
       "      <td>1</td>\n",
       "      <td>6</td>\n",
       "      <td>0</td>\n",
       "      <td>2013</td>\n",
       "      <td>1</td>\n",
       "      <td>6</td>\n",
       "      <td>0</td>\n",
       "    </tr>\n",
       "    <tr>\n",
       "      <th>2</th>\n",
       "      <td>CMT</td>\n",
       "      <td>1</td>\n",
       "      <td>N</td>\n",
       "      <td>1</td>\n",
       "      <td>282</td>\n",
       "      <td>1.1</td>\n",
       "      <td>-74.004707</td>\n",
       "      <td>40.737770</td>\n",
       "      <td>2005-09-24 07:19:28</td>\n",
       "      <td>1969-12-31 23:59:59.999</td>\n",
       "      <td>...</td>\n",
       "      <td>CSH</td>\n",
       "      <td>1.0</td>\n",
       "      <td>2013</td>\n",
       "      <td>1</td>\n",
       "      <td>5</td>\n",
       "      <td>18</td>\n",
       "      <td>2013</td>\n",
       "      <td>1</td>\n",
       "      <td>5</td>\n",
       "      <td>18</td>\n",
       "    </tr>\n",
       "    <tr>\n",
       "      <th>3</th>\n",
       "      <td>CMT</td>\n",
       "      <td>1</td>\n",
       "      <td>N</td>\n",
       "      <td>2</td>\n",
       "      <td>244</td>\n",
       "      <td>0.7</td>\n",
       "      <td>-73.974602</td>\n",
       "      <td>40.759945</td>\n",
       "      <td>1948-07-07 22:00:32</td>\n",
       "      <td>1969-12-31 23:59:59.999</td>\n",
       "      <td>...</td>\n",
       "      <td>CSH</td>\n",
       "      <td>0.5</td>\n",
       "      <td>2013</td>\n",
       "      <td>1</td>\n",
       "      <td>7</td>\n",
       "      <td>23</td>\n",
       "      <td>2013</td>\n",
       "      <td>1</td>\n",
       "      <td>7</td>\n",
       "      <td>23</td>\n",
       "    </tr>\n",
       "    <tr>\n",
       "      <th>4</th>\n",
       "      <td>CMT</td>\n",
       "      <td>1</td>\n",
       "      <td>N</td>\n",
       "      <td>1</td>\n",
       "      <td>560</td>\n",
       "      <td>2.1</td>\n",
       "      <td>-73.976250</td>\n",
       "      <td>40.748528</td>\n",
       "      <td>1971-02-22 14:17:36</td>\n",
       "      <td>1969-12-31 23:59:59.999</td>\n",
       "      <td>...</td>\n",
       "      <td>CSH</td>\n",
       "      <td>0.5</td>\n",
       "      <td>2013</td>\n",
       "      <td>1</td>\n",
       "      <td>7</td>\n",
       "      <td>23</td>\n",
       "      <td>2013</td>\n",
       "      <td>1</td>\n",
       "      <td>7</td>\n",
       "      <td>23</td>\n",
       "    </tr>\n",
       "  </tbody>\n",
       "</table>\n",
       "<p>5 rows × 25 columns</p>\n",
       "</div>"
      ],
      "text/plain": [
       "  vendor_id  rate_code store_and_fwd_flag  passenger_count  trip_time_in_secs  \\\n",
       "0       CMT          1                  N                4                382   \n",
       "1       CMT          1                  N                1                259   \n",
       "2       CMT          1                  N                1                282   \n",
       "3       CMT          1                  N                2                244   \n",
       "4       CMT          1                  N                1                560   \n",
       "\n",
       "   trip_distance  pickup_longitude  pickup_latitude   dropoff_longitude  \\\n",
       "0            1.0        -73.978165        40.757977 2016-09-26 22:34:40   \n",
       "1            1.5        -74.006683        40.731781 1914-03-03 12:05:20   \n",
       "2            1.1        -74.004707        40.737770 2005-09-24 07:19:28   \n",
       "3            0.7        -73.974602        40.759945 1948-07-07 22:00:32   \n",
       "4            2.1        -73.976250        40.748528 1971-02-22 14:17:36   \n",
       "\n",
       "         dropoff_latitude           ...            payment_type  surcharge  \\\n",
       "0 1969-12-31 23:59:59.999           ...                     CSH        0.0   \n",
       "1 1969-12-31 23:59:59.999           ...                     CSH        0.5   \n",
       "2 1969-12-31 23:59:59.999           ...                     CSH        1.0   \n",
       "3 1969-12-31 23:59:59.999           ...                     CSH        0.5   \n",
       "4 1969-12-31 23:59:59.999           ...                     CSH        0.5   \n",
       "\n",
       "   pickup_datetime_year  pickup_datetime_month  pickup_datetime_day  \\\n",
       "0                  2013                      1                    1   \n",
       "1                  2013                      1                    6   \n",
       "2                  2013                      1                    5   \n",
       "3                  2013                      1                    7   \n",
       "4                  2013                      1                    7   \n",
       "\n",
       "  pickup_datetime_hours  dropoff_datetime_year  dropoff_datetime_month  \\\n",
       "0                    15                   2013                       1   \n",
       "1                     0                   2013                       1   \n",
       "2                    18                   2013                       1   \n",
       "3                    23                   2013                       1   \n",
       "4                    23                   2013                       1   \n",
       "\n",
       "   dropoff_datetime_day  dropoff_datetime_hours  \n",
       "0                     1                      15  \n",
       "1                     6                       0  \n",
       "2                     5                      18  \n",
       "3                     7                      23  \n",
       "4                     7                      23  \n",
       "\n",
       "[5 rows x 25 columns]"
      ]
     },
     "execution_count": 20,
     "metadata": {},
     "output_type": "execute_result"
    }
   ],
   "source": [
    "df.head().to_pandas()"
   ]
  },
  {
   "cell_type": "markdown",
   "metadata": {},
   "source": [
    "## Groupby lat lon grid"
   ]
  },
  {
   "cell_type": "markdown",
   "metadata": {},
   "source": [
    "We want to group each record by their pickup location. We will to round the lat lon with the ``round_latlon`` method.  By using ``.applymap``, the rounding method will be compiled into GPU code."
   ]
  },
  {
   "cell_type": "code",
   "execution_count": 21,
   "metadata": {
    "collapsed": true
   },
   "outputs": [],
   "source": [
    "from math import floor\n",
    "\n",
    "def round_latlon(x):\n",
    "    scale = 5\n",
    "    return floor(x * scale) / scale"
   ]
  },
  {
   "cell_type": "code",
   "execution_count": 22,
   "metadata": {
    "collapsed": true
   },
   "outputs": [],
   "source": [
    "group_df = df.loc[:, ['pickup_longitude', 'pickup_latitude', 'tip_amount', 'fare_amount']] \n",
    "\n",
    "group_df['pickup_longitude'] = group_df['pickup_longitude'].applymap(round_latlon)\n",
    "group_df['pickup_latitude'] = group_df['pickup_latitude'].applymap(round_latlon)\n",
    "\n",
    "group_df['tip_ratio'] = group_df['tip_amount'] / group_df['fare_amount']\n"
   ]
  },
  {
   "cell_type": "code",
   "execution_count": 23,
   "metadata": {},
   "outputs": [
    {
     "data": {
      "text/plain": [
       "pickup_longitude    float64\n",
       "pickup_latitude     float64\n",
       "tip_amount          float64\n",
       "fare_amount         float64\n",
       "tip_ratio           float64\n",
       "dtype: object"
      ]
     },
     "execution_count": 23,
     "metadata": {},
     "output_type": "execute_result"
    }
   ],
   "source": [
    "group_df.dtypes"
   ]
  },
  {
   "cell_type": "code",
   "execution_count": 24,
   "metadata": {},
   "outputs": [
    {
     "data": {
      "text/html": [
       "<div>\n",
       "<style scoped>\n",
       "    .dataframe tbody tr th:only-of-type {\n",
       "        vertical-align: middle;\n",
       "    }\n",
       "\n",
       "    .dataframe tbody tr th {\n",
       "        vertical-align: top;\n",
       "    }\n",
       "\n",
       "    .dataframe thead th {\n",
       "        text-align: right;\n",
       "    }\n",
       "</style>\n",
       "<table border=\"1\" class=\"dataframe\">\n",
       "  <thead>\n",
       "    <tr style=\"text-align: right;\">\n",
       "      <th></th>\n",
       "      <th>pickup_longitude</th>\n",
       "      <th>pickup_latitude</th>\n",
       "      <th>tip_amount</th>\n",
       "      <th>fare_amount</th>\n",
       "      <th>tip_ratio</th>\n",
       "    </tr>\n",
       "  </thead>\n",
       "  <tbody>\n",
       "    <tr>\n",
       "      <th>0</th>\n",
       "      <td>-74.0</td>\n",
       "      <td>40.6</td>\n",
       "      <td>0.0</td>\n",
       "      <td>6.5</td>\n",
       "      <td>0.0</td>\n",
       "    </tr>\n",
       "    <tr>\n",
       "      <th>1</th>\n",
       "      <td>-74.2</td>\n",
       "      <td>40.6</td>\n",
       "      <td>0.0</td>\n",
       "      <td>6.0</td>\n",
       "      <td>0.0</td>\n",
       "    </tr>\n",
       "    <tr>\n",
       "      <th>2</th>\n",
       "      <td>-74.2</td>\n",
       "      <td>40.6</td>\n",
       "      <td>0.0</td>\n",
       "      <td>5.5</td>\n",
       "      <td>0.0</td>\n",
       "    </tr>\n",
       "    <tr>\n",
       "      <th>3</th>\n",
       "      <td>-74.0</td>\n",
       "      <td>40.6</td>\n",
       "      <td>0.0</td>\n",
       "      <td>5.0</td>\n",
       "      <td>0.0</td>\n",
       "    </tr>\n",
       "    <tr>\n",
       "      <th>4</th>\n",
       "      <td>-74.0</td>\n",
       "      <td>40.6</td>\n",
       "      <td>0.0</td>\n",
       "      <td>9.5</td>\n",
       "      <td>0.0</td>\n",
       "    </tr>\n",
       "  </tbody>\n",
       "</table>\n",
       "</div>"
      ],
      "text/plain": [
       "   pickup_longitude  pickup_latitude  tip_amount  fare_amount  tip_ratio\n",
       "0             -74.0             40.6         0.0          6.5        0.0\n",
       "1             -74.2             40.6         0.0          6.0        0.0\n",
       "2             -74.2             40.6         0.0          5.5        0.0\n",
       "3             -74.0             40.6         0.0          5.0        0.0\n",
       "4             -74.0             40.6         0.0          9.5        0.0"
      ]
     },
     "execution_count": 24,
     "metadata": {},
     "output_type": "execute_result"
    }
   ],
   "source": [
    "group_df.head().to_pandas()"
   ]
  },
  {
   "cell_type": "markdown",
   "metadata": {},
   "source": [
    "Here, we run groupby and specify the aggregating methods on each column."
   ]
  },
  {
   "cell_type": "code",
   "execution_count": 34,
   "metadata": {},
   "outputs": [],
   "source": [
    "from numba import cuda,jit,float32\n",
    "\n",
    "@cuda.jit(device=True)\n",
    "def compute_std_with_mean(array,std,mean):\n",
    "    # std is a shared memory array\n",
    "    # mean is a scaler, the mean value of array\n",
    "    # len(std) == TPB\n",
    "    # the kernel has only one TB\n",
    "    # the final result is in std[0]\n",
    "    tid = cuda.threadIdx.x\n",
    "    initialize(std,0,len(std))\n",
    "    cuda.syncthreads()\n",
    "\n",
    "    tid = cuda.threadIdx.x\n",
    "    for i in range(cuda.threadIdx.x, len(array), cuda.blockDim.x):\n",
    "        std[tid] += (array[i]-mean)**2\n",
    "    cuda.syncthreads()\n",
    "\n",
    "    reduction_sum_SM(std)\n",
    "    if tid == 0:\n",
    "        if len(array)>1:\n",
    "            std[0] = math.sqrt(std[0]/(len(array)-1))\n",
    "        else:\n",
    "            std[0] = 0\n",
    "    cuda.syncthreads()\n",
    "\n",
    "@cuda.jit(device=True)            \n",
    "def compute_mean(array,mean): \n",
    "    # mean is a shared memory array\n",
    "    # the kernel has only one TB\n",
    "    # the final result is in mean[0]\n",
    "    tid = cuda.threadIdx.x\n",
    "    initialize(mean,0,TPB)\n",
    "    cuda.syncthreads()\n",
    "   \n",
    "    tid = cuda.threadIdx.x \n",
    "    for i in range(cuda.threadIdx.x, len(array), cuda.blockDim.x):\n",
    "        mean[tid] += array[i]\n",
    "    cuda.syncthreads()\n",
    "\n",
    "    reduction_sum_SM(mean)\n",
    "    if tid == 0: \n",
    "        mean[0]/=len(array)\n",
    "    cuda.syncthreads()\n",
    "\n",
    "def compute_std(array,std):\n",
    "    # std is a shared memory array\n",
    "    # len(std) == TPB\n",
    "    # the kernel has only one TB\n",
    "    # the final result is in std[0]\n",
    "    compute_mean(array,std)\n",
    "    mean = std[0]\n",
    "    cuda.syncthreads()\n",
    "    compute_std_with_mean(array,std,mean)"
   ]
  },
  {
   "cell_type": "code",
   "execution_count": 33,
   "metadata": {},
   "outputs": [
    {
     "ename": "RuntimeError",
     "evalue": "ERROR: this aggregator has not been implemented yet",
     "output_type": "error",
     "traceback": [
      "\u001b[0;31m---------------------------------------------------------------------------\u001b[0m",
      "\u001b[0;31mRuntimeError\u001b[0m                              Traceback (most recent call last)",
      "\u001b[0;32m<ipython-input-33-34fddcb7acf7>\u001b[0m in \u001b[0;36m<module>\u001b[0;34m\u001b[0m\n\u001b[1;32m      9\u001b[0m \u001b[0;34m\u001b[0m\u001b[0m\n\u001b[1;32m     10\u001b[0m \u001b[0;34m\u001b[0m\u001b[0m\n\u001b[0;32m---> 11\u001b[0;31m \u001b[0mgrouped_stats\u001b[0m \u001b[0;34m=\u001b[0m \u001b[0mgroup_df\u001b[0m\u001b[0;34m.\u001b[0m\u001b[0mgroupby\u001b[0m\u001b[0;34m(\u001b[0m\u001b[0;34m[\u001b[0m\u001b[0;34m'pickup_longitude'\u001b[0m\u001b[0;34m,\u001b[0m \u001b[0;34m'pickup_latitude'\u001b[0m\u001b[0;34m]\u001b[0m\u001b[0;34m)\u001b[0m\u001b[0;34m.\u001b[0m\u001b[0magg\u001b[0m\u001b[0;34m(\u001b[0m\u001b[0maggs\u001b[0m\u001b[0;34m)\u001b[0m\u001b[0;34m\u001b[0m\u001b[0;34m\u001b[0m\u001b[0m\n\u001b[0m\u001b[1;32m     12\u001b[0m \u001b[0mprint\u001b[0m\u001b[0;34m(\u001b[0m\u001b[0;34m'total groups'\u001b[0m\u001b[0;34m,\u001b[0m \u001b[0mlen\u001b[0m\u001b[0;34m(\u001b[0m\u001b[0mgrouped_stats\u001b[0m\u001b[0;34m)\u001b[0m\u001b[0;34m)\u001b[0m\u001b[0;34m\u001b[0m\u001b[0;34m\u001b[0m\u001b[0m\n\u001b[1;32m     13\u001b[0m \u001b[0mgrouped_stats\u001b[0m\u001b[0;34m.\u001b[0m\u001b[0mhead\u001b[0m\u001b[0;34m(\u001b[0m\u001b[0;34m)\u001b[0m\u001b[0;34m.\u001b[0m\u001b[0mto_pandas\u001b[0m\u001b[0;34m(\u001b[0m\u001b[0;34m)\u001b[0m\u001b[0;34m\u001b[0m\u001b[0;34m\u001b[0m\u001b[0m\n",
      "\u001b[0;32m/conda/envs/rapids/lib/python3.7/site-packages/cudf-0.6.0.dev0+1690.g3a8dc23-py3.7-linux-x86_64.egg/cudf/groupby/groupby.py\u001b[0m in \u001b[0;36magg\u001b[0;34m(self, args)\u001b[0m\n\u001b[1;32m    480\u001b[0m                                                  \u001b[0madd_col_values\u001b[0m\u001b[0;34m,\u001b[0m \u001b[0mctx\u001b[0m\u001b[0;34m,\u001b[0m \u001b[0;34m[\u001b[0m\u001b[0mval\u001b[0m\u001b[0;34m]\u001b[0m\u001b[0;34m,\u001b[0m\u001b[0;34m\u001b[0m\u001b[0;34m\u001b[0m\u001b[0m\n\u001b[1;32m    481\u001b[0m                                                  \u001b[0mval_columns_out\u001b[0m\u001b[0;34m,\u001b[0m\u001b[0;34m\u001b[0m\u001b[0;34m\u001b[0m\u001b[0m\n\u001b[0;32m--> 482\u001b[0;31m                                                  sort_result=sort_result)\n\u001b[0m\u001b[1;32m    483\u001b[0m                 \u001b[0;32melif\u001b[0m \u001b[0misinstance\u001b[0m\u001b[0;34m(\u001b[0m\u001b[0magg_type\u001b[0m\u001b[0;34m,\u001b[0m \u001b[0mstr\u001b[0m\u001b[0;34m)\u001b[0m\u001b[0;34m:\u001b[0m\u001b[0;34m\u001b[0m\u001b[0;34m\u001b[0m\u001b[0m\n\u001b[1;32m    484\u001b[0m                     \u001b[0mval_columns_out\u001b[0m \u001b[0;34m=\u001b[0m \u001b[0;34m[\u001b[0m\u001b[0magg_type\u001b[0m \u001b[0;34m+\u001b[0m \u001b[0;34m'_'\u001b[0m \u001b[0;34m+\u001b[0m \u001b[0mval\u001b[0m\u001b[0;34m]\u001b[0m\u001b[0;34m\u001b[0m\u001b[0;34m\u001b[0m\u001b[0m\n",
      "\u001b[0;32m/conda/envs/rapids/lib/python3.7/site-packages/cudf-0.6.0.dev0+1690.g3a8dc23-py3.7-linux-x86_64.egg/cudf/groupby/groupby.py\u001b[0m in \u001b[0;36m_apply_agg\u001b[0;34m(self, agg_type, result, add_col_values, ctx, val_columns, val_columns_out, sort_result)\u001b[0m\n\u001b[1;32m    234\u001b[0m             \u001b[0;32mif\u001b[0m \u001b[0magg_func\u001b[0m \u001b[0;32mis\u001b[0m \u001b[0;32mNone\u001b[0m\u001b[0;34m:\u001b[0m\u001b[0;34m\u001b[0m\u001b[0;34m\u001b[0m\u001b[0m\n\u001b[1;32m    235\u001b[0m                 raise RuntimeError(\n\u001b[0;32m--> 236\u001b[0;31m                     \"ERROR: this aggregator has not been implemented yet\")\n\u001b[0m\u001b[1;32m    237\u001b[0m \u001b[0;34m\u001b[0m\u001b[0m\n\u001b[1;32m    238\u001b[0m             err = agg_func(\n",
      "\u001b[0;31mRuntimeError\u001b[0m: ERROR: this aggregator has not been implemented yet"
     ]
    }
   ],
   "source": [
    "from collections import OrderedDict\n",
    "\n",
    "# Aggregating methods to apply to each column\n",
    "aggs = OrderedDict()\n",
    "aggs['tip_amount'] = 'mean'\n",
    "aggs['fare_amount'] = ['mean','count']\n",
    "aggs['tip_ratio'] = 'mean'\n",
    "compute_\n",
    "\n",
    "grouped_stats = group_df.groupby(['pickup_longitude', 'pickup_latitude']).agg(aggs)\n",
    "print('total groups', len(grouped_stats))\n",
    "grouped_stats.head().to_pandas()"
   ]
  },
  {
   "cell_type": "markdown",
   "metadata": {},
   "source": [
    "Reorder the grouped dataframe by `count_fare_amount`"
   ]
  },
  {
   "cell_type": "code",
   "execution_count": 30,
   "metadata": {},
   "outputs": [
    {
     "data": {
      "text/html": [
       "<div>\n",
       "<style scoped>\n",
       "    .dataframe tbody tr th:only-of-type {\n",
       "        vertical-align: middle;\n",
       "    }\n",
       "\n",
       "    .dataframe tbody tr th {\n",
       "        vertical-align: top;\n",
       "    }\n",
       "\n",
       "    .dataframe thead th {\n",
       "        text-align: right;\n",
       "    }\n",
       "</style>\n",
       "<table border=\"1\" class=\"dataframe\">\n",
       "  <thead>\n",
       "    <tr style=\"text-align: right;\">\n",
       "      <th></th>\n",
       "      <th>pickup_longitude</th>\n",
       "      <th>pickup_latitude</th>\n",
       "      <th>mean_tip_amount</th>\n",
       "      <th>mean_fare_amount</th>\n",
       "      <th>count_fare_amount</th>\n",
       "      <th>mean_tip_ratio</th>\n",
       "    </tr>\n",
       "  </thead>\n",
       "  <tbody>\n",
       "    <tr>\n",
       "      <th>13</th>\n",
       "      <td>-74.0</td>\n",
       "      <td>40.6</td>\n",
       "      <td>1.175462</td>\n",
       "      <td>11.251773</td>\n",
       "      <td>162910</td>\n",
       "      <td>0.099798</td>\n",
       "    </tr>\n",
       "    <tr>\n",
       "      <th>9</th>\n",
       "      <td>-74.2</td>\n",
       "      <td>40.6</td>\n",
       "      <td>1.279872</td>\n",
       "      <td>11.780425</td>\n",
       "      <td>24133</td>\n",
       "      <td>0.112059</td>\n",
       "    </tr>\n",
       "    <tr>\n",
       "      <th>20</th>\n",
       "      <td>-73.8</td>\n",
       "      <td>40.6</td>\n",
       "      <td>4.731888</td>\n",
       "      <td>45.513919</td>\n",
       "      <td>5011</td>\n",
       "      <td>0.097381</td>\n",
       "    </tr>\n",
       "    <tr>\n",
       "      <th>14</th>\n",
       "      <td>-74.0</td>\n",
       "      <td>40.8</td>\n",
       "      <td>1.276300</td>\n",
       "      <td>12.889100</td>\n",
       "      <td>4211</td>\n",
       "      <td>0.091650</td>\n",
       "    </tr>\n",
       "    <tr>\n",
       "      <th>43</th>\n",
       "      <td>0.0</td>\n",
       "      <td>0.0</td>\n",
       "      <td>1.884570</td>\n",
       "      <td>15.715963</td>\n",
       "      <td>3582</td>\n",
       "      <td>0.161140</td>\n",
       "    </tr>\n",
       "  </tbody>\n",
       "</table>\n",
       "</div>"
      ],
      "text/plain": [
       "    pickup_longitude  pickup_latitude  mean_tip_amount  mean_fare_amount  \\\n",
       "13             -74.0             40.6         1.175462         11.251773   \n",
       "9              -74.2             40.6         1.279872         11.780425   \n",
       "20             -73.8             40.6         4.731888         45.513919   \n",
       "14             -74.0             40.8         1.276300         12.889100   \n",
       "43               0.0              0.0         1.884570         15.715963   \n",
       "\n",
       "    count_fare_amount  mean_tip_ratio  \n",
       "13             162910        0.099798  \n",
       "9               24133        0.112059  \n",
       "20               5011        0.097381  \n",
       "14               4211        0.091650  \n",
       "43               3582        0.161140  "
      ]
     },
     "execution_count": 30,
     "metadata": {},
     "output_type": "execute_result"
    }
   ],
   "source": [
    "grouped_stats.sort_values('count_fare_amount', ascending=False).head().to_pandas()"
   ]
  },
  {
   "cell_type": "markdown",
   "metadata": {},
   "source": [
    "## Groupby payment type"
   ]
  },
  {
   "cell_type": "markdown",
   "metadata": {},
   "source": [
    "We can also group by categorical columns."
   ]
  },
  {
   "cell_type": "code",
   "execution_count": 31,
   "metadata": {},
   "outputs": [
    {
     "ename": "NotImplementedError",
     "evalue": "Strings are not yet supported in the index",
     "output_type": "error",
     "traceback": [
      "\u001b[0;31m---------------------------------------------------------------------------\u001b[0m",
      "\u001b[0;31mNotImplementedError\u001b[0m                       Traceback (most recent call last)",
      "\u001b[0;32m<ipython-input-31-c1024fc40608>\u001b[0m in \u001b[0;36m<module>\u001b[0;34m\u001b[0m\n\u001b[1;32m      2\u001b[0m \u001b[0mgroup_pay\u001b[0m\u001b[0;34m[\u001b[0m\u001b[0;34m'tip_ratio'\u001b[0m\u001b[0;34m]\u001b[0m \u001b[0;34m=\u001b[0m \u001b[0mgroup_df\u001b[0m\u001b[0;34m[\u001b[0m\u001b[0;34m'tip_ratio'\u001b[0m\u001b[0;34m]\u001b[0m\u001b[0;34m\u001b[0m\u001b[0;34m\u001b[0m\u001b[0m\n\u001b[1;32m      3\u001b[0m \u001b[0;34m\u001b[0m\u001b[0m\n\u001b[0;32m----> 4\u001b[0;31m \u001b[0mgroupby_payment\u001b[0m \u001b[0;34m=\u001b[0m \u001b[0mgroup_pay\u001b[0m\u001b[0;34m.\u001b[0m\u001b[0mgroupby\u001b[0m\u001b[0;34m(\u001b[0m\u001b[0;34m[\u001b[0m\u001b[0;34m'payment_type'\u001b[0m\u001b[0;34m]\u001b[0m\u001b[0;34m)\u001b[0m\u001b[0;34m.\u001b[0m\u001b[0mmean\u001b[0m\u001b[0;34m(\u001b[0m\u001b[0;34m)\u001b[0m\u001b[0;34m\u001b[0m\u001b[0;34m\u001b[0m\u001b[0m\n\u001b[0m\u001b[1;32m      5\u001b[0m \u001b[0mgroupby_payment\u001b[0m\u001b[0;34m.\u001b[0m\u001b[0msort_values\u001b[0m\u001b[0;34m(\u001b[0m\u001b[0;34m'tip_ratio'\u001b[0m\u001b[0;34m,\u001b[0m \u001b[0mascending\u001b[0m\u001b[0;34m=\u001b[0m\u001b[0;32mFalse\u001b[0m\u001b[0;34m)\u001b[0m\u001b[0;34m.\u001b[0m\u001b[0mto_pandas\u001b[0m\u001b[0;34m(\u001b[0m\u001b[0;34m)\u001b[0m\u001b[0;34m\u001b[0m\u001b[0;34m\u001b[0m\u001b[0m\n",
      "\u001b[0;32m/conda/envs/rapids/lib/python3.7/site-packages/cudf-0.6.0.dev0+1690.g3a8dc23-py3.7-linux-x86_64.egg/cudf/groupby/groupby.py\u001b[0m in \u001b[0;36mmean\u001b[0;34m(self, sort)\u001b[0m\n\u001b[1;32m    409\u001b[0m \u001b[0;34m\u001b[0m\u001b[0m\n\u001b[1;32m    410\u001b[0m     \u001b[0;32mdef\u001b[0m \u001b[0mmean\u001b[0m\u001b[0;34m(\u001b[0m\u001b[0mself\u001b[0m\u001b[0;34m,\u001b[0m \u001b[0msort\u001b[0m\u001b[0;34m=\u001b[0m\u001b[0;32mTrue\u001b[0m\u001b[0;34m)\u001b[0m\u001b[0;34m:\u001b[0m\u001b[0;34m\u001b[0m\u001b[0;34m\u001b[0m\u001b[0m\n\u001b[0;32m--> 411\u001b[0;31m         \u001b[0;32mreturn\u001b[0m \u001b[0mself\u001b[0m\u001b[0;34m.\u001b[0m\u001b[0m_apply_basic_agg\u001b[0m\u001b[0;34m(\u001b[0m\u001b[0;34m\"mean\"\u001b[0m\u001b[0;34m,\u001b[0m \u001b[0msort\u001b[0m\u001b[0;34m)\u001b[0m\u001b[0;34m\u001b[0m\u001b[0;34m\u001b[0m\u001b[0m\n\u001b[0m\u001b[1;32m    412\u001b[0m \u001b[0;34m\u001b[0m\u001b[0m\n\u001b[1;32m    413\u001b[0m     \u001b[0;32mdef\u001b[0m \u001b[0magg\u001b[0m\u001b[0;34m(\u001b[0m\u001b[0mself\u001b[0m\u001b[0;34m,\u001b[0m \u001b[0margs\u001b[0m\u001b[0;34m)\u001b[0m\u001b[0;34m:\u001b[0m\u001b[0;34m\u001b[0m\u001b[0;34m\u001b[0m\u001b[0m\n",
      "\u001b[0;32m/conda/envs/rapids/lib/python3.7/site-packages/cudf-0.6.0.dev0+1690.g3a8dc23-py3.7-linux-x86_64.egg/cudf/groupby/groupby.py\u001b[0m in \u001b[0;36m_apply_basic_agg\u001b[0;34m(self, agg_type, sort_results)\u001b[0m\n\u001b[1;32m    357\u001b[0m         \u001b[0;31m# TODO: Do MultiIndex here\u001b[0m\u001b[0;34m\u001b[0m\u001b[0;34m\u001b[0m\u001b[0;34m\u001b[0m\u001b[0m\n\u001b[1;32m    358\u001b[0m         \u001b[0;32mif\u001b[0m\u001b[0;34m(\u001b[0m\u001b[0mself\u001b[0m\u001b[0;34m.\u001b[0m\u001b[0m_as_index\u001b[0m\u001b[0;34m)\u001b[0m\u001b[0;34m:\u001b[0m\u001b[0;34m\u001b[0m\u001b[0;34m\u001b[0m\u001b[0m\n\u001b[0;32m--> 359\u001b[0;31m             \u001b[0midx\u001b[0m \u001b[0;34m=\u001b[0m \u001b[0mindex\u001b[0m\u001b[0;34m.\u001b[0m\u001b[0mas_index\u001b[0m\u001b[0;34m(\u001b[0m\u001b[0mresult\u001b[0m\u001b[0;34m[\u001b[0m\u001b[0mself\u001b[0m\u001b[0;34m.\u001b[0m\u001b[0m_by\u001b[0m\u001b[0;34m[\u001b[0m\u001b[0;36m0\u001b[0m\u001b[0;34m]\u001b[0m\u001b[0;34m]\u001b[0m\u001b[0;34m)\u001b[0m\u001b[0;34m\u001b[0m\u001b[0;34m\u001b[0m\u001b[0m\n\u001b[0m\u001b[1;32m    360\u001b[0m             \u001b[0midx\u001b[0m\u001b[0;34m.\u001b[0m\u001b[0mname\u001b[0m \u001b[0;34m=\u001b[0m \u001b[0mself\u001b[0m\u001b[0;34m.\u001b[0m\u001b[0m_by\u001b[0m\u001b[0;34m[\u001b[0m\u001b[0;36m0\u001b[0m\u001b[0;34m]\u001b[0m\u001b[0;34m\u001b[0m\u001b[0;34m\u001b[0m\u001b[0m\n\u001b[1;32m    361\u001b[0m             \u001b[0mresult\u001b[0m\u001b[0;34m.\u001b[0m\u001b[0mdrop_column\u001b[0m\u001b[0;34m(\u001b[0m\u001b[0midx\u001b[0m\u001b[0;34m.\u001b[0m\u001b[0mname\u001b[0m\u001b[0;34m)\u001b[0m\u001b[0;34m\u001b[0m\u001b[0;34m\u001b[0m\u001b[0m\n",
      "\u001b[0;32m/conda/envs/rapids/lib/python3.7/site-packages/cudf-0.6.0.dev0+1690.g3a8dc23-py3.7-linux-x86_64.egg/cudf/dataframe/index.py\u001b[0m in \u001b[0;36mas_index\u001b[0;34m(arbitrary, name)\u001b[0m\n\u001b[1;32m    595\u001b[0m         \u001b[0;32mif\u001b[0m \u001b[0mlen\u001b[0m\u001b[0;34m(\u001b[0m\u001b[0marbitrary\u001b[0m\u001b[0;34m)\u001b[0m \u001b[0;34m==\u001b[0m \u001b[0;36m0\u001b[0m\u001b[0;34m:\u001b[0m\u001b[0;34m\u001b[0m\u001b[0;34m\u001b[0m\u001b[0m\n\u001b[1;32m    596\u001b[0m             \u001b[0;32mreturn\u001b[0m \u001b[0mRangeIndex\u001b[0m\u001b[0;34m(\u001b[0m\u001b[0;36m0\u001b[0m\u001b[0;34m,\u001b[0m \u001b[0;36m0\u001b[0m\u001b[0;34m,\u001b[0m \u001b[0mname\u001b[0m\u001b[0;34m=\u001b[0m\u001b[0mname\u001b[0m\u001b[0;34m)\u001b[0m\u001b[0;34m\u001b[0m\u001b[0;34m\u001b[0m\u001b[0m\n\u001b[0;32m--> 597\u001b[0;31m         \u001b[0;32mreturn\u001b[0m \u001b[0mas_index\u001b[0m\u001b[0;34m(\u001b[0m\u001b[0mcolumnops\u001b[0m\u001b[0;34m.\u001b[0m\u001b[0mas_column\u001b[0m\u001b[0;34m(\u001b[0m\u001b[0marbitrary\u001b[0m\u001b[0;34m)\u001b[0m\u001b[0;34m,\u001b[0m \u001b[0mname\u001b[0m\u001b[0;34m=\u001b[0m\u001b[0mname\u001b[0m\u001b[0;34m)\u001b[0m\u001b[0;34m\u001b[0m\u001b[0;34m\u001b[0m\u001b[0m\n\u001b[0m\u001b[1;32m    598\u001b[0m \u001b[0;34m\u001b[0m\u001b[0m\n\u001b[1;32m    599\u001b[0m \u001b[0;34m\u001b[0m\u001b[0m\n",
      "\u001b[0;32m/conda/envs/rapids/lib/python3.7/site-packages/cudf-0.6.0.dev0+1690.g3a8dc23-py3.7-linux-x86_64.egg/cudf/dataframe/index.py\u001b[0m in \u001b[0;36mas_index\u001b[0;34m(arbitrary, name)\u001b[0m\n\u001b[1;32m    588\u001b[0m     \u001b[0;32melif\u001b[0m \u001b[0misinstance\u001b[0m\u001b[0;34m(\u001b[0m\u001b[0marbitrary\u001b[0m\u001b[0;34m,\u001b[0m \u001b[0mStringColumn\u001b[0m\u001b[0;34m)\u001b[0m\u001b[0;34m:\u001b[0m\u001b[0;34m\u001b[0m\u001b[0;34m\u001b[0m\u001b[0m\n\u001b[1;32m    589\u001b[0m         raise NotImplementedError(\n\u001b[0;32m--> 590\u001b[0;31m             \u001b[0;34m\"Strings are not yet supported in the index\"\u001b[0m\u001b[0;34m\u001b[0m\u001b[0;34m\u001b[0m\u001b[0m\n\u001b[0m\u001b[1;32m    591\u001b[0m         )\n\u001b[1;32m    592\u001b[0m     \u001b[0;32melse\u001b[0m\u001b[0;34m:\u001b[0m\u001b[0;34m\u001b[0m\u001b[0;34m\u001b[0m\u001b[0m\n",
      "\u001b[0;31mNotImplementedError\u001b[0m: Strings are not yet supported in the index"
     ]
    }
   ],
   "source": [
    "group_pay = df.loc[:, ['payment_type', 'tip_amount', 'fare_amount']]\n",
    "group_pay['tip_ratio'] = group_df['tip_ratio']\n",
    "\n",
    "groupby_payment = group_pay.groupby(['payment_type']).mean()\n",
    "groupby_payment.sort_values('tip_ratio', ascending=False).to_pandas()"
   ]
  },
  {
   "cell_type": "markdown",
   "metadata": {},
   "source": [
    "## Join table with payment_type meaning"
   ]
  },
  {
   "cell_type": "markdown",
   "metadata": {},
   "source": [
    "We can use `.join()` to add a description column for each payment type"
   ]
  },
  {
   "cell_type": "code",
   "execution_count": null,
   "metadata": {},
   "outputs": [],
   "source": [
    "import pandas\n",
    "import numpy as np\n",
    "\n",
    "payment_code = {\n",
    "    'CRD': 'Credit Card',\n",
    "    'CSH': 'Cash',\n",
    "    'NOC': 'No Charge',\n",
    "    'DIS': 'Dispute',\n",
    "    'UNK': 'Unknown',\n",
    "}\n",
    "\n",
    "payment_meaning = pygdf.DataFrame()\n",
    "\n",
    "# Customize codes.dtype to match storage type from mapd\n",
    "src_cat = group_pay.payment_type\n",
    "cat = pandas.Categorical(payment_code.keys(), categories=src_cat.cat.categories)\n",
    "payment_meaning['payment_type'] = pygdf.Series.from_categorical(cat, codes=cat.codes.astype(src_cat.data.dtype))\n",
    "\n",
    "payment_meaning['payment_meaning'] = pandas.Categorical(payment_code.values())\n",
    "payment_meaning = payment_meaning.set_index('payment_type')\n",
    "\n",
    "payment_meaning.to_pandas()"
   ]
  },
  {
   "cell_type": "code",
   "execution_count": null,
   "metadata": {},
   "outputs": [],
   "source": [
    "joined = groupby_payment.set_index('payment_type').join(payment_meaning)\n",
    "joined.sort_values('tip_ratio', ascending=False).to_pandas()"
   ]
  }
 ],
 "metadata": {
  "kernelspec": {
   "display_name": "Python 3",
   "language": "python",
   "name": "python3"
  },
  "language_info": {
   "codemirror_mode": {
    "name": "ipython",
    "version": 3
   },
   "file_extension": ".py",
   "mimetype": "text/x-python",
   "name": "python",
   "nbconvert_exporter": "python",
   "pygments_lexer": "ipython3",
   "version": "3.7.2"
  }
 },
 "nbformat": 4,
 "nbformat_minor": 2
}
