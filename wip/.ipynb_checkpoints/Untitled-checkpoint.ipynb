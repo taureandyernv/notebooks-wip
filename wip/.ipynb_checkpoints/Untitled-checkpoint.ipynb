{
 "cells": [
  {
   "cell_type": "code",
   "execution_count": null,
   "metadata": {},
   "outputs": [],
   "source": [
    "# Kalman filter example demo in Python\n",
    "\n",
    "# A Python implementation of the example given in pages 11-15 of \"An\n",
    "# Introduction to the Kalman Filter\" by Greg Welch and Gary Bishop,\n",
    "# University of North Carolina at Chapel Hill, Department of Computer\n",
    "# Science, TR 95-041,\n",
    "# https://www.cs.unc.edu/~welch/media/pdf/kalman_intro.pdf\n",
    "\n",
    "# by Andrew D. Straw\n",
    "\n",
    "import numpy as np\n",
    "import matplotlib.pyplot as plt\n",
    "\n",
    "plt.rcParams['figure.figsize'] = (10, 8)\n",
    "\n",
    "# intial parameters\n",
    "n_iter = 50\n",
    "sz = (n_iter,) # size of array\n",
    "x = -0.37727 # truth value (typo in example at top of p. 13 calls this z)\n",
    "z = np.random.normal(x,0.1,size=sz) # observations (normal about x, sigma=0.1)\n",
    "\n",
    "Q = 1e-5 # process variance\n",
    "\n",
    "# allocate space for arrays\n",
    "xhat=np.zeros(sz)      # a posteri estimate of x\n",
    "P=np.zeros(sz)         # a posteri error estimate\n",
    "xhatminus=np.zeros(sz) # a priori estimate of x\n",
    "Pminus=np.zeros(sz)    # a priori error estimate\n",
    "K=np.zeros(sz)         # gain or blending factor\n",
    "\n",
    "R = 0.1**2 # estimate of measurement variance, change to see effect\n",
    "\n",
    "# intial guesses\n",
    "xhat[0] = 0.0\n",
    "P[0] = 1.0\n",
    "\n",
    "for k in range(1,n_iter):\n",
    "    # time update\n",
    "    xhatminus[k] = xhat[k-1]\n",
    "    Pminus[k] = P[k-1]+Q\n",
    "\n",
    "    # measurement update\n",
    "    K[k] = Pminus[k]/( Pminus[k]+R )\n",
    "    xhat[k] = xhatminus[k]+K[k]*(z[k]-xhatminus[k])\n",
    "    P[k] = (1-K[k])*Pminus[k]\n",
    "\n",
    "plt.figure()\n",
    "plt.plot(z,'k+',label='noisy measurements')\n",
    "plt.plot(xhat,'b-',label='a posteri estimate')\n",
    "plt.axhline(x,color='g',label='truth value')\n",
    "plt.legend()\n",
    "plt.title('Estimate vs. iteration step', fontweight='bold')\n",
    "plt.xlabel('Iteration')\n",
    "plt.ylabel('Voltage')\n",
    "\n",
    "plt.figure()\n",
    "valid_iter = range(1,n_iter) # Pminus not valid at step 0\n",
    "plt.plot(valid_iter,Pminus[valid_iter],label='a priori error estimate')\n",
    "plt.title('Estimated $\\it{\\mathbf{a \\ priori}}$ error vs. iteration step', fontweight='bold')\n",
    "plt.xlabel('Iteration')\n",
    "plt.ylabel('$(Voltage)^2$')\n",
    "plt.setp(plt.gca(),'ylim',[0,.01])\n",
    "plt.show()\n",
    "\n"
   ]
  },
  {
   "cell_type": "code",
   "execution_count": 3,
   "metadata": {},
   "outputs": [
    {
     "name": "stdout",
     "output_type": "stream",
     "text": [
      "Collecting requests\n",
      "\u001b[?25l  Downloading https://files.pythonhosted.org/packages/7d/e3/20f3d364d6c8e5d2353c72a67778eb189176f08e873c9900e10c0287b84b/requests-2.21.0-py2.py3-none-any.whl (57kB)\n",
      "\u001b[K    100% |████████████████████████████████| 61kB 5.1MB/s \n",
      "\u001b[?25hCollecting chardet<3.1.0,>=3.0.2 (from requests)\n",
      "\u001b[?25l  Downloading https://files.pythonhosted.org/packages/bc/a9/01ffebfb562e4274b6487b4bb1ddec7ca55ec7510b22e4c51f14098443b8/chardet-3.0.4-py2.py3-none-any.whl (133kB)\n",
      "\u001b[K    100% |████████████████████████████████| 143kB 18.4MB/s \n",
      "\u001b[?25hCollecting urllib3<1.25,>=1.21.1 (from requests)\n",
      "\u001b[?25l  Downloading https://files.pythonhosted.org/packages/df/1c/59cca3abf96f991f2ec3131a4ffe72ae3d9ea1f5894abe8a9c5e3c77cfee/urllib3-1.24.2-py2.py3-none-any.whl (131kB)\n",
      "\u001b[K    100% |████████████████████████████████| 133kB 26.5MB/s \n",
      "\u001b[?25hCollecting idna<2.9,>=2.5 (from requests)\n",
      "\u001b[?25l  Downloading https://files.pythonhosted.org/packages/14/2c/cd551d81dbe15200be1cf41cd03869a46fe7226e7450af7a6545bfc474c9/idna-2.8-py2.py3-none-any.whl (58kB)\n",
      "\u001b[K    100% |████████████████████████████████| 61kB 30.5MB/s \n",
      "\u001b[?25hRequirement already satisfied: certifi>=2017.4.17 in /conda/envs/rapids/lib/python3.7/site-packages (from requests) (2019.3.9)\n",
      "Installing collected packages: chardet, urllib3, idna, requests\n",
      "Successfully installed chardet-3.0.4 idna-2.8 requests-2.21.0 urllib3-1.24.2\n"
     ]
    }
   ],
   "source": [
    "! pip install requests"
   ]
  },
  {
   "cell_type": "code",
   "execution_count": 14,
   "metadata": {},
   "outputs": [],
   "source": [
    "import cudf, nvcategory, requests\n",
    "from librmm_cffi import librmm\n",
    "import numpy as np\n",
    "from io import StringIO\n",
    "from cuml import NearestNeighbors as cumlKNN\n",
    "def cat_to_series(col):\n",
    "    if col.dtype != 'object': col = col.astype('str')\n",
    "    \n",
    "    device_array = librmm.device_array(col.data.size(), dtype=np.int32)\n",
    "    nvcategory.from_strings(col.data).values(devptr=device_array.device_ctypes_pointer.value)\n",
    "    return cudf.Series(device_array)\n",
    "\n",
    "url=\"https://github.com/plotly/datasets/raw/master/tips.csv\"\n",
    "content = requests.get(url).content.decode('utf-8')\n",
    "tips_cudf = cudf.read_csv(StringIO(content))        \n",
    "string_cols = ['sex','smoker','day','time']\n",
    "for cat_col in string_cols:\n",
    "    tips_cudf[cat_col] = cat_to_series(tips_cudf[cat_col])\n",
    "knn_cuml = cumlKNN()\n",
    "knn_cuml.fit(tips_cudf)\n",
    "n_neighbors = 10\n",
    "D_cuml,I_cuml = knn_cuml.kneighbors(tips_cudf,n_neighbors)"
   ]
  },
  {
   "cell_type": "code",
   "execution_count": 11,
   "metadata": {},
   "outputs": [
    {
     "data": {
      "text/plain": [
       "Index(['total_bill', 'tip', 'sex', 'smoker', 'day', 'time', 'size'], dtype='object')"
      ]
     },
     "execution_count": 11,
     "metadata": {},
     "output_type": "execute_result"
    }
   ],
   "source": [
    "tips_cudf.columns"
   ]
  },
  {
   "cell_type": "code",
   "execution_count": 13,
   "metadata": {},
   "outputs": [
    {
     "data": {
      "text/plain": [
       "'0.6.1+1.g9ca9325'"
      ]
     },
     "execution_count": 13,
     "metadata": {},
     "output_type": "execute_result"
    }
   ],
   "source": []
  },
  {
   "cell_type": "code",
   "execution_count": null,
   "metadata": {},
   "outputs": [],
   "source": [
    "import cudf, nvcategory, requests\n",
    "from librmm_cffi import librmm\n",
    "import numpy as np\n",
    "from io import StringIO\n",
    "from cuml import NearestNeighbors as cumlKNN\n",
    "def cat_to_series(col):\n",
    "    if col.dtype != 'object': col = col.astype('str')\n",
    "    device_array = librmm.device_array(col.data.size(), dtype=np.int32)\n",
    "    nvcategory.from_strings(col.data).values(devptr=device_array.device_ctypes_pointer.value)\n",
    "    return cudf.Series(device_array)\n",
    "\n",
    "url=\"https://github.com/plotly/datasets/raw/master/tips.csv\"\n",
    "content = requests.get(url).content.decode('utf-8')\n",
    "tips_cudf = cudf.read_csv(StringIO(content))        \n",
    "string_cols = ['sex','smoker','day','time']\n",
    "for cat_col in string_cols:\n",
    "    tips_cudf[cat_col] = cat_to_series(tips_cudf[cat_col])\n",
    "knn_cuml = cumlKNN()\n",
    "knn_cuml.fit(tips_cudf)\n",
    "n_neighbors = 10\n",
    "# D_cuml contains the distance of the samples from one other and I_cuml has the labels for each sample\n",
    "D_cuml,I_cuml = knn_cuml.kneighbors(tips_cudf,n_neighbors)"
   ]
  }
 ],
 "metadata": {
  "kernelspec": {
   "display_name": "Python 3",
   "language": "python",
   "name": "python3"
  },
  "language_info": {
   "codemirror_mode": {
    "name": "ipython",
    "version": 3
   },
   "file_extension": ".py",
   "mimetype": "text/x-python",
   "name": "python",
   "nbconvert_exporter": "python",
   "pygments_lexer": "ipython3",
   "version": "3.7.3"
  }
 },
 "nbformat": 4,
 "nbformat_minor": 2
}
