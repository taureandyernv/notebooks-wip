{
 "cells": [
  {
   "cell_type": "code",
   "execution_count": 1,
   "metadata": {},
   "outputs": [],
   "source": [
    "import numpy as np\n",
    "import pandas as pd\n",
    "import scipy\n",
    "from cuml import KalmanFilter\n",
    "import cudf\n",
    "import os"
   ]
  },
  {
   "cell_type": "markdown",
   "metadata": {},
   "source": [
    "# Helper Functions"
   ]
  },
  {
   "cell_type": "code",
   "execution_count": 2,
   "metadata": {},
   "outputs": [],
   "source": [
    "from timeit import default_timer\n",
    "\n",
    "class Timer(object):\n",
    "    def __init__(self):\n",
    "        self._timer = default_timer\n",
    "    \n",
    "    def __enter__(self):\n",
    "        self.start()\n",
    "        return self\n",
    "\n",
    "    def __exit__(self, *args):\n",
    "        self.stop()\n",
    "\n",
    "    def start(self):\n",
    "        \"\"\"Start the timer.\"\"\"\n",
    "        self.start = self._timer()\n",
    "\n",
    "    def stop(self):\n",
    "        \"\"\"Stop the timer. Calculate the interval in seconds.\"\"\"\n",
    "        self.end = self._timer()\n",
    "        self.interval = self.end - self.start"
   ]
  },
  {
   "cell_type": "code",
   "execution_count": 3,
   "metadata": {},
   "outputs": [],
   "source": [
    "import gzip\n",
    "def load_data(nrows, ncols, cached = 'data/mortgage.npy.gz',source='mortgage'):\n",
    "    if os.path.exists(cached) and source=='mortgage':\n",
    "        print('use mortgage data')\n",
    "        with gzip.open(cached) as f:\n",
    "            X = np.load(f)\n",
    "        X = X[np.random.randint(0,X.shape[0]-1,nrows),:ncols]\n",
    "    else:\n",
    "        print('use random data')\n",
    "        X = np.random.random((nrows,ncols)).astype('float32')\n",
    "    df = pd.DataFrame({'fea%d'%i:X[:,i] for i in range(X.shape[1])}).fillna(0)\n",
    "    return df"
   ]
  },
  {
   "cell_type": "code",
   "execution_count": 4,
   "metadata": {},
   "outputs": [],
   "source": [
    "from sklearn.metrics import mean_squared_error\n",
    "def array_equal(a,b,threshold=1e-2,with_sign=True,metric='mse'):\n",
    "    a = to_nparray(a)\n",
    "    b = to_nparray(b)\n",
    "    if with_sign == False:\n",
    "        a,b = np.abs(a),np.abs(b)\n",
    "    if metric=='mse':\n",
    "        error = mean_squared_error(a,b)\n",
    "    else:\n",
    "        error = np.sum(a!=b)/(a.shape[0]*a.shape[1])\n",
    "    res = error<threshold\n",
    "    return res\n",
    "\n",
    "def to_nparray(x):\n",
    "    if isinstance(x,np.ndarray) or isinstance(x,pd.DataFrame):\n",
    "        return np.array(x)\n",
    "    elif isinstance(x,np.float64):\n",
    "        return np.array([x])\n",
    "    elif isinstance(x,cudf.DataFrame) or isinstance(x,cudf.Series):\n",
    "        return x.to_pandas().values\n",
    "    return x    "
   ]
  },
  {
   "cell_type": "code",
   "execution_count": 5,
   "metadata": {},
   "outputs": [],
   "source": [
    "def spKalman(data, x, z, n_iter = 50):\n",
    "    # intial parameters\n",
    "    sz = data # size of array\n",
    "    x = -0.37727 # truth value (typo in example at top of p. 13 calls this z)\n",
    "    z = np.random.normal(x,0.1,size=sz) # observations (normal about x, sigma=0.1)\n",
    "\n",
    "    Q = 1e-5 # process variance\n",
    "\n",
    "    # allocate space for arrays\n",
    "    xhat=np.zeros(sz)      # a posteri estimate of x\n",
    "    P=np.zeros(sz)         # a posteri error estimate\n",
    "    xhatminus=np.zeros(sz) # a priori estimate of x\n",
    "    Pminus=np.zeros(sz)    # a priori error estimate\n",
    "    K=np.zeros(sz)         # gain or blending factor\n",
    "\n",
    "    R = 0.1**2 # estimate of measurement variance, change to see effect\n",
    "\n",
    "    # intial guesses\n",
    "    xhat[0] = 0.0\n",
    "    P[0] = 1.0\n",
    "\n",
    "    for k in range(1,n_iter):\n",
    "        # time update\n",
    "        xhatminus[k] = xhat[k-1]\n",
    "        Pminus[k] = P[k-1]+Q\n",
    "\n",
    "        # measurement update\n",
    "        K[k] = Pminus[k]/( Pminus[k]+R )\n",
    "        xhat[k] = xhatminus[k]+K[k]*(z[k]-xhatminus[k])\n",
    "        P[k] = (1-K[k])*Pminus[k]\n",
    "    return Pminus "
   ]
  },
  {
   "cell_type": "code",
   "execution_count": 10,
   "metadata": {},
   "outputs": [],
   "source": [
    "def cuMLKalman(data, dim_x,dim_z, n_iter = 50):\n",
    "    f = KalmanFilter(dim_x, dim_z)\n",
    "    f.x = np.array(data)   # velocity\n",
    "    f.F = np.array([[1.,1.], [0.,1.]])\n",
    "    f.H = np.array([[1.,0.]])\n",
    "    f.P = np.array([[1000., 0.], [   0., 1000.] ])\n",
    "    f.R = 5\n",
    "\n",
    "    for k in range(1,n_iter):\n",
    "        z = numba.cuda.to_device(np.array([i]))\n",
    "        f.predict()\n",
    "        f.update(z)"
   ]
  },
  {
   "cell_type": "markdown",
   "metadata": {},
   "source": [
    "# Run tests"
   ]
  },
  {
   "cell_type": "code",
   "execution_count": 11,
   "metadata": {},
   "outputs": [
    {
     "name": "stdout",
     "output_type": "stream",
     "text": [
      "use random data\n",
      "data (65536, 40)\n",
      "CPU times: user 52.2 ms, sys: 21.2 ms, total: 73.4 ms\n",
      "Wall time: 71.3 ms\n"
     ]
    }
   ],
   "source": [
    "%%time\n",
    "nrows = 2**16\n",
    "ncols = 40\n",
    "n_iter = 50 \n",
    "\n",
    "X = load_data(nrows,ncols)\n",
    "\n",
    "#spKalman(X, nrows, ncols, n_iter)\n",
    "#cuMLKalman(X, nrows, ncols, n_iter)\n",
    "\n",
    "print('data',X.shape)"
   ]
  },
  {
   "cell_type": "raw",
   "metadata": {},
   "source": [
    "for i in range(nrows):\n",
    "    f = KalmanFilter(ncols, dim_z)\n"
   ]
  },
  {
   "cell_type": "code",
   "execution_count": 13,
   "metadata": {},
   "outputs": [],
   "source": [
    "import numpy as np\n",
    "#import matplotlib.pyplot as plt\n",
    "\n",
    "#plt.rcParams['figure.figsize'] = (10, 8)\n",
    "\n",
    "# intial parameters\n",
    "n_iter = 50\n",
    "sz = (n_iter,) # size of array\n",
    "x = -0.37727 # truth value (typo in example at top of p. 13 calls this z)\n",
    "z = np.random.normal(x,0.1,size=sz) # observations (normal about x, sigma=0.1)\n",
    "\n",
    "Q = 1e-5 # process variance\n",
    "\n",
    "# allocate space for arrays\n",
    "xhat=np.zeros(sz)      # a posteri estimate of x\n",
    "P=np.zeros(sz)         # a posteri error estimate\n",
    "xhatminus=np.zeros(sz) # a priori estimate of x\n",
    "Pminus=np.zeros(sz)    # a priori error estimate\n",
    "K=np.zeros(sz)         # gain or blending factor\n",
    "\n",
    "R = 0.1**2 # estimate of measurement variance, change to see effect\n",
    "\n",
    "# intial guesses\n",
    "xhat[0] = 0.0\n",
    "P[0] = 1.0\n",
    "\n",
    "for k in range(1,n_iter):\n",
    "    # time update\n",
    "    xhatminus[k] = xhat[k-1]\n",
    "    Pminus[k] = P[k-1]+Q\n",
    "\n",
    "    # measurement update\n",
    "    K[k] = Pminus[k]/( Pminus[k]+R )\n",
    "    xhat[k] = xhatminus[k]+K[k]*(z[k]-xhatminus[k])\n",
    "    P[k] = (1-K[k])*Pminus[k]\n"
   ]
  },
  {
   "cell_type": "code",
   "execution_count": 18,
   "metadata": {},
   "outputs": [
    {
     "data": {
      "text/plain": [
       "array([1.00000000e+00, 9.90099108e-03, 4.97764829e-03, 3.32783916e-03,\n",
       "       2.50253367e-03, 2.00801352e-03, 1.67915730e-03, 1.44506337e-03,\n",
       "       1.27023598e-03, 1.13493723e-03, 1.02731600e-03, 9.39826313e-04,\n",
       "       8.67435050e-04, 8.06656207e-04, 7.54998764e-04, 7.10635255e-04,\n",
       "       6.72194546e-04, 6.38627712e-04, 6.09118592e-04, 5.83022580e-04,\n",
       "       5.59823767e-04, 5.39104321e-04, 5.20522221e-04, 5.03794788e-04,\n",
       "       4.88686339e-04, 4.74998798e-04, 4.62564476e-04, 4.51240455e-04,\n",
       "       4.40904171e-04, 4.31449915e-04, 4.22786029e-04, 4.14832651e-04,\n",
       "       4.07519876e-04, 4.00786254e-04, 3.94577550e-04, 3.88845725e-04,\n",
       "       3.83548074e-04, 3.78646514e-04, 3.74106976e-04, 3.69898902e-04,\n",
       "       3.65994799e-04, 3.62369880e-04, 3.59001737e-04, 3.55870070e-04,\n",
       "       3.52956449e-04, 3.50244113e-04, 3.47717785e-04, 3.45363518e-04,\n",
       "       3.43168559e-04, 3.41121230e-04])"
      ]
     },
     "execution_count": 18,
     "metadata": {},
     "output_type": "execute_result"
    }
   ],
   "source": [
    "P"
   ]
  },
  {
   "cell_type": "code",
   "execution_count": 39,
   "metadata": {},
   "outputs": [],
   "source": [
    "import pytest\n",
    "import cudf\n",
    "import numpy as np\n",
    "import pdb\n",
    "from numba import cuda\n",
    "from math import sqrt\n",
    "from cuml import KalmanFilter\n",
    "\n",
    "def test_linear_kalman_filter(precision, dim_x, dim_z, input_type):\n",
    "    f = KalmanFilter(dim_x=dim_x, dim_z=dim_z, precision=precision)\n",
    "\n",
    "    if precision == 'single':\n",
    "        dt = np.float32\n",
    "    else:\n",
    "        dt = np.float64\n",
    "\n",
    "    if input_type == 'numpy':\n",
    "\n",
    "        f.x = np.array([1.0,2.0,3.0,4.0,5.0,6.0,7.0], dtype=dt)\n",
    "        pdb.set_trace()\n",
    "        f.F = np.eye(dim_x, dtype=dt)\n",
    "\n",
    "        h = np.zeros((dim_x, dim_z), dtype=dt)\n",
    "        h[0] = 1\n",
    "\n",
    "        f.H = h\n",
    "        f.P = np.eye(dim_x, dtype=dt)*1000\n",
    "        f.R = np.eye(dim_z, dtype=dt)*5.0\n",
    "\n",
    "    else:\n",
    "\n",
    "        f.x = np_to_dataframe(np.zeros((dim_x, 1), dtype=dt))\n",
    "\n",
    "        tmp = np.eye(dim_x, dtype=dt, order='F')\n",
    "\n",
    "        f.F = np_to_dataframe(tmp)\n",
    "\n",
    "        h = np.zeros((dim_x, dim_z), dtype=dt, order='F')\n",
    "        h[0] = 1\n",
    "\n",
    "        f.H = np_to_dataframe(h)\n",
    "        f.P = np_to_dataframe(np.eye(dim_x, dtype=dt, order='F')*1000)\n",
    "        f.R = np_to_dataframe(np.eye(dim_z, dtype=dt, order='F')*5.0)\n",
    "\n",
    "    rmse_x = 0\n",
    "    rmse_v = 0\n",
    "\n",
    "    n = 10\n",
    "\n",
    "    for i in range(n):\n",
    "        f.predict()\n",
    "\n",
    "        z = i*np.ones(dim_z, dtype=dt)\n",
    "\n",
    "        f.update(cuda.to_device(np.array(z, dtype=dt)))\n",
    "        pdb.set_trace()\n",
    "        x = f.x.copy_to_host()\n",
    "        rmse_x = rmse_x + ((x[0] - i)**2)\n",
    "        rmse_v = rmse_v + ((x[1] - 1)**2)\n",
    "\n",
    "    return f"
   ]
  },
  {
   "cell_type": "code",
   "execution_count": 40,
   "metadata": {},
   "outputs": [
    {
     "name": "stdout",
     "output_type": "stream",
     "text": [
      "> <ipython-input-39-5d116cd2af0c>(21)test_linear_kalman_filter()\n",
      "-> f.F = np.eye(dim_x, dtype=dt)\n"
     ]
    },
    {
     "name": "stdin",
     "output_type": "stream",
     "text": [
      "(Pdb)  np.asarray(f.x)\n"
     ]
    },
    {
     "name": "stdout",
     "output_type": "stream",
     "text": [
      "array([1., 2., 3., 4., 5., 6., 7.])\n"
     ]
    },
    {
     "name": "stdin",
     "output_type": "stream",
     "text": [
      "(Pdb)  c\n"
     ]
    },
    {
     "name": "stdout",
     "output_type": "stream",
     "text": [
      "> <ipython-input-39-5d116cd2af0c>(57)test_linear_kalman_filter()\n",
      "-> x = f.x.copy_to_host()\n"
     ]
    },
    {
     "name": "stdin",
     "output_type": "stream",
     "text": [
      "(Pdb)  np.asarray(f.x)\n"
     ]
    },
    {
     "name": "stdout",
     "output_type": "stream",
     "text": [
      "array([1.02412701e-03, 2.00000000e+00, 3.00000000e+00, 4.00000000e+00,\n",
      "       5.00000000e+00, 6.00000000e+00, 7.00000000e+00])\n"
     ]
    },
    {
     "name": "stdin",
     "output_type": "stream",
     "text": [
      "(Pdb)  c\n"
     ]
    },
    {
     "name": "stdout",
     "output_type": "stream",
     "text": [
      "> <ipython-input-39-5d116cd2af0c>(56)test_linear_kalman_filter()\n",
      "-> pdb.set_trace()\n"
     ]
    },
    {
     "name": "stdin",
     "output_type": "stream",
     "text": [
      "(Pdb)  np.asarray(f.x)\n"
     ]
    },
    {
     "name": "stdout",
     "output_type": "stream",
     "text": [
      "array([0.99904704, 2.        , 3.        , 4.        , 5.        ,\n",
      "       6.        , 7.        ])\n"
     ]
    },
    {
     "name": "stdin",
     "output_type": "stream",
     "text": [
      "(Pdb)  c\n"
     ]
    },
    {
     "name": "stdout",
     "output_type": "stream",
     "text": [
      "> <ipython-input-39-5d116cd2af0c>(57)test_linear_kalman_filter()\n",
      "-> x = f.x.copy_to_host()\n"
     ]
    },
    {
     "name": "stdin",
     "output_type": "stream",
     "text": [
      "(Pdb)  np.asarray(f.x)\n"
     ]
    },
    {
     "name": "stdout",
     "output_type": "stream",
     "text": [
      "array([1.99900436, 2.        , 3.        , 4.        , 5.        ,\n",
      "       6.        , 7.        ])\n"
     ]
    },
    {
     "name": "stdin",
     "output_type": "stream",
     "text": [
      "(Pdb)  c\n"
     ]
    },
    {
     "name": "stdout",
     "output_type": "stream",
     "text": [
      "> <ipython-input-39-5d116cd2af0c>(56)test_linear_kalman_filter()\n",
      "-> pdb.set_trace()\n"
     ]
    },
    {
     "name": "stdin",
     "output_type": "stream",
     "text": [
      "(Pdb)  np.asarray(f.x)\n"
     ]
    },
    {
     "name": "stdout",
     "output_type": "stream",
     "text": [
      "array([2.99898219, 2.        , 3.        , 4.        , 5.        ,\n",
      "       6.        , 7.        ])\n"
     ]
    },
    {
     "name": "stdin",
     "output_type": "stream",
     "text": [
      "(Pdb)  exit\n"
     ]
    },
    {
     "ename": "BdbQuit",
     "evalue": "",
     "output_type": "error",
     "traceback": [
      "\u001b[0;31m---------------------------------------------------------------------------\u001b[0m",
      "\u001b[0;31mBdbQuit\u001b[0m                                   Traceback (most recent call last)",
      "\u001b[0;32m<ipython-input-40-8ac2d5e2a030>\u001b[0m in \u001b[0;36m<module>\u001b[0;34m\u001b[0m\n\u001b[0;32m----> 1\u001b[0;31m \u001b[0minfo\u001b[0m \u001b[0;34m=\u001b[0m \u001b[0mtest_linear_kalman_filter\u001b[0m\u001b[0;34m(\u001b[0m\u001b[0;34m'single'\u001b[0m\u001b[0;34m,\u001b[0m \u001b[0;36m7\u001b[0m\u001b[0;34m,\u001b[0m \u001b[0;36m5\u001b[0m\u001b[0;34m,\u001b[0m \u001b[0;34m'numpy'\u001b[0m\u001b[0;34m)\u001b[0m\u001b[0;34m\u001b[0m\u001b[0;34m\u001b[0m\u001b[0m\n\u001b[0m",
      "\u001b[0;32m<ipython-input-39-5d116cd2af0c>\u001b[0m in \u001b[0;36mtest_linear_kalman_filter\u001b[0;34m(precision, dim_x, dim_z, input_type)\u001b[0m\n\u001b[1;32m     54\u001b[0m \u001b[0;34m\u001b[0m\u001b[0m\n\u001b[1;32m     55\u001b[0m         \u001b[0mf\u001b[0m\u001b[0;34m.\u001b[0m\u001b[0mupdate\u001b[0m\u001b[0;34m(\u001b[0m\u001b[0mcuda\u001b[0m\u001b[0;34m.\u001b[0m\u001b[0mto_device\u001b[0m\u001b[0;34m(\u001b[0m\u001b[0mnp\u001b[0m\u001b[0;34m.\u001b[0m\u001b[0marray\u001b[0m\u001b[0;34m(\u001b[0m\u001b[0mz\u001b[0m\u001b[0;34m,\u001b[0m \u001b[0mdtype\u001b[0m\u001b[0;34m=\u001b[0m\u001b[0mdt\u001b[0m\u001b[0;34m)\u001b[0m\u001b[0;34m)\u001b[0m\u001b[0;34m)\u001b[0m\u001b[0;34m\u001b[0m\u001b[0;34m\u001b[0m\u001b[0m\n\u001b[0;32m---> 56\u001b[0;31m         \u001b[0mpdb\u001b[0m\u001b[0;34m.\u001b[0m\u001b[0mset_trace\u001b[0m\u001b[0;34m(\u001b[0m\u001b[0;34m)\u001b[0m\u001b[0;34m\u001b[0m\u001b[0;34m\u001b[0m\u001b[0m\n\u001b[0m\u001b[1;32m     57\u001b[0m         \u001b[0mx\u001b[0m \u001b[0;34m=\u001b[0m \u001b[0mf\u001b[0m\u001b[0;34m.\u001b[0m\u001b[0mx\u001b[0m\u001b[0;34m.\u001b[0m\u001b[0mcopy_to_host\u001b[0m\u001b[0;34m(\u001b[0m\u001b[0;34m)\u001b[0m\u001b[0;34m\u001b[0m\u001b[0;34m\u001b[0m\u001b[0m\n\u001b[1;32m     58\u001b[0m         \u001b[0mrmse_x\u001b[0m \u001b[0;34m=\u001b[0m \u001b[0mrmse_x\u001b[0m \u001b[0;34m+\u001b[0m \u001b[0;34m(\u001b[0m\u001b[0;34m(\u001b[0m\u001b[0mx\u001b[0m\u001b[0;34m[\u001b[0m\u001b[0;36m0\u001b[0m\u001b[0;34m]\u001b[0m \u001b[0;34m-\u001b[0m \u001b[0mi\u001b[0m\u001b[0;34m)\u001b[0m\u001b[0;34m**\u001b[0m\u001b[0;36m2\u001b[0m\u001b[0;34m)\u001b[0m\u001b[0;34m\u001b[0m\u001b[0;34m\u001b[0m\u001b[0m\n",
      "\u001b[0;32m<ipython-input-39-5d116cd2af0c>\u001b[0m in \u001b[0;36mtest_linear_kalman_filter\u001b[0;34m(precision, dim_x, dim_z, input_type)\u001b[0m\n\u001b[1;32m     54\u001b[0m \u001b[0;34m\u001b[0m\u001b[0m\n\u001b[1;32m     55\u001b[0m         \u001b[0mf\u001b[0m\u001b[0;34m.\u001b[0m\u001b[0mupdate\u001b[0m\u001b[0;34m(\u001b[0m\u001b[0mcuda\u001b[0m\u001b[0;34m.\u001b[0m\u001b[0mto_device\u001b[0m\u001b[0;34m(\u001b[0m\u001b[0mnp\u001b[0m\u001b[0;34m.\u001b[0m\u001b[0marray\u001b[0m\u001b[0;34m(\u001b[0m\u001b[0mz\u001b[0m\u001b[0;34m,\u001b[0m \u001b[0mdtype\u001b[0m\u001b[0;34m=\u001b[0m\u001b[0mdt\u001b[0m\u001b[0;34m)\u001b[0m\u001b[0;34m)\u001b[0m\u001b[0;34m)\u001b[0m\u001b[0;34m\u001b[0m\u001b[0;34m\u001b[0m\u001b[0m\n\u001b[0;32m---> 56\u001b[0;31m         \u001b[0mpdb\u001b[0m\u001b[0;34m.\u001b[0m\u001b[0mset_trace\u001b[0m\u001b[0;34m(\u001b[0m\u001b[0;34m)\u001b[0m\u001b[0;34m\u001b[0m\u001b[0;34m\u001b[0m\u001b[0m\n\u001b[0m\u001b[1;32m     57\u001b[0m         \u001b[0mx\u001b[0m \u001b[0;34m=\u001b[0m \u001b[0mf\u001b[0m\u001b[0;34m.\u001b[0m\u001b[0mx\u001b[0m\u001b[0;34m.\u001b[0m\u001b[0mcopy_to_host\u001b[0m\u001b[0;34m(\u001b[0m\u001b[0;34m)\u001b[0m\u001b[0;34m\u001b[0m\u001b[0;34m\u001b[0m\u001b[0m\n\u001b[1;32m     58\u001b[0m         \u001b[0mrmse_x\u001b[0m \u001b[0;34m=\u001b[0m \u001b[0mrmse_x\u001b[0m \u001b[0;34m+\u001b[0m \u001b[0;34m(\u001b[0m\u001b[0;34m(\u001b[0m\u001b[0mx\u001b[0m\u001b[0;34m[\u001b[0m\u001b[0;36m0\u001b[0m\u001b[0;34m]\u001b[0m \u001b[0;34m-\u001b[0m \u001b[0mi\u001b[0m\u001b[0;34m)\u001b[0m\u001b[0;34m**\u001b[0m\u001b[0;36m2\u001b[0m\u001b[0;34m)\u001b[0m\u001b[0;34m\u001b[0m\u001b[0;34m\u001b[0m\u001b[0m\n",
      "\u001b[0;32m/conda/envs/rapids/lib/python3.7/bdb.py\u001b[0m in \u001b[0;36mtrace_dispatch\u001b[0;34m(self, frame, event, arg)\u001b[0m\n\u001b[1;32m     86\u001b[0m             \u001b[0;32mreturn\u001b[0m \u001b[0;31m# None\u001b[0m\u001b[0;34m\u001b[0m\u001b[0;34m\u001b[0m\u001b[0m\n\u001b[1;32m     87\u001b[0m         \u001b[0;32mif\u001b[0m \u001b[0mevent\u001b[0m \u001b[0;34m==\u001b[0m \u001b[0;34m'line'\u001b[0m\u001b[0;34m:\u001b[0m\u001b[0;34m\u001b[0m\u001b[0;34m\u001b[0m\u001b[0m\n\u001b[0;32m---> 88\u001b[0;31m             \u001b[0;32mreturn\u001b[0m \u001b[0mself\u001b[0m\u001b[0;34m.\u001b[0m\u001b[0mdispatch_line\u001b[0m\u001b[0;34m(\u001b[0m\u001b[0mframe\u001b[0m\u001b[0;34m)\u001b[0m\u001b[0;34m\u001b[0m\u001b[0;34m\u001b[0m\u001b[0m\n\u001b[0m\u001b[1;32m     89\u001b[0m         \u001b[0;32mif\u001b[0m \u001b[0mevent\u001b[0m \u001b[0;34m==\u001b[0m \u001b[0;34m'call'\u001b[0m\u001b[0;34m:\u001b[0m\u001b[0;34m\u001b[0m\u001b[0;34m\u001b[0m\u001b[0m\n\u001b[1;32m     90\u001b[0m             \u001b[0;32mreturn\u001b[0m \u001b[0mself\u001b[0m\u001b[0;34m.\u001b[0m\u001b[0mdispatch_call\u001b[0m\u001b[0;34m(\u001b[0m\u001b[0mframe\u001b[0m\u001b[0;34m,\u001b[0m \u001b[0marg\u001b[0m\u001b[0;34m)\u001b[0m\u001b[0;34m\u001b[0m\u001b[0;34m\u001b[0m\u001b[0m\n",
      "\u001b[0;32m/conda/envs/rapids/lib/python3.7/bdb.py\u001b[0m in \u001b[0;36mdispatch_line\u001b[0;34m(self, frame)\u001b[0m\n\u001b[1;32m    111\u001b[0m         \u001b[0;32mif\u001b[0m \u001b[0mself\u001b[0m\u001b[0;34m.\u001b[0m\u001b[0mstop_here\u001b[0m\u001b[0;34m(\u001b[0m\u001b[0mframe\u001b[0m\u001b[0;34m)\u001b[0m \u001b[0;32mor\u001b[0m \u001b[0mself\u001b[0m\u001b[0;34m.\u001b[0m\u001b[0mbreak_here\u001b[0m\u001b[0;34m(\u001b[0m\u001b[0mframe\u001b[0m\u001b[0;34m)\u001b[0m\u001b[0;34m:\u001b[0m\u001b[0;34m\u001b[0m\u001b[0;34m\u001b[0m\u001b[0m\n\u001b[1;32m    112\u001b[0m             \u001b[0mself\u001b[0m\u001b[0;34m.\u001b[0m\u001b[0muser_line\u001b[0m\u001b[0;34m(\u001b[0m\u001b[0mframe\u001b[0m\u001b[0;34m)\u001b[0m\u001b[0;34m\u001b[0m\u001b[0;34m\u001b[0m\u001b[0m\n\u001b[0;32m--> 113\u001b[0;31m             \u001b[0;32mif\u001b[0m \u001b[0mself\u001b[0m\u001b[0;34m.\u001b[0m\u001b[0mquitting\u001b[0m\u001b[0;34m:\u001b[0m \u001b[0;32mraise\u001b[0m \u001b[0mBdbQuit\u001b[0m\u001b[0;34m\u001b[0m\u001b[0;34m\u001b[0m\u001b[0m\n\u001b[0m\u001b[1;32m    114\u001b[0m         \u001b[0;32mreturn\u001b[0m \u001b[0mself\u001b[0m\u001b[0;34m.\u001b[0m\u001b[0mtrace_dispatch\u001b[0m\u001b[0;34m\u001b[0m\u001b[0;34m\u001b[0m\u001b[0m\n\u001b[1;32m    115\u001b[0m \u001b[0;34m\u001b[0m\u001b[0m\n",
      "\u001b[0;31mBdbQuit\u001b[0m: "
     ]
    }
   ],
   "source": [
    "info = test_linear_kalman_filter('single', 7, 5, 'numpy')"
   ]
  },
  {
   "cell_type": "code",
   "execution_count": null,
   "metadata": {},
   "outputs": [
    {
     "name": "stdout",
     "output_type": "stream",
     "text": [
      "> <ipython-input-39-5d116cd2af0c>(21)test_linear_kalman_filter()\n",
      "-> f.F = np.eye(dim_x, dtype=dt)\n"
     ]
    },
    {
     "name": "stdin",
     "output_type": "stream",
     "text": [
      "(Pdb)  c\n"
     ]
    },
    {
     "name": "stdout",
     "output_type": "stream",
     "text": [
      "> <ipython-input-39-5d116cd2af0c>(57)test_linear_kalman_filter()\n",
      "-> x = f.x.copy_to_host()\n"
     ]
    },
    {
     "name": "stdin",
     "output_type": "stream",
     "text": [
      "(Pdb)  np.asarray(info.x)\n"
     ]
    },
    {
     "name": "stdout",
     "output_type": "stream",
     "text": [
      "array([[8.99903965],\n",
      "       [0.        ],\n",
      "       [0.        ],\n",
      "       [0.        ],\n",
      "       [0.        ],\n",
      "       [0.        ],\n",
      "       [0.        ],\n",
      "       [0.        ],\n",
      "       [0.        ],\n",
      "       [0.        ]])\n"
     ]
    },
    {
     "name": "stdin",
     "output_type": "stream",
     "text": [
      "(Pdb)   np.asarray(info.z)\n"
     ]
    },
    {
     "name": "stdout",
     "output_type": "stream",
     "text": [
      "array([[0.],\n",
      "       [0.],\n",
      "       [0.],\n",
      "       [0.],\n",
      "       [0.]])\n"
     ]
    },
    {
     "name": "stdin",
     "output_type": "stream",
     "text": [
      "(Pdb)   np.asarray(info.R)\n"
     ]
    },
    {
     "name": "stdout",
     "output_type": "stream",
     "text": [
      "array([[5., 0., 0., 0., 0.],\n",
      "       [0., 5., 0., 0., 0.],\n",
      "       [0., 0., 5., 0., 0.],\n",
      "       [0., 0., 0., 5., 0.],\n",
      "       [0., 0., 0., 0., 5.]])\n"
     ]
    }
   ],
   "source": [
    "info = test_linear_kalman_filter('single', 7, 1, 'numpy')"
   ]
  },
  {
   "cell_type": "code",
   "execution_count": 31,
   "metadata": {},
   "outputs": [
    {
     "data": {
      "text/plain": [
       "array([[9.99011755e-01, 0.00000000e+00, 0.00000000e+00, 0.00000000e+00,\n",
       "        0.00000000e+00, 0.00000000e+00, 0.00000000e+00, 0.00000000e+00,\n",
       "        0.00000000e+00, 0.00000000e+00],\n",
       "       [0.00000000e+00, 5.12512000e+05, 0.00000000e+00, 0.00000000e+00,\n",
       "        0.00000000e+00, 0.00000000e+00, 0.00000000e+00, 0.00000000e+00,\n",
       "        0.00000000e+00, 0.00000000e+00],\n",
       "       [0.00000000e+00, 0.00000000e+00, 5.12512000e+05, 0.00000000e+00,\n",
       "        0.00000000e+00, 0.00000000e+00, 0.00000000e+00, 0.00000000e+00,\n",
       "        0.00000000e+00, 0.00000000e+00],\n",
       "       [0.00000000e+00, 0.00000000e+00, 0.00000000e+00, 5.12512000e+05,\n",
       "        0.00000000e+00, 0.00000000e+00, 0.00000000e+00, 0.00000000e+00,\n",
       "        0.00000000e+00, 0.00000000e+00],\n",
       "       [0.00000000e+00, 0.00000000e+00, 0.00000000e+00, 0.00000000e+00,\n",
       "        5.12512000e+05, 0.00000000e+00, 0.00000000e+00, 0.00000000e+00,\n",
       "        0.00000000e+00, 0.00000000e+00],\n",
       "       [0.00000000e+00, 0.00000000e+00, 0.00000000e+00, 0.00000000e+00,\n",
       "        0.00000000e+00, 5.12512000e+05, 0.00000000e+00, 0.00000000e+00,\n",
       "        0.00000000e+00, 0.00000000e+00],\n",
       "       [0.00000000e+00, 0.00000000e+00, 0.00000000e+00, 0.00000000e+00,\n",
       "        0.00000000e+00, 0.00000000e+00, 5.12512000e+05, 0.00000000e+00,\n",
       "        0.00000000e+00, 0.00000000e+00],\n",
       "       [0.00000000e+00, 0.00000000e+00, 0.00000000e+00, 0.00000000e+00,\n",
       "        0.00000000e+00, 0.00000000e+00, 0.00000000e+00, 5.12512000e+05,\n",
       "        0.00000000e+00, 0.00000000e+00],\n",
       "       [0.00000000e+00, 0.00000000e+00, 0.00000000e+00, 0.00000000e+00,\n",
       "        0.00000000e+00, 0.00000000e+00, 0.00000000e+00, 0.00000000e+00,\n",
       "        5.12512000e+05, 0.00000000e+00],\n",
       "       [0.00000000e+00, 0.00000000e+00, 0.00000000e+00, 0.00000000e+00,\n",
       "        0.00000000e+00, 0.00000000e+00, 0.00000000e+00, 0.00000000e+00,\n",
       "        0.00000000e+00, 5.12512000e+05]])"
      ]
     },
     "execution_count": 31,
     "metadata": {},
     "output_type": "execute_result"
    }
   ],
   "source": [
    "np.asarray(info.P)"
   ]
  },
  {
   "cell_type": "code",
   "execution_count": null,
   "metadata": {},
   "outputs": [],
   "source": [
    "n_neighbors = 10"
   ]
  },
  {
   "cell_type": "code",
   "execution_count": null,
   "metadata": {},
   "outputs": [],
   "source": []
  },
  {
   "cell_type": "code",
   "execution_count": null,
   "metadata": {},
   "outputs": [],
   "source": [
    "%%time\n",
    "knn_sk = skKNN(X)\n",
    "D_sk,I_sk = knn_sk.query(X,n_neighbors)"
   ]
  },
  {
   "cell_type": "code",
   "execution_count": null,
   "metadata": {},
   "outputs": [],
   "source": [
    "%%time\n",
    "X = cudf.DataFrame.from_pandas(X)"
   ]
  },
  {
   "cell_type": "code",
   "execution_count": null,
   "metadata": {},
   "outputs": [],
   "source": [
    "%%time\n",
    "knn_cuml = cumlKNN(n_gpus=1)\n",
    "knn_cuml.fit(X)\n",
    "D_cuml,I_cuml = knn_cuml.query(X,n_neighbors)"
   ]
  },
  {
   "cell_type": "code",
   "execution_count": null,
   "metadata": {},
   "outputs": [],
   "source": [
    "passed = array_equal(D_sk,D_cuml)\n",
    "message = 'compare knn: cuml vs sklearn distances %s'%('equal'if passed else 'NOT equal')\n",
    "print(message)\n",
    "passed = array_equal(I_sk,I_cuml)\n",
    "message = 'compare knn: cuml vs sklearn indexes %s'%('equal'if passed else 'NOT equal')\n",
    "print(message)"
   ]
  },
  {
   "cell_type": "code",
   "execution_count": null,
   "metadata": {},
   "outputs": [],
   "source": []
  }
 ],
 "metadata": {
  "kernelspec": {
   "display_name": "Python 3",
   "language": "python",
   "name": "python3"
  },
  "language_info": {
   "codemirror_mode": {
    "name": "ipython",
    "version": 3
   },
   "file_extension": ".py",
   "mimetype": "text/x-python",
   "name": "python",
   "nbconvert_exporter": "python",
   "pygments_lexer": "ipython3",
   "version": "3.7.3"
  }
 },
 "nbformat": 4,
 "nbformat_minor": 2
}
