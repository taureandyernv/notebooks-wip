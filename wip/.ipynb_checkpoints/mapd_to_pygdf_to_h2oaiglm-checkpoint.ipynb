{
 "cells": [
  {
   "cell_type": "markdown",
   "metadata": {},
   "source": [
    "### GPU Open Analytics Initiative: connect MapD to PyGDF to H2OAIGLM\n",
    "\n",
    "### In this demo, we will train 4000 regularized linear regression models on the U.S. Census dataset, with the goal to predict the income of a person, given approximately 10000 data points (such as age, occupation, zip code, etc.)\n",
    "\n",
    "### The dataset is about 2GB in memory (50k rows, 10k cols, single-precision floating-point values), so it fits onto the GPU memory.\n",
    "\n",
    "### By using multiple GPUs, we are able to speed up this process significantly, and can train about 40 models per second (on a DGX-1 with 8 GPUs)"
   ]
  },
  {
   "cell_type": "markdown",
   "metadata": {},
   "source": [
    "### Choose to Run or Run+Animate"
   ]
  },
  {
   "cell_type": "code",
   "execution_count": 1,
   "metadata": {
    "collapsed": true
   },
   "outputs": [],
   "source": [
    "# run=0: Choose not run h2oaiglm and just pass through all other cells\n",
    "# run=1: Run h2oaiglm without animation\n",
    "# Requirements: python3.5\n",
    "run=1\n",
    "\n",
    "# anim=0: Don't show animation\n",
    "# anim=1: Do show animation\n",
    "# pip install pandas psutil matplotlib --user\n",
    "# pip install -e git+https://github.com/fbcotter/py3nvml#egg=py3nvml --user\n",
    "anim=1\n",
    "\n",
    "PWD = !pwd"
   ]
  },
  {
   "cell_type": "code",
   "execution_count": 2,
   "metadata": {
    "collapsed": true
   },
   "outputs": [],
   "source": [
    "import sys\n",
    "import os.path\n",
    "from pprint import pprint\n",
    "import warnings\n",
    "warnings.filterwarnings('ignore')"
   ]
  },
  {
   "cell_type": "markdown",
   "metadata": {},
   "source": [
    "Connect to MapD using `pymapd`"
   ]
  },
  {
   "cell_type": "code",
   "execution_count": 3,
   "metadata": {
    "collapsed": true
   },
   "outputs": [],
   "source": [
    "import pandas as pd\n",
    "import cudf\n",
    "import dask_cudf\n",
    "import cuml\n",
    "import sys\n",
    "import os\n",
    "from pprint import pprint\n",
    "import warnings\n",
    "warnings.filterwarnings('ignore')"
   ]
  },
  {
   "cell_type": "code",
   "execution_count": 4,
   "metadata": {},
   "outputs": [],
   "source": [
    "import gzip\n",
    "def load_data(cached = '/rapids/notebooks/wip/notebooks-extended/data/ipums/ipums_easy.csv.gz',source='ipums'):\n",
    "    if os.path.exists(cached) and source=='ipums':\n",
    "        print('use ipums data')\n",
    "        with gzip.open(cached) as f:\n",
    "            #X = pd.read_csv(f)\n",
    "            X = cudf.read_csv(f)\n",
    "    else:\n",
    "        print(\"no data\")\n",
    "    return X"
   ]
  },
  {
   "cell_type": "code",
   "execution_count": 5,
   "metadata": {},
   "outputs": [
    {
     "name": "stdout",
     "output_type": "stream",
     "text": [
      "use ipums data\n",
      "data (10000, 459)\n"
     ]
    }
   ],
   "source": [
    "df = load_data()\n",
    "print('data',df.shape)"
   ]
  },
  {
   "cell_type": "markdown",
   "metadata": {},
   "source": [
    "The Query"
   ]
  },
  {
   "cell_type": "code",
   "execution_count": 6,
   "metadata": {},
   "outputs": [
    {
     "data": {
      "text/plain": [
       "<cudf.Series nrows=10000 >"
      ]
     },
     "execution_count": 6,
     "metadata": {},
     "output_type": "execute_result"
    }
   ],
   "source": [
    "df.INCEARN"
   ]
  },
  {
   "cell_type": "code",
   "execution_count": 7,
   "metadata": {},
   "outputs": [],
   "source": [
    "#columns to keep= INCEARN,RECTYPE,IPUMS_YEAR,DATANUM,SERIAL,NUMPREC,SUBSAMP,HHWT,HHTYPE,REPWT,ADJUST,CPI99,REGION,STATEICP,STATEFIP,COUNTY,COUNTYFIPS,METRO,METAREA,METAREAD,MET2013,MET2013ERR,CITY,CITYERR,CITYPOP,PUMA,PUMARES2MIG,STRATA,PUMASUPR,CONSPUMA,CPUMA0010,APPAL,APPALD,HOMELAND,MET2003,CNTRY,GQ,GQTYPE,GQTYPED,FARM,OWNERSHP,OWNERSHPD,MORTGAGE,MORTGAG2,COMMUSE,FARMPROD,ACREHOUS,MORTAMT1,MORTAMT2,TAXINCL,INSINCL,PROPINSR,PROPTX99,OWNCOST,RENT,RENTGRS,RENTMEAL,CONDOFEE,MOBLHOME,MOBLHOM2,MOBLOAN,SECRES,SECRESMO,SECRESRE,COSTELEC,COSTGAS,COSTWATR,COSTFUEL,PUBHOUS,RENTSUB,HEATSUB,LUNCHSUB,FOODSTMP,FDSTPAMT,VALUEH,LINGISOL,VACANCY,KITCHEN,KITCHENORIG,FRIDGE,FRIDGEORIG,SINK,STOVE,ROOMS,ROOMSORIG,PLUMBING,HOTWATER,SHOWER,TOILET,BUILTYR,BUILTYR2,UNITSSTR,BEDROOMS,BEDROOMSORIG,PHONE,PHONEORIG,CILAPTOP,CIHAND,CIOTHCOMP,CINETHH,CIMODEM,CISAT,CIDSL,CIFIBER,CIBRDBND,CIDIAL,CIOTHSVC,FUELHEAT,VEHICLES,SSMC,NFAMS,NSUBFAM,NCOUPLES,NMOTHERS,NFATHERS,MULTGEN,MULTGEND,CBNSUBFAM,REPWT1,REPWT2,REPWT3,REPWT4,REPWT5,REPWT6,REPWT7,REPWT8,REPWT9,REPWT10,REPWT11,REPWT12,REPWT13,REPWT14,REPWT15,REPWT16,REPWT17,REPWT18,REPWT19,REPWT20,REPWT21,REPWT22,REPWT23,REPWT24,REPWT25,REPWT26,REPWT27,REPWT28,REPWT29,REPWT30,REPWT31,REPWT32,REPWT33,REPWT34,REPWT35,REPWT36,REPWT37,REPWT38,REPWT39,REPWT40,REPWT41,REPWT42,REPWT43,REPWT44,REPWT45,REPWT46,REPWT47,REPWT48,REPWT49,REPWT50,REPWT51,REPWT52,REPWT53,REPWT54,REPWT55,REPWT56,REPWT57,REPWT58,REPWT59,REPWT60,REPWT61,REPWT62,REPWT63,REPWT64,REPWT65,REPWT66,REPWT67,REPWT68,REPWT69,REPWT70,REPWT71,REPWT72,REPWT73,REPWT74,REPWT75,REPWT76,REPWT77,REPWT78,REPWT79,REPWT80,RESPMODE,PERNUM,PERWT,SLWT,REPWTP,FAMSIZE,NCHILD,NCHLT5,FAMUNIT,ELDCH,YNGCH,NSIBS,MOMLOC,STEPMOM,MOMRULE,POPLOC,STEPPOP,POPRULE,SPLOC,SPRULE,SUBFAM,SFTYPE,SFRELATE,CBSUBFAM,CBSFTYPE,CBSFRELATE,RELATE,RELATED,SEX,AGE,AGEORIG,BIRTHQTR,MARST,BIRTHYR,MARRNO,MARRINYR,YRMARR,DIVINYR,WIDINYR,FERTYR,RACE,RACED,HISPAN,HISPAND,BPL,BPLD,ANCESTR1,ANCESTR1D,ANCESTR2,ANCESTR2D,CITIZEN,YRNATUR,YRIMMIG,YRSUSA1,YRSUSA2,SPOKEN_LANGUAGE,LANGUAGED,SPEAKENG,TRIBE,TRIBED,RACESING,RACESINGD,RACAMIND,RACASIAN,RACBLK,RACPACIS,RACWHT,RACOTHER,RACNUM,SCHOOL,EDUC,EDUCD,GRADEATT,GRADEATTD,SCHLTYPE,DEGFIELD,DEGFIELDD,DEGFIELD2,DEGFIELD2D,EMPSTAT,EMPSTATD,LABFORCE,OCC,OCC1950,OCC1990,OCC2010,IND,IND1950,IND1990,CLASSWKR,CLASSWKRD,OCCSOC,INDNAICS,WKSWORK1,WKSWORK2,UHRSWORK,WRKLSTWK,ABSENT,LOOKING,AVAILBLE,WRKRECAL,WORKEDYR,POVERTY,OCCSCORE,SEI,HWSEI,PRESGL,PRENT,ERSCOR50,ERSCOR90,EDSCOR50,EDSCOR90,NPBOSS50,NPBOSS90,MIGRATE1,MIGRATE1D,MIGPLAC1,MIGMET1,MIGTYPE1,MIGCITY1,MIGPUMS1,MIGPUMA1,MOVEDIN,MOVEDINORIG,DISABWRK,VETDISAB,DIFFREM,DIFFPHYS,DIFFMOB,DIFFCARE,DIFFSENS,DIFFEYE,DIFFHEAR,VETSTAT,VETSTATD,VET01LTR,VET95X00,VET90X01,VET90X95,VET75X90,VET80X90,VET75X80,VETVIETN,VET55X64,VETKOREA,VET47X50,VETWWII,VETOTHER,VETYRS,PWSTATE2,PWMETRO,PWCITY,PWTYPE,PWPUMA00,PWPUMAS,TRANWORK,CARPOOL,RIDERS,TRANTIME,DEPARTS,ARRIVES,GCHOUSE,GCMONTHS,GCRESPON,PROBAI,PROBAPI,PROBBLK,PROBOTH,PROBWHT,REPWTP1,REPWTP2,REPWTP3,REPWTP4,REPWTP5,REPWTP6,REPWTP7,REPWTP8,REPWTP9,REPWTP10,REPWTP11,REPWTP12,REPWTP13,REPWTP14,REPWTP15,REPWTP16,REPWTP17,REPWTP18,REPWTP19,REPWTP20,REPWTP21,REPWTP22,REPWTP23,REPWTP24,REPWTP25,REPWTP26,REPWTP27,REPWTP28,REPWTP29,REPWTP30,REPWTP31,REPWTP32,REPWTP33,REPWTP34,REPWTP35,REPWTP36,REPWTP37,REPWTP38,REPWTP39,REPWTP40,REPWTP41,REPWTP42,REPWTP43,REPWTP44,REPWTP45,REPWTP46,REPWTP47,REPWTP48,REPWTP49,REPWTP50,REPWTP51,REPWTP52,REPWTP53,REPWTP54,REPWTP55,REPWTP56,REPWTP57,REPWTP58,REPWTP59,REPWTP60,REPWTP61,REPWTP62,REPWTP63,REPWTP64,REPWTP65,REPWTP66,REPWTP67,REPWTP68,REPWTP69,REPWTP70,REPWTP71,REPWTP72,REPWTP73,REPWTP74,REPWTP75,REPWTP76,REPWTP77,REPWTP78,REPWTP79,REPWTP80\n"
   ]
  },
  {
   "cell_type": "code",
   "execution_count": 8,
   "metadata": {},
   "outputs": [],
   "source": [
    "dcols = [ #clumns to drop\n",
    " 'CLUSTER',\n",
    " 'HHINCOME',\n",
    " 'INCTOT',\n",
    " 'FTOTINC',\n",
    " 'INCWAGE',\n",
    " 'INCBUS00',\n",
    " 'INCSS',\n",
    " 'INCWELFR',\n",
    " 'INCINVST',\n",
    " 'INCRETIR',\n",
    " 'INCSUPP',\n",
    " 'INCOTHER']\n",
    "ddf= df.drop(dcols)"
   ]
  },
  {
   "cell_type": "code",
   "execution_count": 9,
   "metadata": {},
   "outputs": [
    {
     "data": {
      "text/plain": [
       "array([ 960, 9998,  360,  480, 1560,  240, 1440, 1200,  120,  600, 3240,\n",
       "       1080,  720,  840, 1680, 2520, 4920, 1800, 3360, 5040, 3120, 2160,\n",
       "       2040, 1320, 2280, 2400, 1920, 5160, 5400, 2760, 4680, 4800, 3000,\n",
       "       2640, 3600, 5280, 3480])"
      ]
     },
     "execution_count": 9,
     "metadata": {},
     "output_type": "execute_result"
    }
   ],
   "source": [
    "ddf.COSTGAS.to_pandas().unique()"
   ]
  },
  {
   "cell_type": "code",
   "execution_count": 10,
   "metadata": {},
   "outputs": [
    {
     "name": "stdout",
     "output_type": "stream",
     "text": [
      "data (10000, 447)\n"
     ]
    }
   ],
   "source": [
    "print('data',ddf.shape)"
   ]
  },
  {
   "cell_type": "code",
   "execution_count": 11,
   "metadata": {},
   "outputs": [
    {
     "data": {
      "text/plain": [
       "<cudf.Series nrows=664 >"
      ]
     },
     "execution_count": 11,
     "metadata": {},
     "output_type": "execute_result"
    }
   ],
   "source": [
    "ddf.INCEARN.unique()"
   ]
  },
  {
   "cell_type": "code",
   "execution_count": 12,
   "metadata": {},
   "outputs": [
    {
     "name": "stdout",
     "output_type": "stream",
     "text": [
      "0     4000\n",
      "1    36700\n",
      "2    54000\n",
      "3      900\n",
      "4     2000\n",
      "Name: INCEARN, dtype: int64\n"
     ]
    }
   ],
   "source": [
    "print(df.INCEARN.head(5))"
   ]
  },
  {
   "cell_type": "code",
   "execution_count": 13,
   "metadata": {},
   "outputs": [
    {
     "name": "stdout",
     "output_type": "stream",
     "text": [
      "    RECTYPE  YEAR  DATANUM  SERIAL  NUMPREC  SUBSAMP  HHWT ...  REPWTP80\n",
      "0        0  2000        3       1        2       26   600 ...     -2048\n",
      "1        0  2000        3       1        2       26   600 ...     -2048\n",
      "2        0  2000        3       2        4       76   600 ...     -2048\n",
      "3        0  2000        3       2        4       76   600 ...     -2048\n",
      "4        0  2000        3       2        4       76   600 ...     -2048\n",
      "6        0  2000        3       3        1        2   600 ...     -2048\n",
      "7        0  2000        3       4        1       92   600 ...     -2048\n",
      "8        0  2000        3       5        4       81   600 ...     -2048\n",
      "9        0  2000        3       5        4       81   600 ...     -2048\n",
      "11        0  2000        3       5        4       81   600 ...     -2048\n",
      "[5558 more rows]\n",
      "[439 more columns]\n"
     ]
    }
   ],
   "source": [
    "#query = \"SELECT {} FROM ipums_easy WHERE INCEARN > 100;\".format(columns)\n",
    "# ensure sql query is deterministic\n",
    "#query = \"SELECT {} FROM ipums_easy WHERE INCEARN > 100 order by SERIAL;\".format(columns)\n",
    "#print('Query is : ' + query)\n",
    "\n",
    "# always use True for is columnar\n",
    "#(df.query('datetimes==@search_date'))\n",
    "ddf = ddf.fillna(-2048)\n",
    "#imax = 100 \n",
    "#idf = ddf.query(ddf.INCEARN==imax)\n",
    "expr = \"INCEARN > 100\"\n",
    "idf = ddf.query(expr)\n",
    "print(idf)"
   ]
  },
  {
   "cell_type": "markdown",
   "metadata": {},
   "source": [
    "`df` is a PyGDF GPU Dataframe"
   ]
  },
  {
   "cell_type": "code",
   "execution_count": 14,
   "metadata": {},
   "outputs": [
    {
     "data": {
      "text/plain": [
       "<cudf.DataFrame ncols=447 nrows=5568 >"
      ]
     },
     "execution_count": 14,
     "metadata": {},
     "output_type": "execute_result"
    }
   ],
   "source": [
    "(idf)"
   ]
  },
  {
   "cell_type": "code",
   "execution_count": 15,
   "metadata": {},
   "outputs": [
    {
     "data": {
      "text/html": [
       "<div>\n",
       "<style scoped>\n",
       "    .dataframe tbody tr th:only-of-type {\n",
       "        vertical-align: middle;\n",
       "    }\n",
       "\n",
       "    .dataframe tbody tr th {\n",
       "        vertical-align: top;\n",
       "    }\n",
       "\n",
       "    .dataframe thead th {\n",
       "        text-align: right;\n",
       "    }\n",
       "</style>\n",
       "<table border=\"1\" class=\"dataframe\">\n",
       "  <thead>\n",
       "    <tr style=\"text-align: right;\">\n",
       "      <th></th>\n",
       "      <th>RECTYPE</th>\n",
       "      <th>YEAR</th>\n",
       "      <th>DATANUM</th>\n",
       "      <th>SERIAL</th>\n",
       "      <th>NUMPREC</th>\n",
       "      <th>SUBSAMP</th>\n",
       "      <th>HHWT</th>\n",
       "      <th>HHTYPE</th>\n",
       "      <th>REPWT</th>\n",
       "      <th>ADJUST</th>\n",
       "      <th>...</th>\n",
       "      <th>REPWTP71</th>\n",
       "      <th>REPWTP72</th>\n",
       "      <th>REPWTP73</th>\n",
       "      <th>REPWTP74</th>\n",
       "      <th>REPWTP75</th>\n",
       "      <th>REPWTP76</th>\n",
       "      <th>REPWTP77</th>\n",
       "      <th>REPWTP78</th>\n",
       "      <th>REPWTP79</th>\n",
       "      <th>REPWTP80</th>\n",
       "    </tr>\n",
       "  </thead>\n",
       "  <tbody>\n",
       "    <tr>\n",
       "      <th>0</th>\n",
       "      <td>0</td>\n",
       "      <td>2000</td>\n",
       "      <td>3</td>\n",
       "      <td>1</td>\n",
       "      <td>2</td>\n",
       "      <td>26</td>\n",
       "      <td>600</td>\n",
       "      <td>3</td>\n",
       "      <td>-2048</td>\n",
       "      <td>1.018516</td>\n",
       "      <td>...</td>\n",
       "      <td>-2048</td>\n",
       "      <td>-2048</td>\n",
       "      <td>-2048</td>\n",
       "      <td>-2048</td>\n",
       "      <td>-2048</td>\n",
       "      <td>-2048</td>\n",
       "      <td>-2048</td>\n",
       "      <td>-2048</td>\n",
       "      <td>-2048</td>\n",
       "      <td>-2048</td>\n",
       "    </tr>\n",
       "    <tr>\n",
       "      <th>1</th>\n",
       "      <td>0</td>\n",
       "      <td>2000</td>\n",
       "      <td>3</td>\n",
       "      <td>1</td>\n",
       "      <td>2</td>\n",
       "      <td>26</td>\n",
       "      <td>600</td>\n",
       "      <td>3</td>\n",
       "      <td>-2048</td>\n",
       "      <td>1.018516</td>\n",
       "      <td>...</td>\n",
       "      <td>-2048</td>\n",
       "      <td>-2048</td>\n",
       "      <td>-2048</td>\n",
       "      <td>-2048</td>\n",
       "      <td>-2048</td>\n",
       "      <td>-2048</td>\n",
       "      <td>-2048</td>\n",
       "      <td>-2048</td>\n",
       "      <td>-2048</td>\n",
       "      <td>-2048</td>\n",
       "    </tr>\n",
       "    <tr>\n",
       "      <th>2</th>\n",
       "      <td>0</td>\n",
       "      <td>2000</td>\n",
       "      <td>3</td>\n",
       "      <td>2</td>\n",
       "      <td>4</td>\n",
       "      <td>76</td>\n",
       "      <td>600</td>\n",
       "      <td>1</td>\n",
       "      <td>-2048</td>\n",
       "      <td>1.018516</td>\n",
       "      <td>...</td>\n",
       "      <td>-2048</td>\n",
       "      <td>-2048</td>\n",
       "      <td>-2048</td>\n",
       "      <td>-2048</td>\n",
       "      <td>-2048</td>\n",
       "      <td>-2048</td>\n",
       "      <td>-2048</td>\n",
       "      <td>-2048</td>\n",
       "      <td>-2048</td>\n",
       "      <td>-2048</td>\n",
       "    </tr>\n",
       "    <tr>\n",
       "      <th>3</th>\n",
       "      <td>0</td>\n",
       "      <td>2000</td>\n",
       "      <td>3</td>\n",
       "      <td>2</td>\n",
       "      <td>4</td>\n",
       "      <td>76</td>\n",
       "      <td>600</td>\n",
       "      <td>1</td>\n",
       "      <td>-2048</td>\n",
       "      <td>1.018516</td>\n",
       "      <td>...</td>\n",
       "      <td>-2048</td>\n",
       "      <td>-2048</td>\n",
       "      <td>-2048</td>\n",
       "      <td>-2048</td>\n",
       "      <td>-2048</td>\n",
       "      <td>-2048</td>\n",
       "      <td>-2048</td>\n",
       "      <td>-2048</td>\n",
       "      <td>-2048</td>\n",
       "      <td>-2048</td>\n",
       "    </tr>\n",
       "    <tr>\n",
       "      <th>4</th>\n",
       "      <td>0</td>\n",
       "      <td>2000</td>\n",
       "      <td>3</td>\n",
       "      <td>2</td>\n",
       "      <td>4</td>\n",
       "      <td>76</td>\n",
       "      <td>600</td>\n",
       "      <td>1</td>\n",
       "      <td>-2048</td>\n",
       "      <td>1.018516</td>\n",
       "      <td>...</td>\n",
       "      <td>-2048</td>\n",
       "      <td>-2048</td>\n",
       "      <td>-2048</td>\n",
       "      <td>-2048</td>\n",
       "      <td>-2048</td>\n",
       "      <td>-2048</td>\n",
       "      <td>-2048</td>\n",
       "      <td>-2048</td>\n",
       "      <td>-2048</td>\n",
       "      <td>-2048</td>\n",
       "    </tr>\n",
       "  </tbody>\n",
       "</table>\n",
       "<p>5 rows × 447 columns</p>\n",
       "</div>"
      ],
      "text/plain": [
       "   RECTYPE  YEAR  DATANUM  SERIAL  NUMPREC  SUBSAMP  HHWT  HHTYPE  REPWT  \\\n",
       "0        0  2000        3       1        2       26   600       3  -2048   \n",
       "1        0  2000        3       1        2       26   600       3  -2048   \n",
       "2        0  2000        3       2        4       76   600       1  -2048   \n",
       "3        0  2000        3       2        4       76   600       1  -2048   \n",
       "4        0  2000        3       2        4       76   600       1  -2048   \n",
       "\n",
       "     ADJUST    ...     REPWTP71  REPWTP72  REPWTP73  REPWTP74  REPWTP75  \\\n",
       "0  1.018516    ...        -2048     -2048     -2048     -2048     -2048   \n",
       "1  1.018516    ...        -2048     -2048     -2048     -2048     -2048   \n",
       "2  1.018516    ...        -2048     -2048     -2048     -2048     -2048   \n",
       "3  1.018516    ...        -2048     -2048     -2048     -2048     -2048   \n",
       "4  1.018516    ...        -2048     -2048     -2048     -2048     -2048   \n",
       "\n",
       "   REPWTP76  REPWTP77  REPWTP78  REPWTP79  REPWTP80  \n",
       "0     -2048     -2048     -2048     -2048     -2048  \n",
       "1     -2048     -2048     -2048     -2048     -2048  \n",
       "2     -2048     -2048     -2048     -2048     -2048  \n",
       "3     -2048     -2048     -2048     -2048     -2048  \n",
       "4     -2048     -2048     -2048     -2048     -2048  \n",
       "\n",
       "[5 rows x 447 columns]"
      ]
     },
     "execution_count": 15,
     "metadata": {},
     "output_type": "execute_result"
    }
   ],
   "source": [
    "idf.head().to_pandas()"
   ]
  },
  {
   "cell_type": "code",
   "execution_count": 16,
   "metadata": {
    "collapsed": true
   },
   "outputs": [],
   "source": [
    "import numpy as np"
   ]
  },
  {
   "cell_type": "code",
   "execution_count": 17,
   "metadata": {},
   "outputs": [
    {
     "data": {
      "text/plain": [
       "<cudf.DataFrame ncols=447 nrows=5568 >"
      ]
     },
     "execution_count": 17,
     "metadata": {},
     "output_type": "execute_result"
    }
   ],
   "source": [
    "idf"
   ]
  },
  {
   "cell_type": "code",
   "execution_count": 18,
   "metadata": {},
   "outputs": [
    {
     "data": {
      "text/plain": [
       "32876.621408045976"
      ]
     },
     "execution_count": 18,
     "metadata": {},
     "output_type": "execute_result"
    }
   ],
   "source": [
    "idf['INCEARN'].mean()"
   ]
  },
  {
   "cell_type": "markdown",
   "metadata": {},
   "source": [
    "Preprocess the data"
   ]
  },
  {
   "cell_type": "code",
   "execution_count": 19,
   "metadata": {
    "collapsed": true
   },
   "outputs": [],
   "source": [
    "num_cols = set()\n",
    "cat_cols = set()\n",
    "response_set = set(['INCEARN'])\n",
    "feature_names = set(idf.columns) - response_set"
   ]
  },
  {
   "cell_type": "markdown",
   "metadata": {},
   "source": [
    "Determine categorical and numeric columns.  Compute unique values from categorical columns."
   ]
  },
  {
   "cell_type": "code",
   "execution_count": 20,
   "metadata": {
    "collapsed": true
   },
   "outputs": [],
   "source": [
    "uniques = {}\n",
    "for k in feature_names:\n",
    "    try:\n",
    "        uniquevals = idf[k].unique_k(k=1000)\n",
    "        uniques[k] = uniquevals\n",
    "    except ValueError:\n",
    "        # more than 1000 unique values\n",
    "        num_cols.add(k)\n",
    "    else:\n",
    "        # within 1000 unique values\n",
    "        nunique = len(uniquevals)\n",
    "        if nunique < 2:\n",
    "            del idf[k]        # drop constant column\n",
    "        elif 1 < nunique < 1000:\n",
    "            cat_cols.add(k)  # as cat column\n",
    "        else:\n",
    "            num_cols.add(k)  # as num column"
   ]
  },
  {
   "cell_type": "markdown",
   "metadata": {},
   "source": [
    "Fix numeric columns.  Fill NA, Scale to [0, 1]. Drop near constant"
   ]
  },
  {
   "cell_type": "code",
   "execution_count": 21,
   "metadata": {
    "collapsed": true
   },
   "outputs": [],
   "source": [
    "for k in (num_cols - response_set):\n",
    "    idf[k] = idf[k].fillna(idf[k].mean())\n",
    "    assert idf[k].null_count == 0\n",
    "    std = idf[k].std()\n",
    "    # drop near constant columns\n",
    "    if not np.isfinite(std) or std < 1e-4:\n",
    "        del idf[k]\n",
    "        print('drop near constant', k)\n",
    "    else:\n",
    "        idf[k] = idf[k].scale()"
   ]
  },
  {
   "cell_type": "markdown",
   "metadata": {},
   "source": [
    "Expand categorical columns"
   ]
  },
  {
   "cell_type": "code",
   "execution_count": 22,
   "metadata": {
    "collapsed": true
   },
   "outputs": [],
   "source": [
    "for k in cat_cols:\n",
    "    cats = uniques[k][1:]  # drop first\n",
    "    idf = idf.one_hot_encoding(k, prefix=k, cats=cats)\n",
    "    del idf[k]"
   ]
  },
  {
   "cell_type": "markdown",
   "metadata": {},
   "source": [
    "Ensure INCEARN is float64"
   ]
  },
  {
   "cell_type": "code",
   "execution_count": 23,
   "metadata": {},
   "outputs": [
    {
     "name": "stdout",
     "output_type": "stream",
     "text": [
      "5568\n"
     ]
    }
   ],
   "source": [
    "nrows=len(idf)\n",
    "print(nrows)\n",
    "idf['intercept'] = np.ones(nrows, dtype=np.float64)"
   ]
  },
  {
   "cell_type": "code",
   "execution_count": 24,
   "metadata": {
    "collapsed": true
   },
   "outputs": [],
   "source": [
    "idf['INCEARN'] = idf['INCEARN'].astype(np.float64)"
   ]
  },
  {
   "cell_type": "code",
   "execution_count": 25,
   "metadata": {},
   "outputs": [
    {
     "data": {
      "text/plain": [
       "SERIAL          float64\n",
       "OWNCOST         float64\n",
       "PERWT           float64\n",
       "SLWT            float64\n",
       "INCEARN         float64\n",
       "HISPAND_100     float64\n",
       "HISPAND_200     float64\n",
       "HISPAND_300     float64\n",
       "HISPAND_412     float64\n",
       "HISPAND_413     float64\n",
       "HISPAND_414     float64\n",
       "HISPAND_415     float64\n",
       "HISPAND_416     float64\n",
       "HISPAND_417     float64\n",
       "HISPAND_423     float64\n",
       "HISPAND_424     float64\n",
       "HISPAND_426     float64\n",
       "HISPAND_428     float64\n",
       "HISPAND_431     float64\n",
       "HISPAND_450     float64\n",
       "HISPAND_460     float64\n",
       "HISPAND_498     float64\n",
       "ROOMS_2         float64\n",
       "ROOMS_3         float64\n",
       "ROOMS_4         float64\n",
       "ROOMS_5         float64\n",
       "ROOMS_6         float64\n",
       "ROOMS_7         float64\n",
       "ROOMS_8         float64\n",
       "ROOMS_9         float64\n",
       "                 ...   \n",
       "YRIMMIG_1972    float64\n",
       "YRIMMIG_1973    float64\n",
       "YRIMMIG_1974    float64\n",
       "YRIMMIG_1975    float64\n",
       "YRIMMIG_1976    float64\n",
       "YRIMMIG_1977    float64\n",
       "YRIMMIG_1978    float64\n",
       "YRIMMIG_1979    float64\n",
       "YRIMMIG_1980    float64\n",
       "YRIMMIG_1981    float64\n",
       "YRIMMIG_1982    float64\n",
       "YRIMMIG_1983    float64\n",
       "YRIMMIG_1984    float64\n",
       "YRIMMIG_1985    float64\n",
       "YRIMMIG_1986    float64\n",
       "YRIMMIG_1987    float64\n",
       "YRIMMIG_1988    float64\n",
       "YRIMMIG_1989    float64\n",
       "YRIMMIG_1990    float64\n",
       "YRIMMIG_1991    float64\n",
       "YRIMMIG_1992    float64\n",
       "YRIMMIG_1993    float64\n",
       "YRIMMIG_1994    float64\n",
       "YRIMMIG_1995    float64\n",
       "YRIMMIG_1996    float64\n",
       "YRIMMIG_1997    float64\n",
       "YRIMMIG_1998    float64\n",
       "YRIMMIG_1999    float64\n",
       "YRIMMIG_2000    float64\n",
       "intercept       float64\n",
       "Length: 8551, dtype: object"
      ]
     },
     "execution_count": 25,
     "metadata": {},
     "output_type": "execute_result"
    }
   ],
   "source": [
    "idf.dtypes"
   ]
  },
  {
   "cell_type": "code",
   "execution_count": 51,
   "metadata": {},
   "outputs": [
    {
     "data": {
      "text/plain": [
       "<cudf.DataFrame ncols=8551 nrows=5568 >"
      ]
     },
     "execution_count": 51,
     "metadata": {},
     "output_type": "execute_result"
    }
   ],
   "source": [
    "idf"
   ]
  },
  {
   "cell_type": "code",
   "execution_count": 50,
   "metadata": {},
   "outputs": [
    {
     "data": {
      "text/plain": [
       "5568"
      ]
     },
     "execution_count": 50,
     "metadata": {},
     "output_type": "execute_result"
    }
   ],
   "source": [
    "len(idf)"
   ]
  },
  {
   "cell_type": "code",
   "execution_count": 53,
   "metadata": {},
   "outputs": [
    {
     "data": {
      "text/plain": [
       "<cudf.DataFrame ncols=8551 nrows=5568 >"
      ]
     },
     "execution_count": 53,
     "metadata": {},
     "output_type": "execute_result"
    }
   ],
   "source": [
    "new_idf = idf\n",
    "new_idf.set_index([i for i in range(len(idf))])"
   ]
  },
  {
   "cell_type": "code",
   "execution_count": 71,
   "metadata": {},
   "outputs": [
    {
     "data": {
      "text/html": [
       "<div>\n",
       "<style scoped>\n",
       "    .dataframe tbody tr th:only-of-type {\n",
       "        vertical-align: middle;\n",
       "    }\n",
       "\n",
       "    .dataframe tbody tr th {\n",
       "        vertical-align: top;\n",
       "    }\n",
       "\n",
       "    .dataframe thead th {\n",
       "        text-align: right;\n",
       "    }\n",
       "</style>\n",
       "<table border=\"1\" class=\"dataframe\">\n",
       "  <thead>\n",
       "    <tr style=\"text-align: right;\">\n",
       "      <th></th>\n",
       "      <th>SERIAL</th>\n",
       "      <th>OWNCOST</th>\n",
       "      <th>PERWT</th>\n",
       "      <th>SLWT</th>\n",
       "      <th>INCEARN</th>\n",
       "      <th>HISPAND_100</th>\n",
       "      <th>HISPAND_200</th>\n",
       "      <th>HISPAND_300</th>\n",
       "      <th>HISPAND_412</th>\n",
       "      <th>HISPAND_413</th>\n",
       "      <th>...</th>\n",
       "      <th>YRIMMIG_1992</th>\n",
       "      <th>YRIMMIG_1993</th>\n",
       "      <th>YRIMMIG_1994</th>\n",
       "      <th>YRIMMIG_1995</th>\n",
       "      <th>YRIMMIG_1996</th>\n",
       "      <th>YRIMMIG_1997</th>\n",
       "      <th>YRIMMIG_1998</th>\n",
       "      <th>YRIMMIG_1999</th>\n",
       "      <th>YRIMMIG_2000</th>\n",
       "      <th>intercept</th>\n",
       "    </tr>\n",
       "  </thead>\n",
       "  <tbody>\n",
       "    <tr>\n",
       "      <th>0</th>\n",
       "      <td>0.000000</td>\n",
       "      <td>0.007421</td>\n",
       "      <td>0.156116</td>\n",
       "      <td>0.156116</td>\n",
       "      <td>4000.0</td>\n",
       "      <td>0.0</td>\n",
       "      <td>0.0</td>\n",
       "      <td>0.0</td>\n",
       "      <td>0.0</td>\n",
       "      <td>0.0</td>\n",
       "      <td>...</td>\n",
       "      <td>0.0</td>\n",
       "      <td>0.0</td>\n",
       "      <td>0.0</td>\n",
       "      <td>0.0</td>\n",
       "      <td>0.0</td>\n",
       "      <td>0.0</td>\n",
       "      <td>0.0</td>\n",
       "      <td>0.0</td>\n",
       "      <td>0.0</td>\n",
       "      <td>1.0</td>\n",
       "    </tr>\n",
       "    <tr>\n",
       "      <th>1</th>\n",
       "      <td>0.000000</td>\n",
       "      <td>0.007421</td>\n",
       "      <td>0.176398</td>\n",
       "      <td>0.176398</td>\n",
       "      <td>36700.0</td>\n",
       "      <td>0.0</td>\n",
       "      <td>0.0</td>\n",
       "      <td>0.0</td>\n",
       "      <td>0.0</td>\n",
       "      <td>0.0</td>\n",
       "      <td>...</td>\n",
       "      <td>0.0</td>\n",
       "      <td>0.0</td>\n",
       "      <td>0.0</td>\n",
       "      <td>0.0</td>\n",
       "      <td>0.0</td>\n",
       "      <td>0.0</td>\n",
       "      <td>0.0</td>\n",
       "      <td>0.0</td>\n",
       "      <td>0.0</td>\n",
       "      <td>1.0</td>\n",
       "    </tr>\n",
       "    <tr>\n",
       "      <th>2</th>\n",
       "      <td>0.000236</td>\n",
       "      <td>0.004190</td>\n",
       "      <td>0.156116</td>\n",
       "      <td>0.156116</td>\n",
       "      <td>54000.0</td>\n",
       "      <td>0.0</td>\n",
       "      <td>0.0</td>\n",
       "      <td>0.0</td>\n",
       "      <td>0.0</td>\n",
       "      <td>0.0</td>\n",
       "      <td>...</td>\n",
       "      <td>0.0</td>\n",
       "      <td>0.0</td>\n",
       "      <td>0.0</td>\n",
       "      <td>0.0</td>\n",
       "      <td>0.0</td>\n",
       "      <td>0.0</td>\n",
       "      <td>0.0</td>\n",
       "      <td>0.0</td>\n",
       "      <td>0.0</td>\n",
       "      <td>1.0</td>\n",
       "    </tr>\n",
       "    <tr>\n",
       "      <th>3</th>\n",
       "      <td>0.000236</td>\n",
       "      <td>0.004190</td>\n",
       "      <td>0.153350</td>\n",
       "      <td>0.153350</td>\n",
       "      <td>900.0</td>\n",
       "      <td>0.0</td>\n",
       "      <td>0.0</td>\n",
       "      <td>0.0</td>\n",
       "      <td>0.0</td>\n",
       "      <td>0.0</td>\n",
       "      <td>...</td>\n",
       "      <td>0.0</td>\n",
       "      <td>0.0</td>\n",
       "      <td>0.0</td>\n",
       "      <td>0.0</td>\n",
       "      <td>0.0</td>\n",
       "      <td>0.0</td>\n",
       "      <td>0.0</td>\n",
       "      <td>0.0</td>\n",
       "      <td>0.0</td>\n",
       "      <td>1.0</td>\n",
       "    </tr>\n",
       "    <tr>\n",
       "      <th>4</th>\n",
       "      <td>0.000236</td>\n",
       "      <td>0.004190</td>\n",
       "      <td>0.157037</td>\n",
       "      <td>0.157037</td>\n",
       "      <td>2000.0</td>\n",
       "      <td>0.0</td>\n",
       "      <td>0.0</td>\n",
       "      <td>0.0</td>\n",
       "      <td>0.0</td>\n",
       "      <td>0.0</td>\n",
       "      <td>...</td>\n",
       "      <td>0.0</td>\n",
       "      <td>0.0</td>\n",
       "      <td>0.0</td>\n",
       "      <td>0.0</td>\n",
       "      <td>0.0</td>\n",
       "      <td>0.0</td>\n",
       "      <td>0.0</td>\n",
       "      <td>0.0</td>\n",
       "      <td>0.0</td>\n",
       "      <td>1.0</td>\n",
       "    </tr>\n",
       "  </tbody>\n",
       "</table>\n",
       "<p>5 rows × 8551 columns</p>\n",
       "</div>"
      ],
      "text/plain": [
       "     SERIAL   OWNCOST     PERWT      SLWT  INCEARN  HISPAND_100  HISPAND_200  \\\n",
       "0  0.000000  0.007421  0.156116  0.156116   4000.0          0.0          0.0   \n",
       "1  0.000000  0.007421  0.176398  0.176398  36700.0          0.0          0.0   \n",
       "2  0.000236  0.004190  0.156116  0.156116  54000.0          0.0          0.0   \n",
       "3  0.000236  0.004190  0.153350  0.153350    900.0          0.0          0.0   \n",
       "4  0.000236  0.004190  0.157037  0.157037   2000.0          0.0          0.0   \n",
       "\n",
       "   HISPAND_300  HISPAND_412  HISPAND_413    ...      YRIMMIG_1992  \\\n",
       "0          0.0          0.0          0.0    ...               0.0   \n",
       "1          0.0          0.0          0.0    ...               0.0   \n",
       "2          0.0          0.0          0.0    ...               0.0   \n",
       "3          0.0          0.0          0.0    ...               0.0   \n",
       "4          0.0          0.0          0.0    ...               0.0   \n",
       "\n",
       "   YRIMMIG_1993  YRIMMIG_1994  YRIMMIG_1995  YRIMMIG_1996  YRIMMIG_1997  \\\n",
       "0           0.0           0.0           0.0           0.0           0.0   \n",
       "1           0.0           0.0           0.0           0.0           0.0   \n",
       "2           0.0           0.0           0.0           0.0           0.0   \n",
       "3           0.0           0.0           0.0           0.0           0.0   \n",
       "4           0.0           0.0           0.0           0.0           0.0   \n",
       "\n",
       "   YRIMMIG_1998  YRIMMIG_1999  YRIMMIG_2000  intercept  \n",
       "0           0.0           0.0           0.0        1.0  \n",
       "1           0.0           0.0           0.0        1.0  \n",
       "2           0.0           0.0           0.0        1.0  \n",
       "3           0.0           0.0           0.0        1.0  \n",
       "4           0.0           0.0           0.0        1.0  \n",
       "\n",
       "[5 rows x 8551 columns]"
      ]
     },
     "execution_count": 71,
     "metadata": {},
     "output_type": "execute_result"
    }
   ],
   "source": [
    "new_idf.iloc[:5]"
   ]
  },
  {
   "cell_type": "code",
   "execution_count": 73,
   "metadata": {},
   "outputs": [
    {
     "data": {
      "text/plain": [
       "True"
      ]
     },
     "execution_count": 73,
     "metadata": {},
     "output_type": "execute_result"
    }
   ],
   "source": [
    "'INCEARN' in idf.columns"
   ]
  },
  {
   "cell_type": "code",
   "execution_count": 75,
   "metadata": {},
   "outputs": [
    {
     "data": {
      "text/plain": [
       "<cudf.DataFrame ncols=8551 nrows=5568 >"
      ]
     },
     "execution_count": 75,
     "metadata": {},
     "output_type": "execute_result"
    }
   ],
   "source": [
    "idf"
   ]
  },
  {
   "cell_type": "code",
   "execution_count": 29,
   "metadata": {},
   "outputs": [
    {
     "name": "stdout",
     "output_type": "stream",
     "text": [
      "['SERIAL', 'OWNCOST', 'PERWT', 'SLWT', 'INCEARN']\n"
     ]
    }
   ],
   "source": [
    "new_col = df.columns\n",
    "a = []\n",
    "idf_cols = idf.columns\n",
    "for col in idf_cols:\n",
    "    if col in new_col:\n",
    "        a.append(col)\n",
    "        \n",
    "print(a)"
   ]
  },
  {
   "cell_type": "markdown",
   "metadata": {},
   "source": [
    "Create 60-40: training - testing"
   ]
  },
  {
   "cell_type": "code",
   "execution_count": 76,
   "metadata": {},
   "outputs": [
    {
     "name": "stdout",
     "output_type": "stream",
     "text": [
      "60% of 5568 is 4454\n",
      "train_df has 4454 rows | test_df has 1114 rows\n"
     ]
    }
   ],
   "source": [
    "# Fraction for train (test is 1-FRACTION)\n",
    "FRACTION=0.8\n",
    "validFraction=1.0-FRACTION\n",
    "n60 = int(len(idf) * FRACTION)\n",
    "print('60% of {} is {}'.format(len(idf), n60))\n",
    "y = idf['INCEARN']\n",
    "y_train = y.iloc[:n60]\n",
    "y_test = y.iloc[n60:]\n",
    "idf.drop_column('INCEARN')\n",
    "train_df = idf.iloc[:n60]\n",
    "if FRACTION<1.0:\n",
    "    test_df = idf.iloc[n60:]\n",
    "    print('train_df has {} rows | test_df has {} rows'.format(len(train_df), len(test_df)))\n",
    "else:\n",
    "    print('train_df has {} rows | test_df has {} rows'.format(len(train_df), 0))"
   ]
  },
  {
   "cell_type": "code",
   "execution_count": 34,
   "metadata": {},
   "outputs": [
    {
     "data": {
      "text/plain": [
       "<cudf.DataFrame ncols=8551 nrows=5568 >"
      ]
     },
     "execution_count": 34,
     "metadata": {},
     "output_type": "execute_result"
    }
   ],
   "source": [
    "idf"
   ]
  },
  {
   "cell_type": "code",
   "execution_count": 77,
   "metadata": {},
   "outputs": [
    {
     "data": {
      "text/plain": [
       "<cudf.DataFrame ncols=8550 nrows=5568 >"
      ]
     },
     "execution_count": 77,
     "metadata": {},
     "output_type": "execute_result"
    }
   ],
   "source": [
    "idf"
   ]
  },
  {
   "cell_type": "code",
   "execution_count": 31,
   "metadata": {},
   "outputs": [
    {
     "data": {
      "text/plain": [
       "<cudf.Series nrows=5568 >"
      ]
     },
     "execution_count": 31,
     "metadata": {},
     "output_type": "execute_result"
    }
   ],
   "source": [
    "y_train = idf['MIGRATE1']\n",
    "y_train"
   ]
  },
  {
   "cell_type": "markdown",
   "metadata": {},
   "source": [
    "Turn the dataframes into a matrix"
   ]
  },
  {
   "cell_type": "code",
   "execution_count": 41,
   "metadata": {
    "collapsed": true
   },
   "outputs": [
    {
     "ename": "ValueError",
     "evalue": "all columns must have the same dtype",
     "output_type": "error",
     "traceback": [
      "\u001b[0;31m---------------------------------------------------------------------------\u001b[0m",
      "\u001b[0;31mValueError\u001b[0m                                Traceback (most recent call last)",
      "\u001b[0;32m<ipython-input-41-a97bf449f3a5>\u001b[0m in \u001b[0;36m<module>\u001b[0;34m\u001b[0m\n\u001b[0;32m----> 1\u001b[0;31m \u001b[0mtrain_data_mat\u001b[0m \u001b[0;34m=\u001b[0m \u001b[0mtrain_df\u001b[0m\u001b[0;34m.\u001b[0m\u001b[0mas_gpu_matrix\u001b[0m\u001b[0;34m(\u001b[0m\u001b[0mcolumns\u001b[0m\u001b[0;34m=\u001b[0m\u001b[0mdf\u001b[0m\u001b[0;34m.\u001b[0m\u001b[0mcolumns\u001b[0m\u001b[0;34m[\u001b[0m\u001b[0;36m1\u001b[0m\u001b[0;34m:\u001b[0m\u001b[0;34m]\u001b[0m\u001b[0;34m)\u001b[0m\u001b[0;34m\u001b[0m\u001b[0;34m\u001b[0m\u001b[0m\n\u001b[0m\u001b[1;32m      2\u001b[0m \u001b[0mtrain_result_mat\u001b[0m \u001b[0;34m=\u001b[0m \u001b[0mtrain_df\u001b[0m\u001b[0;34m.\u001b[0m\u001b[0mas_gpu_matrix\u001b[0m\u001b[0;34m(\u001b[0m\u001b[0mcolumns\u001b[0m\u001b[0;34m=\u001b[0m\u001b[0;34m[\u001b[0m\u001b[0mdf\u001b[0m\u001b[0;34m.\u001b[0m\u001b[0mcolumns\u001b[0m\u001b[0;34m[\u001b[0m\u001b[0;36m0\u001b[0m\u001b[0;34m]\u001b[0m\u001b[0;34m]\u001b[0m\u001b[0;34m)\u001b[0m\u001b[0;34m\u001b[0m\u001b[0;34m\u001b[0m\u001b[0m\n\u001b[1;32m      3\u001b[0m \u001b[0;32mif\u001b[0m \u001b[0mFRACTION\u001b[0m\u001b[0;34m<\u001b[0m\u001b[0;36m1.0\u001b[0m\u001b[0;34m:\u001b[0m\u001b[0;34m\u001b[0m\u001b[0;34m\u001b[0m\u001b[0m\n\u001b[1;32m      4\u001b[0m     \u001b[0mtest_data_mat\u001b[0m \u001b[0;34m=\u001b[0m \u001b[0mtest_df\u001b[0m\u001b[0;34m.\u001b[0m\u001b[0mas_gpu_matrix\u001b[0m\u001b[0;34m(\u001b[0m\u001b[0mcolumns\u001b[0m\u001b[0;34m=\u001b[0m\u001b[0mdf\u001b[0m\u001b[0;34m.\u001b[0m\u001b[0mcolumns\u001b[0m\u001b[0;34m[\u001b[0m\u001b[0;36m1\u001b[0m\u001b[0;34m:\u001b[0m\u001b[0;34m]\u001b[0m\u001b[0;34m)\u001b[0m\u001b[0;34m\u001b[0m\u001b[0;34m\u001b[0m\u001b[0m\n\u001b[1;32m      5\u001b[0m     \u001b[0mtest_result_mat\u001b[0m \u001b[0;34m=\u001b[0m \u001b[0mtest_df\u001b[0m\u001b[0;34m.\u001b[0m\u001b[0mas_gpu_matrix\u001b[0m\u001b[0;34m(\u001b[0m\u001b[0mcolumns\u001b[0m\u001b[0;34m=\u001b[0m\u001b[0;34m[\u001b[0m\u001b[0mdf\u001b[0m\u001b[0;34m.\u001b[0m\u001b[0mcolumns\u001b[0m\u001b[0;34m[\u001b[0m\u001b[0;36m0\u001b[0m\u001b[0;34m]\u001b[0m\u001b[0;34m]\u001b[0m\u001b[0;34m)\u001b[0m\u001b[0;34m\u001b[0m\u001b[0;34m\u001b[0m\u001b[0m\n",
      "\u001b[0;32m/conda/envs/rapids/lib/python3.7/site-packages/cudf-0.6.1+1.g9ca9325-py3.7-linux-x86_64.egg/cudf/dataframe/dataframe.py\u001b[0m in \u001b[0;36mas_gpu_matrix\u001b[0;34m(self, columns, order)\u001b[0m\n\u001b[1;32m    969\u001b[0m         \u001b[0mdtype\u001b[0m \u001b[0;34m=\u001b[0m \u001b[0mcols\u001b[0m\u001b[0;34m[\u001b[0m\u001b[0;36m0\u001b[0m\u001b[0;34m]\u001b[0m\u001b[0;34m.\u001b[0m\u001b[0mdtype\u001b[0m\u001b[0;34m\u001b[0m\u001b[0;34m\u001b[0m\u001b[0m\n\u001b[1;32m    970\u001b[0m         \u001b[0;32mif\u001b[0m \u001b[0many\u001b[0m\u001b[0;34m(\u001b[0m\u001b[0mdtype\u001b[0m \u001b[0;34m!=\u001b[0m \u001b[0mc\u001b[0m\u001b[0;34m.\u001b[0m\u001b[0mdtype\u001b[0m \u001b[0;32mfor\u001b[0m \u001b[0mc\u001b[0m \u001b[0;32min\u001b[0m \u001b[0mcols\u001b[0m\u001b[0;34m)\u001b[0m\u001b[0;34m:\u001b[0m\u001b[0;34m\u001b[0m\u001b[0;34m\u001b[0m\u001b[0m\n\u001b[0;32m--> 971\u001b[0;31m             \u001b[0;32mraise\u001b[0m \u001b[0mValueError\u001b[0m\u001b[0;34m(\u001b[0m\u001b[0;34m'all columns must have the same dtype'\u001b[0m\u001b[0;34m)\u001b[0m\u001b[0;34m\u001b[0m\u001b[0;34m\u001b[0m\u001b[0m\n\u001b[0m\u001b[1;32m    972\u001b[0m         \u001b[0;32mfor\u001b[0m \u001b[0mk\u001b[0m\u001b[0;34m,\u001b[0m \u001b[0mc\u001b[0m \u001b[0;32min\u001b[0m \u001b[0mself\u001b[0m\u001b[0;34m.\u001b[0m\u001b[0m_cols\u001b[0m\u001b[0;34m.\u001b[0m\u001b[0mitems\u001b[0m\u001b[0;34m(\u001b[0m\u001b[0;34m)\u001b[0m\u001b[0;34m:\u001b[0m\u001b[0;34m\u001b[0m\u001b[0;34m\u001b[0m\u001b[0m\n\u001b[1;32m    973\u001b[0m             \u001b[0;32mif\u001b[0m \u001b[0mc\u001b[0m\u001b[0;34m.\u001b[0m\u001b[0mnull_count\u001b[0m \u001b[0;34m>\u001b[0m \u001b[0;36m0\u001b[0m\u001b[0;34m:\u001b[0m\u001b[0;34m\u001b[0m\u001b[0;34m\u001b[0m\u001b[0m\n",
      "\u001b[0;31mValueError\u001b[0m: all columns must have the same dtype"
     ]
    }
   ],
   "source": [
    "train_data_mat = train_df.as_gpu_matrix(columns=df.columns[1:])\n",
    "train_result_mat = train_df.as_gpu_matrix(columns=[df.columns[0]])\n",
    "if FRACTION<1.0:\n",
    "    test_data_mat = test_df.as_gpu_matrix(columns=df.columns[1:])\n",
    "    test_result_mat = test_df.as_gpu_matrix(columns=[df.columns[0]])"
   ]
  },
  {
   "cell_type": "code",
   "execution_count": 114,
   "metadata": {},
   "outputs": [
    {
     "name": "stdout",
     "output_type": "stream",
     "text": [
      "18418.727409073865\n",
      "17807.325\n"
     ]
    }
   ],
   "source": [
    "print(train_df['INCEARN'].mean())\n",
    "if FRACTION<1.0:\n",
    "    print(test_df['INCEARN'].mean())"
   ]
  },
  {
   "cell_type": "code",
   "execution_count": 115,
   "metadata": {},
   "outputs": [
    {
     "name": "stdout",
     "output_type": "stream",
     "text": [
      "(8001, 10818)\n",
      "(8001, 1)\n",
      "(2000, 10818)\n",
      "(2000, 1)\n"
     ]
    }
   ],
   "source": [
    "print(train_data_mat.shape)\n",
    "print(train_result_mat.shape)\n",
    "if FRACTION<1.0:\n",
    "    print(test_data_mat.shape)\n",
    "    print(test_result_mat.shape)"
   ]
  },
  {
   "cell_type": "markdown",
   "metadata": {},
   "source": [
    "The ctypes pointer to the gpu matrices"
   ]
  },
  {
   "cell_type": "code",
   "execution_count": 39,
   "metadata": {},
   "outputs": [
    {
     "ename": "NameError",
     "evalue": "name 'train_data_mat' is not defined",
     "output_type": "error",
     "traceback": [
      "\u001b[0;31m---------------------------------------------------------------------------\u001b[0m",
      "\u001b[0;31mNameError\u001b[0m                                 Traceback (most recent call last)",
      "\u001b[0;32m<ipython-input-39-ead508fd7eb3>\u001b[0m in \u001b[0;36m<module>\u001b[0;34m\u001b[0m\n\u001b[0;32m----> 1\u001b[0;31m \u001b[0mtrain_data_mat_ptr\u001b[0m \u001b[0;34m=\u001b[0m \u001b[0mtrain_data_mat\u001b[0m\u001b[0;34m.\u001b[0m\u001b[0mdevice_ctypes_pointer\u001b[0m\u001b[0;34m\u001b[0m\u001b[0;34m\u001b[0m\u001b[0m\n\u001b[0m\u001b[1;32m      2\u001b[0m \u001b[0mtrain_result_mat_ptr\u001b[0m \u001b[0;34m=\u001b[0m \u001b[0mtrain_result_mat\u001b[0m\u001b[0;34m.\u001b[0m\u001b[0mdevice_ctypes_pointer\u001b[0m\u001b[0;34m\u001b[0m\u001b[0;34m\u001b[0m\u001b[0m\n\u001b[1;32m      3\u001b[0m \u001b[0mprint\u001b[0m\u001b[0;34m(\u001b[0m\u001b[0;34m'train_data_mat_ptr address'\u001b[0m\u001b[0;34m,\u001b[0m \u001b[0mhex\u001b[0m\u001b[0;34m(\u001b[0m\u001b[0mtrain_data_mat_ptr\u001b[0m\u001b[0;34m.\u001b[0m\u001b[0mvalue\u001b[0m\u001b[0;34m)\u001b[0m\u001b[0;34m)\u001b[0m\u001b[0;34m\u001b[0m\u001b[0;34m\u001b[0m\u001b[0m\n\u001b[1;32m      4\u001b[0m \u001b[0mprint\u001b[0m\u001b[0;34m(\u001b[0m\u001b[0;34m'train_result_mat_ptr address'\u001b[0m\u001b[0;34m,\u001b[0m \u001b[0mhex\u001b[0m\u001b[0;34m(\u001b[0m\u001b[0mtrain_result_mat_ptr\u001b[0m\u001b[0;34m.\u001b[0m\u001b[0mvalue\u001b[0m\u001b[0;34m)\u001b[0m\u001b[0;34m)\u001b[0m\u001b[0;34m\u001b[0m\u001b[0;34m\u001b[0m\u001b[0m\n\u001b[1;32m      5\u001b[0m \u001b[0;32mif\u001b[0m \u001b[0mFRACTION\u001b[0m\u001b[0;34m<\u001b[0m\u001b[0;36m1.0\u001b[0m\u001b[0;34m:\u001b[0m\u001b[0;34m\u001b[0m\u001b[0;34m\u001b[0m\u001b[0m\n",
      "\u001b[0;31mNameError\u001b[0m: name 'train_data_mat' is not defined"
     ]
    }
   ],
   "source": [
    "train_data_mat_ptr = train_data_mat.device_ctypes_pointer\n",
    "train_result_mat_ptr = train_result_mat.device_ctypes_pointer\n",
    "print('train_data_mat_ptr address', hex(train_data_mat_ptr.value))\n",
    "print('train_result_mat_ptr address', hex(train_result_mat_ptr.value))\n",
    "if FRACTION<1.0:\n",
    "    test_data_mat_ptr = test_data_mat.device_ctypes_pointer\n",
    "    test_result_mat_ptr = test_result_mat.device_ctypes_pointer\n",
    "    print('test_data_mat_ptr address', hex(test_data_mat_ptr.value))\n",
    "    print('test_result_mat_ptr address', hex(test_result_mat_ptr.value))"
   ]
  },
  {
   "cell_type": "code",
   "execution_count": 117,
   "metadata": {},
   "outputs": [
    {
     "data": {
      "text/plain": [
       "'/rapids/notebooks/wip/notebooks-wip/wip'"
      ]
     },
     "execution_count": 117,
     "metadata": {},
     "output_type": "execute_result"
    }
   ],
   "source": [
    "import os\n",
    "os.getcwd()"
   ]
  },
  {
   "cell_type": "code",
   "execution_count": 83,
   "metadata": {},
   "outputs": [],
   "source": [
    "def RunH2Oaiglm(arg):\n",
    "    intercept,standardize, lambda_min_ratio, nFolds, nAlphas, nLambdas, nGPUs = arg\n",
    "    \n",
    "    \n",
    "    ## Solve\n",
    "    t0 = time.time()\n",
    "    print(\"vars: %d %d %d %d %d %d %d\" % (sourceDev, mTrain, n, mValid, intercept, standardize, precision))\n",
    "    enet.fit(sourceDev, mTrain, n, mValid, intercept, standardize, precision, a, b, c, d, e)\n",
    "    t1 = time.time()\n",
    "    print(\"Done Solving\")\n",
    "    print(\"Time to train H2O AI GLM: %r\" % (t1-t0))"
   ]
  },
  {
   "cell_type": "code",
   "execution_count": 80,
   "metadata": {},
   "outputs": [
    {
     "ename": "NameError",
     "evalue": "name 'maxNGPUS' is not defined",
     "output_type": "error",
     "traceback": [
      "\u001b[0;31m---------------------------------------------------------------------------\u001b[0m",
      "\u001b[0;31mNameError\u001b[0m                                 Traceback (most recent call last)",
      "\u001b[0;32m<ipython-input-80-210f10f4fd04>\u001b[0m in \u001b[0;36m<module>\u001b[0;34m\u001b[0m\n\u001b[1;32m      3\u001b[0m \u001b[0mnAlphas\u001b[0m\u001b[0;34m=\u001b[0m\u001b[0;36m8\u001b[0m\u001b[0;34m\u001b[0m\u001b[0;34m\u001b[0m\u001b[0m\n\u001b[1;32m      4\u001b[0m \u001b[0mnLambdas\u001b[0m\u001b[0;34m=\u001b[0m\u001b[0;36m100\u001b[0m\u001b[0;34m\u001b[0m\u001b[0;34m\u001b[0m\u001b[0m\n\u001b[0;32m----> 5\u001b[0;31m \u001b[0mnGPUs\u001b[0m\u001b[0;34m=\u001b[0m\u001b[0mmaxNGPUS\u001b[0m \u001b[0;31m# choose all GPUs\u001b[0m\u001b[0;34m\u001b[0m\u001b[0;34m\u001b[0m\u001b[0m\n\u001b[0m\u001b[1;32m      6\u001b[0m \u001b[0;34m\u001b[0m\u001b[0m\n\u001b[1;32m      7\u001b[0m \u001b[0;31m# Run Model\u001b[0m\u001b[0;34m\u001b[0m\u001b[0;34m\u001b[0m\u001b[0;34m\u001b[0m\u001b[0m\n",
      "\u001b[0;31mNameError\u001b[0m: name 'maxNGPUS' is not defined"
     ]
    }
   ],
   "source": [
    "lambda_min_ratio=1E-9\n",
    "nFolds=5\n",
    "nAlphas=8\n",
    "nLambdas=100\n",
    "nGPUs=maxNGPUS # choose all GPUs\n",
    "\n",
    "# Run Model\n",
    "arg = intercept,standardize, lambda_min_ratio, nFolds, nAlphas, nLambdas, nGPUs \n",
    "RunH2Oaiglm(arg)\n"
   ]
  },
  {
   "cell_type": "code",
   "execution_count": 126,
   "metadata": {},
   "outputs": [
    {
     "data": {
      "text/plain": [
       "<numba.cuda.cudadrv.devicearray.DeviceNDArray at 0x7f3f2583e4a8>"
      ]
     },
     "execution_count": 126,
     "metadata": {},
     "output_type": "execute_result"
    }
   ],
   "source": [
    "test_data_mat"
   ]
  },
  {
   "cell_type": "code",
   "execution_count": 134,
   "metadata": {},
   "outputs": [
    {
     "name": "stdout",
     "output_type": "stream",
     "text": [
      "               SERIAL               OWNCOST             HHINCOME                PERWT                 SLWT                 INCTOT               FTOTINC ...  intercept\n",
      "8000  0.7966101694915254  0.032123533588694755  0.09109786669658661  0.16407089151450055  0.16407089151450055  0.0028770235518528575  0.010858087083259606 ...        1.0\n",
      "[10811 more columns]\n"
     ]
    }
   ],
   "source": [
    "print(test_df.head(1))"
   ]
  },
  {
   "cell_type": "code",
   "execution_count": 85,
   "metadata": {},
   "outputs": [],
   "source": [
    "def to_nparray(x):\n",
    "    if isinstance(x,np.ndarray) or isinstance(x,pd.DataFrame):\n",
    "        return np.array(x)\n",
    "    elif isinstance(x,np.float64):\n",
    "        return np.array([x])\n",
    "    elif isinstance(x,cudf.DataFrame) or isinstance(x,cudf.Series):\n",
    "        return x.to_pandas().values\n",
    "    return x"
   ]
  },
  {
   "cell_type": "code",
   "execution_count": 91,
   "metadata": {},
   "outputs": [
    {
     "name": "stdout",
     "output_type": "stream",
     "text": [
      "CPU times: user 25.3 s, sys: 37.9 s, total: 1min 3s\n",
      "Wall time: 1min 6s\n"
     ]
    }
   ],
   "source": [
    "%%time\n",
    "from cuml.solvers import SGD as cumlSGD\n",
    "learning_rate = 'adaptive'\n",
    "datatype = np.float32\n",
    "penalty = 'elasticnet'\n",
    "loss = 'squared_loss'\n",
    "cu_sgd = cumlSGD(learning_rate=learning_rate, eta0=0.001, epochs=5000,\n",
    "                 batch_size=1024,\n",
    "                 tol=0.01, penalty=penalty, loss=loss)\n",
    "cu_sgd.fit(train_df, y_train)"
   ]
  },
  {
   "cell_type": "code",
   "execution_count": null,
   "metadata": {},
   "outputs": [],
   "source": [
    "%%time\n",
    "from cuml.solvers import SGD as cumlSGD\n",
    "learning_rate = 'adaptive'\n",
    "datatype = np.float32\n",
    "penalty = 'elasticnet'\n",
    "loss = 'squared_loss'\n",
    "cu_sgd = cumlSGD(learning_rate=learning_rate, eta0=0.001, epochs=500000,\n",
    "                 batch_size=1024,\n",
    "                 tol=0.01, penalty=penalty, loss=loss)\n",
    "cu_sgd.fit(train_df, y_train)"
   ]
  },
  {
   "cell_type": "code",
   "execution_count": 92,
   "metadata": {},
   "outputs": [],
   "source": [
    "from sklearn.metrics import mean_squared_error\n",
    "y_pred = cu_sgd.predict(test_df)\n",
    "y_pred = to_nparray(y_pred).ravel()\n",
    "error_cu = mean_squared_error(y_test,y_pred)"
   ]
  },
  {
   "cell_type": "code",
   "execution_count": 93,
   "metadata": {},
   "outputs": [
    {
     "data": {
      "text/plain": [
       "887368624.085461"
      ]
     },
     "execution_count": 93,
     "metadata": {},
     "output_type": "execute_result"
    }
   ],
   "source": [
    "error_cu #when epochs = 5000"
   ]
  },
  {
   "cell_type": "code",
   "execution_count": 90,
   "metadata": {},
   "outputs": [
    {
     "data": {
      "text/plain": [
       "925355838.1037587"
      ]
     },
     "execution_count": 90,
     "metadata": {},
     "output_type": "execute_result"
    }
   ],
   "source": [
    "error_cu # epochs = 500"
   ]
  },
  {
   "cell_type": "markdown",
   "metadata": {},
   "source": [
    "### Import H2OAIGLM"
   ]
  },
  {
   "cell_type": "code",
   "execution_count": 82,
   "metadata": {},
   "outputs": [
    {
     "ename": "ModuleNotFoundError",
     "evalue": "No module named 'h2oaiglm'",
     "output_type": "error",
     "traceback": [
      "\u001b[0;31m---------------------------------------------------------------------------\u001b[0m",
      "\u001b[0;31mModuleNotFoundError\u001b[0m                       Traceback (most recent call last)",
      "\u001b[0;32m<ipython-input-82-c623ffc1e3d7>\u001b[0m in \u001b[0;36m<module>\u001b[0;34m\u001b[0m\n\u001b[1;32m      1\u001b[0m \u001b[0;31m# Load H2OAIGLM\u001b[0m\u001b[0;34m\u001b[0m\u001b[0;34m\u001b[0m\u001b[0;34m\u001b[0m\u001b[0m\n\u001b[0;32m----> 2\u001b[0;31m \u001b[0;32mimport\u001b[0m \u001b[0mh2oaiglm\u001b[0m \u001b[0;32mas\u001b[0m \u001b[0mh2oaiglm\u001b[0m\u001b[0;34m\u001b[0m\u001b[0;34m\u001b[0m\u001b[0m\n\u001b[0m\u001b[1;32m      3\u001b[0m \u001b[0;32mfrom\u001b[0m \u001b[0mctypes\u001b[0m \u001b[0;32mimport\u001b[0m \u001b[0;34m*\u001b[0m\u001b[0;34m\u001b[0m\u001b[0;34m\u001b[0m\u001b[0m\n\u001b[1;32m      4\u001b[0m \u001b[0;32mimport\u001b[0m \u001b[0mtime\u001b[0m\u001b[0;34m\u001b[0m\u001b[0;34m\u001b[0m\u001b[0m\n\u001b[1;32m      5\u001b[0m \u001b[0;32mif\u001b[0m \u001b[0manim\u001b[0m\u001b[0;34m==\u001b[0m\u001b[0;36m1\u001b[0m\u001b[0;34m:\u001b[0m\u001b[0;34m\u001b[0m\u001b[0;34m\u001b[0m\u001b[0m\n",
      "\u001b[0;31mModuleNotFoundError\u001b[0m: No module named 'h2oaiglm'"
     ]
    }
   ],
   "source": [
    "# Load H2OAIGLM\n",
    "import h2oaiglm as h2oaiglm\n",
    "from ctypes import *\n",
    "import time\n",
    "if anim==1:\n",
    "    import pandas as pd\n",
    "\n",
    "a=c_void_p(train_data_mat_ptr.value)\n",
    "b=c_void_p(train_result_mat_ptr.value)\n",
    "if FRACTION<1.0:\n",
    "    c=c_void_p(test_data_mat_ptr.value)\n",
    "    d=c_void_p(test_result_mat_ptr.value)\n",
    "else:\n",
    "    c=c_void_p(0)\n",
    "    d=c_void_p(0)"
   ]
  },
  {
   "cell_type": "markdown",
   "metadata": {},
   "source": [
    "### Define some helper methods for plotting and running the algorithm"
   ]
  },
  {
   "cell_type": "code",
   "execution_count": 25,
   "metadata": {},
   "outputs": [
    {
     "name": "stdout",
     "output_type": "stream",
     "text": [
      "Maximum Number of GPUS: 1\n"
     ]
    }
   ],
   "source": [
    "def new_alpha(row_fold):\n",
    "    if row_fold == 0:\n",
    "        return -0.025\n",
    "    elif row_fold == 1:\n",
    "        return -0.05\n",
    "    elif row_fold == 3:\n",
    "        return 0.025\n",
    "    elif row_fold == 4:\n",
    "        return 0.05\n",
    "    else: return 0\n",
    "\n",
    "def plot_cpu_perf(axis, cpu_labels, cpu_snapshot):\n",
    "    axis.cla()\n",
    "    axis.grid(False)\n",
    "    axis.set_ylim([0,100])\n",
    "    axis.set_ylabel('Percent', labelpad=2, fontsize = 14)\n",
    "    axis.bar(cpu_labels, cpu_snapshot, color='dodgerblue')\n",
    "    axis.set_title('CPU Utilization', fontsize = 16)\n",
    "    \n",
    "def plot_gpu_perf(axis, gpu_labels, gpu_snapshot):\n",
    "    axis.cla()\n",
    "    axis.grid(False)\n",
    "    axis.set_ylim([0,100])\n",
    "    axis.set_xticks(gpu_labels)\n",
    "    axis.set_ylabel('Percent', labelpad=2, fontsize = 14)\n",
    "    axis.bar(gpu_labels, gpu_snapshot, width =0.5, color = 'limegreen')\n",
    "    axis.set_title('GPU Utilization', fontsize = 16)\n",
    "    \n",
    "def plot_glm_results(axis, results, best_rmse, cb):\n",
    "    axis.cla()\n",
    "    axis.set_xscale('log')\n",
    "    axis.set_xlim([0.1, 1e9])\n",
    "    axis.set_ylim([-0.12, 1.12])\n",
    "    axis.set_yticks([x/7. for x in range(0,8)])\n",
    "    axis.set_ylabel('Parameter 1:  '+r'$\\alpha$', fontsize = 16)\n",
    "    axis.set_xlabel('Parameter 2:  '+r'$\\lambda$', fontsize = 16)\n",
    "    num_models = min(4000,int(4000*results.shape[0]/2570))\n",
    "    axis.set_title('Elastic Net Models Trained and Evaluated: ' + str(num_models), fontsize = 16)\n",
    "\n",
    "    try:\n",
    "        cm = ListedColormap(sns.color_palette(\"RdYlGn\", 10).as_hex())\n",
    "        cf = axis.scatter(results['lambda'], results['alpha_prime'], c=results['rel_acc'], \n",
    "                    cmap=cm, vmin=0, vmax=1)\n",
    "        axis.plot(best_rmse['lambda'],best_rmse['alpha_prime'], 'o',\n",
    "            ms=15, mec='k', mfc='none', mew=2)\n",
    "\n",
    "        if not cb:\n",
    "            cb = pl.colorbar(cf, ax=axis)\n",
    "            cb.set_label('Relative  Validation  Accuracy', rotation=270, \n",
    "                         labelpad=18, fontsize = 16)   \n",
    "        cb.update_normal(cf)\n",
    "    except:\n",
    "        #print(\"plot_glm_results exception -- no frame\")\n",
    "        pass\n",
    "\n",
    "from py3nvml.py3nvml import * # Python Library that can query the state of your GPU\n",
    "%matplotlib inline\n",
    "%config InlineBackend.figure_format = 'retina'\n",
    "import seaborn as sns\n",
    "sns.set_style(\"whitegrid\")\n",
    "import psutil\n",
    "import numpy as np\n",
    "import pylab as pl\n",
    "from IPython import display\n",
    "import matplotlib.gridspec as gridspec\n",
    "from matplotlib.colors import ListedColormap\n",
    "import sys\n",
    "import subprocess\n",
    "maxNGPUS = int(subprocess.check_output(\"nvidia-smi -L | wc -l\", shell=True))\n",
    "print(\"Maximum Number of GPUS:\", maxNGPUS)\n",
    "\n",
    "nvmlInit()\n",
    "deviceCount = nvmlDeviceGetCount()\n",
    "for i in range(deviceCount):\n",
    "    handle = nvmlDeviceGetHandleByIndex(i)\n",
    "    #print(\"Device {}: {}\".format(i, nvmlDeviceGetName(handle)))\n",
    "    #print (\"Driver Version:\", nvmlSystemGetDriverVersion())\n",
    "\n",
    "import os\n",
    "def RunAnimation(arg):\n",
    "    deviceCount = arg\n",
    "    file = os.getcwd() + \"/rmse.txt\"\n",
    "    fig = pl.figure(figsize = (9,9))\n",
    "    pl.rcParams['xtick.labelsize'] = 14\n",
    "    pl.rcParams['ytick.labelsize'] = 14\n",
    "    gs = gridspec.GridSpec(3, 2, wspace=0.3, hspace=0.4)\n",
    "    ax1 = pl.subplot(gs[0,-2])\n",
    "    ax2 = pl.subplot(gs[0,1])\n",
    "    ax3 = pl.subplot(gs[1:,:])\n",
    "    fig.suptitle('H2O.ai Machine Learning $-$ Generalized Linear Modeling', size=18)\n",
    "\n",
    "    pl.gcf().subplots_adjust(bottom=0.2)\n",
    "\n",
    "    cb = False\n",
    "    os.system(\"mkdir -p images\")\n",
    "    i=0\n",
    "    while(True):\n",
    "        try:\n",
    "            #cpu\n",
    "            snapshot = psutil.cpu_percent(percpu=True)\n",
    "            cpu_labels = range(1,len(snapshot)+1)\n",
    "            plot_cpu_perf(ax1, cpu_labels, snapshot)\n",
    "    \n",
    "            #gpu\n",
    "            gpu_snapshot = []\n",
    "            gpu_labels = list(range(1,deviceCount+1))\n",
    "            for j in range(deviceCount):\n",
    "                handle = nvmlDeviceGetHandleByIndex(j)\n",
    "                util = nvmlDeviceGetUtilizationRates(handle)\n",
    "                gpu_snapshot.append(util.gpu)\n",
    "            gpu_snapshot = gpu_snapshot   \n",
    "            plot_gpu_perf(ax2, gpu_labels, gpu_snapshot)\n",
    "    \n",
    "            res = pd.read_csv(file, sep=\"\\s+\",header=None,names=['time','pass','fold','a','i','alpha','lambda','trainrmse','ivalidrmse','validrmse'])\n",
    "            \n",
    "            res['rel_acc'] = ((38000- res['validrmse'])/(38000-28000))\n",
    "            res['alpha_prime'] = res['alpha'] + res['fold'].apply(lambda x: new_alpha(x))\n",
    "\n",
    "            best = res.ix[res['rel_acc']==np.max(res['rel_acc']),:]\n",
    "            plot_glm_results(ax3, res, best.tail(1), cb)\n",
    "            # flag for colorbar to avoid redrawing\n",
    "            cb = True\n",
    "\n",
    "            # Add footnotes\n",
    "            footnote_text = \"*U.S. Census dataset (predict Income): 45k rows, 10k cols\\nParameters: 5-fold cross-validation, \" + r'$\\alpha = \\{\\frac{i}{7},i=0\\ldots7\\}$' + \", \"\\\n",
    "   'full $\\lambda$-' + \"search\"\n",
    "            #pl.figtext(.05, -.04, footnote_text, fontsize = 14,)\n",
    "            pl.annotate(footnote_text, (0,0), (-30, -50), fontsize = 12,\n",
    "                        xycoords='axes fraction', textcoords='offset points', va='top')\n",
    "\n",
    "            #update the graphics\n",
    "            display.display(pl.gcf())\n",
    "            display.clear_output(wait=True)\n",
    "            time.sleep(0.01)\n",
    "\n",
    "            #save the images\n",
    "            saveimage=0\n",
    "            if saveimage:\n",
    "                file_name = './images/glm_run_%04d.png' % (i,)\n",
    "                pl.savefig(file_name, dpi=200)\n",
    "            i=i+1\n",
    "        \n",
    "        except KeyboardInterrupt:\n",
    "            break\n",
    "        #except:\n",
    "        #    #print(\"Could not Create Frame\")\n",
    "        #    pass"
   ]
  },
  {
   "cell_type": "markdown",
   "metadata": {},
   "source": [
    "### Choose Data Size and Order and How was processed for H2OAIGLM"
   ]
  },
  {
   "cell_type": "code",
   "execution_count": 26,
   "metadata": {},
   "outputs": [
    {
     "name": "stdout",
     "output_type": "stream",
     "text": [
      "n=8550 mTrain=4455 mValid=1114\n",
      "fortran=1\n",
      "{dtype('float64')}\n",
      "1\n",
      "double precision\n"
     ]
    }
   ],
   "source": [
    "intercept = 1 #\n",
    "standardize = 0\n",
    "n=train_data_mat.shape[1]\n",
    "mTrain=train_data_mat.shape[0]\n",
    "if FRACTION<1.0:\n",
    "    mValid=test_data_mat.shape[0]\n",
    "else:\n",
    "    mValid=0\n",
    "print(\"n=%d mTrain=%d mValid=%d\" % (n,mTrain,mValid))\n",
    "# Order of data\n",
    "fortran = 1\n",
    "print(\"fortran=%d\" % (fortran))\n",
    "result={df[k].dtype for k in df.columns}\n",
    "print(result)\n",
    "print(fortran)\n",
    "if result.pop() == np.dtype('float64'):\n",
    "    print(\"double precision\")\n",
    "    precision=1\n",
    "else:\n",
    "    print(\"single precision\")\n",
    "    precision=0"
   ]
  },
  {
   "cell_type": "markdown",
   "metadata": {},
   "source": [
    "### Help function to use Mapd->pygdf data pointers in GPU on H2OAIGLM"
   ]
  },
  {
   "cell_type": "code",
   "execution_count": 27,
   "metadata": {
    "collapsed": true
   },
   "outputs": [],
   "source": [
    "def RunH2Oaiglm(arg):\n",
    "    intercept,standardize, lambda_min_ratio, nFolds, nAlphas, nLambdas, nGPUs = arg\n",
    "    \n",
    "        # set solver cpu/gpu according to input args\n",
    "    if((nGPUs>0) and (h2oaiglm.ElasticNetSolverGPU is None)):\n",
    "        print(\"\\nGPU solver unavailable, using CPU solver\\n\")\n",
    "        nGPUs=0\n",
    "\n",
    "    sharedA = 0\n",
    "    sourceme = 0\n",
    "    sourceDev = 0\n",
    "    nThreads = 1 if(nGPUs==0) else nGPUs # not required number of threads, but normal.  Bit more optimal to use 2 threads for CPU, but 1 thread per GPU is optimal.\n",
    "\n",
    "    #print(\"Setting up Solver\")\n",
    "    os.system(\"rm -f rmse.txt ; touch rmse.txt ; rm -f varimp.txt ; touch varimp.txt\")\n",
    "    Solver = h2oaiglm.ElasticNetSolverGPU if(nGPUs>0) else h2oaiglm.ElasticNetSolverCPU\n",
    "\n",
    "\n",
    "    #  Solver = h2oaiglm.ElasticNetSolverCPU\n",
    "    assert Solver != None, \"Couldn't instantiate ElasticNetSolver\"\n",
    "    enet = Solver(sharedA, nThreads, nGPUs, 'c' if fortran else 'r', intercept, standardize, lambda_min_ratio, nLambdas, nFolds, nAlphas)\n",
    "\n",
    "    # Not using weights\n",
    "    e=c_void_p(0)\n",
    "\n",
    "    print(\"Solving\")\n",
    "    ## Solve\n",
    "    t0 = time.time()\n",
    "    print(\"vars: %d %d %d %d %d %d %d\" % (sourceDev, mTrain, n, mValid, intercept, standardize, precision))\n",
    "    enet.fit(sourceDev, mTrain, n, mValid, intercept, standardize, precision, a, b, c, d, e)\n",
    "    t1 = time.time()\n",
    "    print(\"Done Solving\")\n",
    "    print(\"Time to train H2O AI GLM: %r\" % (t1-t0))"
   ]
  },
  {
   "cell_type": "markdown",
   "metadata": {},
   "source": [
    "### Train 4000 Elastic Net Models (5-fold cross-validation, 8 $\\alpha$ values, 100 $\\lambda$ values)"
   ]
  },
  {
   "cell_type": "code",
   "execution_count": null,
   "metadata": {},
   "outputs": [],
   "source": [
    "lambda_min_ratio=1E-9\n",
    "nFolds=5\n",
    "nAlphas=8\n",
    "nLambdas=100\n",
    "nGPUs=maxNGPUS # choose all GPUs\n",
    "\n",
    "\n",
    "if run==1 and anim==0:\n",
    "    # Run Model\n",
    "    arg = intercept,standardize, lambda_min_ratio, nFolds, nAlphas, nLambdas, nGPUs \n",
    "    RunH2Oaiglm(arg)\n",
    "\n",
    "if run==1 and anim==1:\n",
    "    from threading import Thread\n",
    "\n",
    "    # Run Model\n",
    "    arg = intercept,standardize, lambda_min_ratio, nFolds, nAlphas, nLambdas, nGPUs \n",
    "    background_thread = Thread(target=RunH2Oaiglm, args=(arg,))\n",
    "    background_thread.start()"
   ]
  },
  {
   "cell_type": "markdown",
   "metadata": {},
   "source": [
    "![ScreenShot](gtc-2017-anaconda_v3_key.png)"
   ]
  },
  {
   "cell_type": "code",
   "execution_count": null,
   "metadata": {
    "scrolled": false
   },
   "outputs": [
    {
     "data": {
      "image/png": "[encoded data removed]",
      "text/plain": [
       "<matplotlib.figure.Figure at 0x7f2dff66ce80>"
      ]
     },
     "metadata": {
      "image/png": {
       "height": 600,
       "width": 579
      }
     },
     "output_type": "display_data"
    }
   ],
   "source": [
    "if run==1 and anim==1:\n",
    "    # Show Animation\n",
    "    arg = nGPUs\n",
    "    RunAnimation(arg)"
   ]
  }
 ],
 "metadata": {
  "kernelspec": {
   "display_name": "Python 3",
   "language": "python",
   "name": "python3"
  },
  "language_info": {
   "codemirror_mode": {
    "name": "ipython",
    "version": 3
   },
   "file_extension": ".py",
   "mimetype": "text/x-python",
   "name": "python",
   "nbconvert_exporter": "python",
   "pygments_lexer": "ipython3",
   "version": "3.7.3"
  }
 },
 "nbformat": 4,
 "nbformat_minor": 2
}
